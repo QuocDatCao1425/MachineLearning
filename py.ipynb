{
 "cells": [
  {
   "cell_type": "markdown",
   "metadata": {
    "colab_type": "text",
    "id": "view-in-github"
   },
   "source": [
    "<a href=\"https://colab.research.google.com/github/everestso/Summer24/blob/main/AI24Ch3a.ipynb\" target=\"_parent\"><img src=\"https://colab.research.google.com/assets/colab-badge.svg\" alt=\"Open In Colab\"/></a>"
   ]
  },
  {
   "cell_type": "code",
   "execution_count": 191,
   "metadata": {
    "id": "Gbe5KqWcISTq"
   },
   "outputs": [],
   "source": [
    "import random\n",
    "import heapq"
   ]
  },
  {
   "cell_type": "markdown",
   "metadata": {
    "id": "PHnbnN2uV8zr"
   },
   "source": [
    "# Tile Sliding Domain: Initial State Space"
   ]
  },
  {
   "cell_type": "code",
   "execution_count": 192,
   "metadata": {
    "id": "jPCNOa4W-5yq"
   },
   "outputs": [],
   "source": [
    "StateDimension=3\n",
    "InitialState = [1,2,3,4,5,6,0,7,8]\n",
    "GoalState=[1,2,3,4,5,6,7,8,0]\n",
    "Actions = lambda s: ['u', 'd', 'l', 'r']\n",
    "Opposite=dict([('u','d'),('d','u'),('l','r'),('r','l'), (None, None)])"
   ]
  },
  {
   "cell_type": "code",
   "execution_count": 193,
   "metadata": {
    "id": "XjnzkkC8_HE8"
   },
   "outputs": [],
   "source": [
    "def Result(state, action):\n",
    "  i = state.index(0)\n",
    "  newState = list(state)\n",
    "  row,col=i//StateDimension, i % StateDimension\n",
    "  if ( (action=='u' and row==0) or\n",
    "       (action=='d' and row==StateDimension-1) or\n",
    "       (action=='l' and col==0) or\n",
    "       (action=='r' and col==StateDimension-1)):\n",
    "      return newState\n",
    "  if action=='u':\n",
    "    l,r = row*StateDimension+col, (row-1)*StateDimension+col\n",
    "  elif action=='d':\n",
    "    l,r = row*StateDimension+col, (row+1)*StateDimension+col\n",
    "  elif action=='l':\n",
    "    l,r = row*StateDimension+col, row*StateDimension+col-1\n",
    "  elif action=='r' :\n",
    "    l,r = row*StateDimension+col, row*StateDimension+col+1\n",
    "  newState[l], newState[r] = newState[r], newState[l]\n",
    "  return newState\n",
    "\n",
    "def PrintState(s):\n",
    "  for i in range(0,len(s),StateDimension):\n",
    "    print(s[i:i+StateDimension])\n",
    "\n",
    "def LegalMove(state, action):\n",
    "  i = state.index(0)\n",
    "  row,col=i//StateDimension, i % StateDimension\n",
    "  newState = state.copy()\n",
    "  if ( (action=='u' and row==0) or\n",
    "       (action=='d' and row==StateDimension-1) or\n",
    "       (action=='l' and col==0) or\n",
    "       (action=='r' and col==StateDimension-1)):\n",
    "      return False\n",
    "  return True\n"
   ]
  },
  {
   "cell_type": "code",
   "execution_count": 194,
   "metadata": {
    "id": "4z6hE5HsNwHf"
   },
   "outputs": [],
   "source": [
    "def SingleTileManhattanDistance(tile, left, right):\n",
    "  leftIndex = left.index(tile)\n",
    "  rightIndex = right.index(tile)\n",
    "  return (abs(leftIndex//StateDimension-rightIndex//StateDimension) +\n",
    "          abs(leftIndex%StateDimension-rightIndex%StateDimension))\n",
    "\n",
    "def ManhattanDistance(left, right):\n",
    "  distances = [SingleTileManhattanDistance(tile, left, right)\n",
    "     for tile in range(1, StateDimension**2)]\n",
    "  ### print (\"Distances= \", distances)\n",
    "  return sum(distances)\n"
   ]
  },
  {
   "cell_type": "raw",
   "metadata": {
    "id": "7PE_gAdLSY_z"
   },
   "source": [
    "def OutOfPlace(left, right):\n",
    "  distances = [left[i]!=right[i] and right[i] != 0\n",
    "     for i in range(StateDimension**2)]\n",
    "  return sum(distances)"
   ]
  },
  {
   "cell_type": "code",
   "execution_count": 195,
   "metadata": {},
   "outputs": [],
   "source": [
    "def OutOfPlace(left, right):\n",
    "    n = len(left)  # dynamically detect puzzle size (should be 16 for 4x4)\n",
    "    distances = [left[i] != right[i] and right[i] != 0 for i in range(n)]\n",
    "    return sum(distances)\n"
   ]
  },
  {
   "cell_type": "code",
   "execution_count": 196,
   "metadata": {
    "colab": {
     "base_uri": "https://localhost:8080/"
    },
    "id": "bE7MrTAI_t6i",
    "outputId": "fb5cf300-8347-48f9-d12b-4e0eea6829e1"
   },
   "outputs": [
    {
     "name": "stdout",
     "output_type": "stream",
     "text": [
      "[1, 2, 3]\n",
      "[4, 5, 6]\n",
      "[0, 7, 8]\n"
     ]
    }
   ],
   "source": [
    "PrintState(InitialState)"
   ]
  },
  {
   "cell_type": "code",
   "execution_count": 197,
   "metadata": {
    "colab": {
     "base_uri": "https://localhost:8080/"
    },
    "id": "wRULKFeXVcp3",
    "outputId": "4766dafa-c37e-4eb0-96e0-c7067e6dc00a"
   },
   "outputs": [
    {
     "name": "stdout",
     "output_type": "stream",
     "text": [
      "[1, 2, 3]\n",
      "[4, 5, 6]\n",
      "[7, 8, 0]\n"
     ]
    }
   ],
   "source": [
    "PrintState(GoalState)"
   ]
  },
  {
   "cell_type": "code",
   "execution_count": 198,
   "metadata": {
    "colab": {
     "base_uri": "https://localhost:8080/"
    },
    "id": "Ke12RA7cPaS9",
    "outputId": "eecb049f-a2af-449e-fa2a-d5dc848e6697"
   },
   "outputs": [
    {
     "name": "stdout",
     "output_type": "stream",
     "text": [
      "ManhattanDistance=   2\n",
      "OutOfPlace=  2\n"
     ]
    }
   ],
   "source": [
    "print(\"ManhattanDistance=  \", ManhattanDistance(InitialState, GoalState))\n",
    "print(\"OutOfPlace= \", OutOfPlace(InitialState, GoalState))\n"
   ]
  },
  {
   "cell_type": "code",
   "execution_count": 199,
   "metadata": {
    "colab": {
     "base_uri": "https://localhost:8080/"
    },
    "id": "j-EYW_gqGZtl",
    "outputId": "f6764d4f-5771-4a18-ca94-1a7d9887739f"
   },
   "outputs": [
    {
     "name": "stdout",
     "output_type": "stream",
     "text": [
      "[1, 2, 3]\n",
      "[4, 5, 6]\n",
      "[0, 7, 8]\n",
      "\n",
      "[1, 2, 3]\n",
      "[0, 5, 6]\n",
      "[4, 7, 8]\n",
      "\n",
      "[1, 2, 3]\n",
      "[5, 0, 6]\n",
      "[4, 7, 8]\n"
     ]
    }
   ],
   "source": [
    "PrintState(InitialState)\n",
    "print()\n",
    "state1 = Result(InitialState, 'u')\n",
    "PrintState(state1)\n",
    "print()\n",
    "state1 = Result(state1, 'r')\n",
    "PrintState(state1)"
   ]
  },
  {
   "cell_type": "markdown",
   "metadata": {
    "id": "Mp0tnomdTFoC"
   },
   "source": [
    "# Random Walk\n",
    "\n",
    "Take some random moves from a state and return the new state and the sequence of moves.\n",
    "\n",
    "Do not include moves undoing last move, or having no effect."
   ]
  },
  {
   "cell_type": "code",
   "execution_count": 200,
   "metadata": {
    "id": "1RVh0-S9IFiy"
   },
   "outputs": [],
   "source": [
    "def RandomWalk(state, steps):\n",
    "  actionSequence = []\n",
    "  actionLast = None\n",
    "  for i in range(steps):\n",
    "    action = None\n",
    "    while action==None:\n",
    "      action = random.choice(Actions(state))\n",
    "      action = action if (LegalMove(state, action)\n",
    "          and action!= Opposite[actionLast]) else None\n",
    "    actionLast = action\n",
    "    state = Result(state, action)\n",
    "    actionSequence.append(action)\n",
    "  return state, actionSequence\n",
    "\n"
   ]
  },
  {
   "cell_type": "code",
   "execution_count": 201,
   "metadata": {
    "colab": {
     "base_uri": "https://localhost:8080/"
    },
    "id": "wcn5POkxKlER",
    "outputId": "b13cc6e4-1492-464f-ef69-0692c5d30d8a"
   },
   "outputs": [
    {
     "name": "stdout",
     "output_type": "stream",
     "text": [
      "[6, 5, 4]\n",
      "[3, 0, 2]\n",
      "[1, 8, 7]\n",
      "16 ['r', 'u', 'u', 'r', 'd', 'l', 'd', 'l', 'u', 'r', 'd', 'r', 'u', 'l', 'l', 'u', 'r', 'd', 'l', 'u', 'r', 'd', 'r', 'd', 'l', 'l', 'u', 'u', 'r', 'r', 'd', 'd', 'l', 'u', 'l', 'u', 'r', 'd', 'l', 'u', 'r', 'r', 'd', 'l', 'l', 'u', 'r', 'r', 'd', 'd', 'l', 'l', 'u', 'u', 'r', 'r', 'd', 'l', 'u', 'r', 'd', 'l', 'd', 'l', 'u', 'u', 'r', 'r', 'd', 'l', 'l', 'd', 'r', 'u', 'l', 'd', 'r', 'r', 'u', 'u', 'l', 'l', 'd', 'r', 'u', 'l', 'd', 'd', 'r', 'u', 'r', 'd', 'l', 'l', 'u', 'u', 'r', 'r', 'd', 'd', 'l', 'u', 'u', 'r', 'd', 'd', 'l', 'u', 'l', 'u', 'r', 'd', 'l', 'u', 'r', 'd', 'l', 'u', 'r', 'r', 'd', 'd', 'l', 'u', 'l', 'u', 'r', 'd', 'd', 'r', 'u', 'u', 'l', 'l', 'd', 'd', 'r', 'r', 'u', 'u', 'l', 'd', 'l', 'd', 'r', 'u', 'u', 'l', 'd', 'r']\n",
      "[1, 2, 3]\n",
      "[4, 5, 6]\n",
      "[0, 7, 8]\n",
      "['u', 'u', 'r', 'r', 'd']\n",
      "[2, 3, 6]\n",
      "[1, 5, 0]\n",
      "[4, 7, 8]\n"
     ]
    }
   ],
   "source": [
    "state1, sol = RandomWalk(InitialState, 150)\n",
    "PrintState(state1)\n",
    "print (ManhattanDistance(state1, GoalState), sol)\n",
    "\n",
    "state1, sol = RandomWalk(InitialState, 5)\n",
    "PrintState(InitialState)\n",
    "print (sol)\n",
    "PrintState(state1)"
   ]
  },
  {
   "cell_type": "code",
   "execution_count": 202,
   "metadata": {
    "id": "Rc_8ohYvNIq-"
   },
   "outputs": [],
   "source": [
    "def ApplyMoves(actions, state):\n",
    "  for action in actions:\n",
    "    state = Result(state, action)\n",
    "  return state"
   ]
  },
  {
   "cell_type": "code",
   "execution_count": 203,
   "metadata": {
    "colab": {
     "base_uri": "https://localhost:8080/"
    },
    "id": "Wv7MGqh8NXqy",
    "outputId": "7680a0b0-e84f-4a14-c9d5-b881e3f973d1"
   },
   "outputs": [
    {
     "name": "stdout",
     "output_type": "stream",
     "text": [
      "[1, 2, 3]\n",
      "[4, 5, 6]\n",
      "[0, 7, 8]\n",
      "['r', 'r']\n",
      "[1, 2, 3]\n",
      "[4, 5, 6]\n",
      "[7, 8, 0]\n"
     ]
    }
   ],
   "source": [
    "PrintState(InitialState)\n",
    "print(['r','r'])\n",
    "PrintState(ApplyMoves(['r','r'],InitialState))"
   ]
  },
  {
   "cell_type": "code",
   "execution_count": 204,
   "metadata": {
    "id": "_VS2KzQbOHlO"
   },
   "outputs": [],
   "source": [
    "def ReverseMoves(actions):\n",
    "  ret = [Opposite[a] for a in actions]\n",
    "  ret.reverse()\n",
    "  return ret"
   ]
  },
  {
   "cell_type": "code",
   "execution_count": 205,
   "metadata": {
    "colab": {
     "base_uri": "https://localhost:8080/"
    },
    "id": "tp_pqYBXOsqS",
    "outputId": "c322dc22-ea39-46bc-d762-c6dcc310cd95"
   },
   "outputs": [
    {
     "name": "stdout",
     "output_type": "stream",
     "text": [
      "[1, 2, 3]\n",
      "[7, 4, 5]\n",
      "[8, 0, 6]\n",
      "['u', 'l', 'l', 'd', 'r']\n",
      "['l', 'u', 'r', 'r', 'd']\n",
      "[1, 2, 3]\n",
      "[4, 5, 6]\n",
      "[7, 8, 0]\n"
     ]
    }
   ],
   "source": [
    "state1, sol = RandomWalk(GoalState, 5)\n",
    "PrintState(state1)\n",
    "print (sol)\n",
    "print(ReverseMoves(sol))\n",
    "PrintState (ApplyMoves(ReverseMoves(sol), state1))\n"
   ]
  },
  {
   "cell_type": "markdown",
   "metadata": {
    "id": "8ABBDMJLROdo"
   },
   "source": [
    "## Problem Class\n",
    "\n",
    "INITIAL = InitialState  \n",
    "IsGoal = Goal Test  \n",
    "Actions = Actions List  \n",
    "Result = Action Behavior  \n",
    "ActionCost = Action Cost  "
   ]
  },
  {
   "cell_type": "code",
   "execution_count": 206,
   "metadata": {
    "id": "fo6sq7myRQpE"
   },
   "outputs": [],
   "source": [
    "class Problem(object): pass"
   ]
  },
  {
   "cell_type": "markdown",
   "metadata": {
    "id": "aAHXlWteQ2LN"
   },
   "source": [
    "## Node"
   ]
  },
  {
   "cell_type": "code",
   "execution_count": 207,
   "metadata": {
    "id": "URRYlfS9Q3vx"
   },
   "outputs": [],
   "source": [
    "class Node(object):\n",
    "  def __init__(self, state, parent=None, action=None, path_cost=0 ):\n",
    "    self.State=state\n",
    "    self.Parent=parent\n",
    "    self.Action=action\n",
    "    self.PathCost = path_cost\n",
    "\n",
    "  def __str__(self):\n",
    "    action = \"<none>\" if not self.Action else self.Action\n",
    "    return str(self.State) + \", \" + action\n",
    "  def __repr__(self):\n",
    "    action = \"<none>\" if not self.Action else self.Action\n",
    "    return str(self.State) + \", \" + action\n",
    "  def __lt__(self, other):\n",
    "    return self.PathCost < other.PathCost;"
   ]
  },
  {
   "cell_type": "markdown",
   "metadata": {
    "id": "LpzKnx4rkxL9"
   },
   "source": [
    "## Expand"
   ]
  },
  {
   "cell_type": "code",
   "execution_count": 208,
   "metadata": {
    "id": "CRj9UnyHdDo_"
   },
   "outputs": [],
   "source": [
    "def Expand(problem, node):\n",
    "  ret = []\n",
    "  s = node.State\n",
    "  for action in problem.Actions(s):\n",
    "    sPrime = problem.Result(s, action)\n",
    "    cost =node.PathCost + problem.ActionCost(s,action,sPrime)\n",
    "    ret.append(Node(sPrime, node, action, cost))\n",
    "  return ret\n"
   ]
  },
  {
   "cell_type": "markdown",
   "metadata": {
    "id": "Ee2ZYxjVlBSl"
   },
   "source": [
    "## Breadth-First Search"
   ]
  },
  {
   "cell_type": "code",
   "execution_count": 209,
   "metadata": {
    "id": "DZoCxoGzkt4E"
   },
   "outputs": [],
   "source": [
    "def BreadthFirstSearch(problem):\n",
    "  node = Node(tuple(problem.INITIAL))\n",
    "  if problem.IsGoal(node.State):\n",
    "    return node, 0\n",
    "  Frontier = []\n",
    "  Frontier.append(node)\n",
    "  reached = set()\n",
    "  reached.add(tuple(problem.INITIAL))\n",
    "  nodesExpanded = 0\n",
    "  while (Frontier):\n",
    "    ### print([str(n) for n in Frontier])\n",
    "    node = Frontier.pop(0)\n",
    "    ### print(node)\n",
    "    for child in Expand(problem, node):\n",
    "      s = tuple(child.State)\n",
    "      ### print (s, \"IsGoal=\", problem.IsGoal(s))\n",
    "      if problem.IsGoal(s):\n",
    "        return child, nodesExpanded\n",
    "      if s not in reached:\n",
    "        reached.add(s)\n",
    "        Frontier.append(child)\n",
    "    nodesExpanded += 1\n",
    "    if nodesExpanded > 500000:\n",
    "      break;\n",
    "  return None, nodesExpanded"
   ]
  },
  {
   "cell_type": "markdown",
   "metadata": {
    "id": "AoX48XG6lFOf"
   },
   "source": [
    "## Best-First Search"
   ]
  },
  {
   "cell_type": "code",
   "execution_count": 210,
   "metadata": {
    "id": "lUIAdr_qa1KT"
   },
   "outputs": [],
   "source": [
    "def BestFirstSearch(problem, f):\n",
    "  node = Node(tuple(problem.INITIAL))\n",
    "  Frontier = []\n",
    "  heapq.heappush(Frontier,(f(node), node))\n",
    "  reached = {}\n",
    "  reached[tuple(problem.INITIAL)]=node\n",
    "  nodesExpanded = 0\n",
    "  while (Frontier):\n",
    "    ##print([(x, str(n)) for (x,n) in Frontier])\n",
    "    fValue, node = heapq.heappop(Frontier)\n",
    "    ##print (node.State, \"IsGoal=\", problem.IsGoal(tuple(node.State)))\n",
    "    if problem.IsGoal(tuple(node.State)):\n",
    "      return node, nodesExpanded    ### print(node)\n",
    "    for child in Expand(problem, node):\n",
    "      s = tuple(child.State)\n",
    "      if s not in reached or child.PathCost < reached[s].PathCost:\n",
    "        reached[s] = child\n",
    "        heapq.heappush(Frontier, (f(child), child))\n",
    "    nodesExpanded += 1\n",
    "    if nodesExpanded > 500000:\n",
    "      break;\n",
    "  return None, nodesExpanded"
   ]
  },
  {
   "cell_type": "markdown",
   "metadata": {
    "id": "kRjolRYslOa4"
   },
   "source": [
    "## Problem 1"
   ]
  },
  {
   "cell_type": "code",
   "execution_count": 211,
   "metadata": {
    "colab": {
     "base_uri": "https://localhost:8080/"
    },
    "id": "dLWDIbmsRGY3",
    "outputId": "7d503ed3-06cb-453e-965f-1119d4dc965d"
   },
   "outputs": [
    {
     "name": "stdout",
     "output_type": "stream",
     "text": [
      "True\n",
      "[1, 2, 3, 4, 5, 6, 0, 7, 8], <none>\n",
      "2\n"
     ]
    }
   ],
   "source": [
    "TileSliding = Problem()\n",
    "TileSliding.INITIAL = InitialState\n",
    "TileSliding.IsGoal = lambda s: s==(1,2,3,4,5,6,7,8,0)\n",
    "TileSliding.Actions = Actions\n",
    "TileSliding.Result=Result\n",
    "TileSliding.ActionCost = lambda s, a, sPrime: 1\n",
    "print( TileSliding.IsGoal((1,2,3,4,5,6,7,8,0)) )\n",
    "print( Node(InitialState) )\n",
    "print(1+TileSliding.ActionCost(1,2,3))"
   ]
  },
  {
   "cell_type": "code",
   "execution_count": 212,
   "metadata": {
    "colab": {
     "base_uri": "https://localhost:8080/"
    },
    "id": "6VoIEO4c1gHz",
    "outputId": "3ddcf07d-8ee3-4e5e-a08a-81a476b9c1e2"
   },
   "outputs": [
    {
     "name": "stdout",
     "output_type": "stream",
     "text": [
      "[1, 2, 3, 4, 5, 6, 7, 8, 0], r 2\n"
     ]
    }
   ],
   "source": [
    "TileSliding.INITIAL = [1,2,3,4,5,6,0,7,8]\n",
    "ret, cost = BreadthFirstSearch(TileSliding)\n",
    "print (ret, cost)"
   ]
  },
  {
   "cell_type": "code",
   "execution_count": 213,
   "metadata": {
    "id": "3hsBKY7Fle3w"
   },
   "outputs": [],
   "source": [
    "def Solution(node):\n",
    "  if node.Parent==None:\n",
    "    return []\n",
    "  return Solution(node.Parent) + [node.Action]\n"
   ]
  },
  {
   "cell_type": "code",
   "execution_count": 214,
   "metadata": {
    "colab": {
     "base_uri": "https://localhost:8080/"
    },
    "id": "rtr7Vr84NAfY",
    "outputId": "ffb31aae-91e3-4cd5-98e7-62f115b61b21"
   },
   "outputs": [
    {
     "name": "stdout",
     "output_type": "stream",
     "text": [
      "['r', 'r']\n",
      "[1, 2, 3, 4, 5, 6, 0, 7, 8]\n",
      "[1, 2, 3, 4, 5, 6, 7, 8, 0]\n"
     ]
    }
   ],
   "source": [
    "sol = Solution(ret)\n",
    "print (sol)\n",
    "print (TileSliding.INITIAL)\n",
    "print (ApplyMoves(sol, TileSliding.INITIAL))"
   ]
  },
  {
   "cell_type": "code",
   "execution_count": 215,
   "metadata": {
    "colab": {
     "base_uri": "https://localhost:8080/"
    },
    "id": "RDE3dNP8NOU7",
    "outputId": "a931b05e-d36e-4ef5-ffcd-9e33a13af3d9"
   },
   "outputs": [
    {
     "name": "stdout",
     "output_type": "stream",
     "text": [
      "[1, 2, 3, 4, 5, 6, 7, 8, 0], r 2\n"
     ]
    }
   ],
   "source": [
    "TileSliding.INITIAL = [1,2,3,4,0,6,7,5,8]\n",
    "ret, cost = BreadthFirstSearch(TileSliding)\n",
    "print (ret, cost)"
   ]
  },
  {
   "cell_type": "code",
   "execution_count": 216,
   "metadata": {
    "colab": {
     "base_uri": "https://localhost:8080/"
    },
    "id": "YBkLupiYNyZ_",
    "outputId": "d9a01861-ea3e-4036-f007-ce5c17cdd82e"
   },
   "outputs": [
    {
     "name": "stdout",
     "output_type": "stream",
     "text": [
      "['d', 'r']\n",
      "[1, 2, 3, 4, 0, 6, 7, 5, 8]\n",
      "[1, 2, 3, 4, 5, 6, 7, 8, 0]\n"
     ]
    }
   ],
   "source": [
    "sol = Solution(ret)\n",
    "print (sol)\n",
    "print (TileSliding.INITIAL)\n",
    "print (ApplyMoves(sol, TileSliding.INITIAL))"
   ]
  },
  {
   "cell_type": "code",
   "execution_count": 217,
   "metadata": {
    "colab": {
     "base_uri": "https://localhost:8080/"
    },
    "id": "GXdlMLxwhxMF",
    "outputId": "cb8d551e-c147-4a1a-b92b-d1319a98e049"
   },
   "outputs": [
    {
     "name": "stdout",
     "output_type": "stream",
     "text": [
      "[1, 2, 3, 4, 5, 6, 7, 8, 0], r\n",
      "['d', 'r']\n",
      "[1, 2, 3, 4, 0, 6, 7, 5, 8]\n",
      "[1, 2, 3, 4, 5, 6, 7, 8, 0]\n",
      "Nodes Expanded= 8\n"
     ]
    }
   ],
   "source": [
    "UniformCostF = lambda n: n.PathCost\n",
    "AStarF = lambda n: n.PathCost+ManhattanDistance(n.State, GoalState)\n",
    "TileSliding.INITIAL = [1,2,3,4,0,6,7,5,8]\n",
    "ret, cost = BestFirstSearch(TileSliding, UniformCostF)\n",
    "print (ret)\n",
    "sol = Solution(ret)\n",
    "print (sol)\n",
    "print (TileSliding.INITIAL)\n",
    "print (ApplyMoves(sol, TileSliding.INITIAL))\n",
    "print (\"Nodes Expanded=\", cost)"
   ]
  },
  {
   "cell_type": "markdown",
   "metadata": {
    "id": "bu6svMo0n9Pc"
   },
   "source": [
    "# Problem 2"
   ]
  },
  {
   "cell_type": "code",
   "execution_count": 218,
   "metadata": {
    "colab": {
     "base_uri": "https://localhost:8080/"
    },
    "id": "rXzEVLYEn8m1",
    "outputId": "fe31d608-3f4b-4486-a9ba-6b716b44575a"
   },
   "outputs": [
    {
     "name": "stdout",
     "output_type": "stream",
     "text": [
      "[2, 4, 8]\n",
      "[3, 6, 7]\n",
      "[0, 5, 1]\n",
      "['u', 'u', 'l', 'd', 'r', 'u', 'l', 'd', 'd', 'l', 'u', 'u', 'r', 'd', 'd', 'l', 'u', 'r', 'd', 'r', 'u', 'l', 'u', 'r', 'd', 'd', 'l', 'u', 'r', 'u', 'l', 'l', 'd', 'r', 'd', 'r', 'u', 'u', 'l', 'l', 'd', 'r', 'r', 'd', 'l', 'l', 'u', 'r', 'u', 'l', 'd', 'r', 'r', 'd', 'l', 'l', 'u', 'r', 'd', 'r', 'u', 'l', 'u', 'r', 'd', 'l', 'd', 'r', 'u', 'l', 'u', 'l', 'd', 'd', 'r', 'u', 'r', 'u', 'l', 'l', 'd', 'd', 'r', 'r', 'u', 'u', 'l', 'd', 'r', 'd', 'l', 'l', 'u', 'u', 'r', 'r', 'd', 'd', 'l', 'u', 'r', 'd', 'l', 'l', 'u', 'u', 'r', 'r', 'd', 'd', 'l', 'u', 'l', 'u', 'r', 'r', 'd', 'd', 'l', 'u', 'l', 'u', 'r', 'r', 'd', 'l', 'd', 'r', 'u', 'l', 'u', 'l', 'd', 'r', 'r', 'u', 'l', 'l', 'd', 'd', 'r', 'r', 'u', 'l', 'd', 'l', 'u', 'u', 'r', 'r', 'd', 'l', 'u', 'l', 'd', 'd', 'r', 'r', 'u', 'u', 'l', 'd', 'r', 'd', 'l', 'l', 'u', 'u', 'r', 'r', 'd', 'l', 'l', 'd', 'r', 'u', 'r', 'u', 'l', 'd', 'r', 'u', 'l', 'd', 'l', 'u', 'r', 'r', 'd', 'd', 'l', 'l', 'u', 'u', 'r', 'r', 'd', 'l', 'l', 'u', 'r', 'd', 'l', 'u', 'r', 'd', 'r', 'd', 'l', 'u', 'r', 'd', 'l', 'u', 'r', 'd', 'l', 'u', 'r', 'd', 'l', 'u', 'r', 'u', 'l', 'l', 'd', 'r', 'r', 'd', 'l', 'u', 'r', 'd', 'l', 'l', 'u', 'u', 'r', 'd', 'r', 'u', 'l', 'd', 'd', 'l', 'u', 'u', 'r', 'd', 'd', 'r', 'u', 'l', 'd', 'r', 'u', 'l', 'l', 'u', 'r', 'r', 'd', 'd', 'l', 'l', 'u', 'u', 'r', 'r', 'd', 'l', 'd', 'l', 'u', 'u', 'r', 'r', 'd', 'l', 'd', 'l', 'u', 'u', 'r', 'r', 'd', 'l', 'l', 'u', 'r', 'd', 'l', 'd', 'r', 'u', 'u', 'l', 'd', 'd']\n",
      "['u', 'u', 'r', 'd', 'd', 'l', 'u', 'r', 'u', 'l', 'd', 'r', 'r', 'u', 'l', 'l', 'd', 'd', 'r', 'u', 'r', 'u', 'l', 'l', 'd', 'd', 'r', 'u', 'r', 'u', 'l', 'l', 'd', 'd', 'r', 'r', 'u', 'u', 'l', 'l', 'd', 'r', 'r', 'd', 'l', 'u', 'r', 'd', 'l', 'u', 'u', 'l', 'd', 'd', 'r', 'u', 'u', 'r', 'd', 'l', 'u', 'l', 'd', 'd', 'r', 'r', 'u', 'l', 'd', 'r', 'u', 'l', 'l', 'u', 'r', 'r', 'd', 'l', 'd', 'r', 'u', 'l', 'd', 'r', 'u', 'l', 'd', 'r', 'u', 'l', 'd', 'r', 'u', 'l', 'u', 'l', 'd', 'r', 'u', 'l', 'd', 'r', 'r', 'u', 'l', 'l', 'd', 'd', 'r', 'r', 'u', 'u', 'l', 'l', 'd', 'r', 'u', 'r', 'd', 'l', 'u', 'r', 'd', 'l', 'd', 'l', 'u', 'r', 'r', 'u', 'l', 'l', 'd', 'd', 'r', 'r', 'u', 'l', 'u', 'r', 'd', 'd', 'l', 'l', 'u', 'u', 'r', 'd', 'r', 'u', 'l', 'l', 'd', 'd', 'r', 'u', 'r', 'd', 'l', 'l', 'u', 'u', 'r', 'r', 'd', 'l', 'l', 'u', 'r', 'd', 'r', 'd', 'l', 'u', 'r', 'u', 'l', 'l', 'd', 'r', 'd', 'r', 'u', 'u', 'l', 'l', 'd', 'r', 'd', 'r', 'u', 'u', 'l', 'l', 'd', 'd', 'r', 'r', 'u', 'l', 'd', 'r', 'u', 'u', 'l', 'l', 'd', 'd', 'r', 'r', 'u', 'l', 'u', 'r', 'd', 'd', 'l', 'l', 'u', 'u', 'r', 'r', 'd', 'l', 'd', 'l', 'u', 'u', 'r', 'd', 'r', 'd', 'l', 'u', 'r', 'u', 'l', 'd', 'r', 'd', 'l', 'u', 'l', 'd', 'r', 'r', 'u', 'l', 'l', 'u', 'r', 'd', 'l', 'd', 'r', 'r', 'u', 'l', 'l', 'u', 'r', 'r', 'd', 'd', 'l', 'u', 'l', 'u', 'r', 'r', 'd', 'l', 'd', 'r', 'u', 'u', 'l', 'd', 'r', 'd', 'l', 'u', 'l', 'd', 'r', 'u', 'u', 'l', 'd', 'd', 'r', 'u', 'u', 'r', 'd', 'l', 'u', 'r', 'd', 'd']\n",
      "[1, 2, 3]\n",
      "[4, 5, 6]\n",
      "[7, 8, 0]\n"
     ]
    }
   ],
   "source": [
    "state1, sol = RandomWalk(GoalState, 300)\n",
    "PrintState(state1)\n",
    "print (sol)\n",
    "print(ReverseMoves(sol))\n",
    "PrintState (ApplyMoves(ReverseMoves(sol), state1))"
   ]
  },
  {
   "cell_type": "code",
   "execution_count": 219,
   "metadata": {
    "colab": {
     "base_uri": "https://localhost:8080/"
    },
    "id": "tKnMcesqoCss",
    "outputId": "884c7eda-76ff-472e-f951-8c6795202ae8"
   },
   "outputs": [
    {
     "name": "stdout",
     "output_type": "stream",
     "text": [
      "[1, 2, 3, 4, 5, 6, 7, 8, 0], r\n",
      "['r', 'u', 'l', 'u', 'r', 'd', 'r', 'u', 'l', 'l', 'd', 'r', 'd', 'r', 'u', 'l', 'd', 'l', 'u', 'r', 'u', 'l', 'd', 'r', 'd', 'r']\n",
      "[2, 4, 8, 3, 6, 7, 0, 5, 1]\n",
      "[1, 2, 3, 4, 5, 6, 7, 8, 0]\n",
      "Length of solution:  26\n",
      "Nodes Expanded= 152868\n"
     ]
    }
   ],
   "source": [
    "TileSliding.INITIAL = state1\n",
    "ret, cost = BreadthFirstSearch(TileSliding)\n",
    "print (ret)\n",
    "sol = Solution(ret)\n",
    "print (sol)\n",
    "print (TileSliding.INITIAL)\n",
    "print (ApplyMoves(sol, TileSliding.INITIAL))\n",
    "print (\"Length of solution: \", len(sol))\n",
    "print (\"Nodes Expanded=\", cost)"
   ]
  },
  {
   "cell_type": "code",
   "execution_count": 220,
   "metadata": {
    "colab": {
     "base_uri": "https://localhost:8080/"
    },
    "id": "k24bl418eL5m",
    "outputId": "9b1a7dab-7f50-45a7-a6b3-39398f1078ce"
   },
   "outputs": [
    {
     "name": "stdout",
     "output_type": "stream",
     "text": [
      "[1, 2, 3, 4, 5, 6, 7, 8, 0], r\n",
      "['r', 'r', 'u', 'u', 'l', 'd', 'l', 'd', 'r', 'r', 'u', 'u', 'l', 'd', 'l', 'd', 'r', 'u', 'r', 'u', 'l', 'l', 'd', 'r', 'd', 'r']\n",
      "[2, 4, 8, 3, 6, 7, 0, 5, 1]\n",
      "[1, 2, 3, 4, 5, 6, 7, 8, 0]\n",
      "Length of solution:  26\n",
      "Nodes Expanded= 157770\n"
     ]
    }
   ],
   "source": [
    "UniformCostF = lambda n: n.PathCost\n",
    "TileSliding.INITIAL = state1\n",
    "ret, cost = BestFirstSearch(TileSliding, UniformCostF)\n",
    "print (ret)\n",
    "sol = Solution(ret)\n",
    "print (sol)\n",
    "print (TileSliding.INITIAL)\n",
    "print (ApplyMoves(sol, TileSliding.INITIAL))\n",
    "print (\"Length of solution: \", len(sol))\n",
    "print (\"Nodes Expanded=\", cost)"
   ]
  },
  {
   "cell_type": "markdown",
   "metadata": {
    "id": "tdtWdXGlXFGG"
   },
   "source": [
    "# Problem List"
   ]
  },
  {
   "cell_type": "code",
   "execution_count": 221,
   "metadata": {
    "colab": {
     "base_uri": "https://localhost:8080/"
    },
    "id": "iDhmyFXQXI3N",
    "outputId": "b1402a8e-c19f-48a7-a091-c7a949c7f229"
   },
   "outputs": [
    {
     "name": "stdout",
     "output_type": "stream",
     "text": [
      "[[0, 2, 5, 4, 1, 3, 8, 6, 7], [5, 2, 0, 8, 3, 1, 4, 7, 6], [3, 4, 0, 2, 8, 7, 5, 6, 1], [5, 6, 0, 7, 3, 4, 2, 8, 1], [1, 6, 4, 2, 0, 8, 7, 5, 3], [3, 7, 0, 8, 2, 5, 6, 4, 1], [8, 6, 7, 2, 3, 4, 1, 5, 0], [4, 1, 0, 6, 7, 3, 5, 8, 2], [6, 1, 3, 4, 0, 7, 5, 2, 8], [0, 3, 2, 6, 5, 4, 8, 7, 1]]\n"
     ]
    }
   ],
   "source": [
    "findNum = 10\n",
    "randomWalkDistance = 300\n",
    "problemList = []\n",
    "for i in range(10):\n",
    "  state1, sol = RandomWalk(GoalState, 300)\n",
    "  problemList.append(state1)\n",
    "print (problemList)"
   ]
  },
  {
   "cell_type": "markdown",
   "metadata": {
    "id": "TpdrxwA8UvFn"
   },
   "source": [
    "### Breadth First Search w/ Test Problems"
   ]
  },
  {
   "cell_type": "code",
   "execution_count": 222,
   "metadata": {
    "colab": {
     "base_uri": "https://localhost:8080/"
    },
    "id": "xrni2RRIXkfU",
    "outputId": "97d4857e-15eb-4038-f0e7-c1c3b36cfa00"
   },
   "outputs": [
    {
     "name": "stdout",
     "output_type": "stream",
     "text": [
      "['l', 'd', 'l', 'd', 'r', 'u', 'u', 'l', 'd', 'd', 'r', 'u', 'u', 'l', 'd', 'd', 'r', 'r']\n",
      "-----------------------\n",
      "[5, 3, 0, 4, 7, 6, 2, 1, 8] \n",
      "\n",
      "[1, 2, 3, 4, 5, 6, 7, 8, 0]\n",
      "Length of solution:  18\n",
      "Nodes Expanded= 15775\n",
      "-----------------------\n",
      "['l', 'd', 'r', 'u', 'l', 'l', 'd', 'r', 'r', 'u', 'l', 'd', 'r', 'd']\n",
      "-----------------------\n",
      "[3, 2, 0, 1, 5, 4, 7, 8, 6] \n",
      "\n",
      "[1, 2, 3, 4, 5, 6, 7, 8, 0]\n",
      "Length of solution:  14\n",
      "Nodes Expanded= 2645\n",
      "-----------------------\n",
      "['d', 'd', 'r', 'u', 'r', 'd', 'l', 'l', 'u', 'u', 'r', 'd', 'd', 'l', 'u', 'r', 'r', 'd', 'l', 'l', 'u', 'r', 'r', 'd']\n",
      "-----------------------\n",
      "[0, 1, 3, 8, 5, 2, 6, 7, 4] \n",
      "\n",
      "[1, 2, 3, 4, 5, 6, 7, 8, 0]\n",
      "Length of solution:  24\n",
      "Nodes Expanded= 99562\n",
      "-----------------------\n",
      "['u', 'l', 'u', 'l', 'd', 'r', 'r', 'u', 'l', 'd', 'd', 'r', 'u', 'l', 'd', 'l', 'u', 'r', 'u', 'l', 'd', 'r', 'r', 'd']\n",
      "-----------------------\n",
      "[3, 7, 6, 2, 4, 1, 8, 5, 0] \n",
      "\n",
      "[1, 2, 3, 4, 5, 6, 7, 8, 0]\n",
      "Length of solution:  24\n",
      "Nodes Expanded= 102839\n",
      "-----------------------\n",
      "['u', 'r', 'd', 'l', 'd', 'r', 'u', 'l', 'l', 'u', 'r', 'r', 'd', 'l', 'l', 'd', 'r', 'r', 'u', 'l', 'l', 'u', 'r', 'd', 'l', 'd', 'r', 'r']\n",
      "-----------------------\n",
      "[6, 7, 5, 8, 0, 1, 2, 3, 4] \n",
      "\n",
      "[1, 2, 3, 4, 5, 6, 7, 8, 0]\n",
      "Length of solution:  28\n",
      "Nodes Expanded= 176504\n",
      "-----------------------\n",
      "['d', 'l', 'u', 'u', 'r', 'd', 'r', 'u', 'l', 'd', 'd', 'r', 'u', 'l', 'd', 'l', 'u', 'u', 'r', 'r', 'd', 'd']\n",
      "-----------------------\n",
      "[7, 4, 6, 8, 0, 1, 3, 2, 5] \n",
      "\n",
      "[1, 2, 3, 4, 5, 6, 7, 8, 0]\n",
      "Length of solution:  22\n",
      "Nodes Expanded= 70228\n",
      "-----------------------\n",
      "['r', 'r', 'd', 'l', 'l', 'd', 'r', 'r', 'u', 'l', 'u', 'r', 'd', 'l', 'l', 'd', 'r', 'r', 'u', 'l', 'd', 'r']\n",
      "-----------------------\n",
      "[0, 1, 8, 3, 5, 2, 6, 4, 7] \n",
      "\n",
      "[1, 2, 3, 4, 5, 6, 7, 8, 0]\n",
      "Length of solution:  22\n",
      "Nodes Expanded= 71840\n",
      "-----------------------\n",
      "['r', 'r', 'd', 'l', 'd', 'r', 'u', 'l', 'u', 'r', 'd', 'l', 'd', 'r', 'u', 'l', 'l', 'u', 'r', 'r', 'd', 'd']\n",
      "-----------------------\n",
      "[0, 4, 6, 5, 8, 1, 7, 2, 3] \n",
      "\n",
      "[1, 2, 3, 4, 5, 6, 7, 8, 0]\n",
      "Length of solution:  22\n",
      "Nodes Expanded= 71233\n",
      "-----------------------\n",
      "['d', 'r', 'u', 'u', 'l', 'd', 'r', 'd', 'l', 'u', 'l', 'u', 'r', 'r', 'd', 'l', 'u', 'l', 'd', 'd', 'r', 'r']\n",
      "-----------------------\n",
      "[1, 5, 7, 6, 0, 3, 4, 2, 8] \n",
      "\n",
      "[1, 2, 3, 4, 5, 6, 7, 8, 0]\n",
      "Length of solution:  22\n",
      "Nodes Expanded= 72942\n",
      "-----------------------\n",
      "['d', 'd', 'r', 'u', 'l', 'd', 'r', 'r', 'u', 'l', 'l', 'u', 'r', 'r', 'd', 'l', 'u', 'l', 'd', 'r', 'r', 'd']\n",
      "-----------------------\n",
      "[0, 2, 4, 1, 7, 6, 3, 5, 8] \n",
      "\n",
      "[1, 2, 3, 4, 5, 6, 7, 8, 0]\n",
      "Length of solution:  22\n",
      "Nodes Expanded= 56648\n",
      "-----------------------\n",
      "-------\n",
      "[('530476218', 'ldldruulddruulddrr', 15775), ('320154786', 'ldrulldrruldrd', 2645), ('013852674', 'ddrurdlluurddlurrdllurrd', 99562), ('376241850', 'ululdrrulddruldluruldrrd', 102839), ('675801234', 'urdldrullurrdlldrrullurdldrr', 176504), ('746801325', 'dluurdrulddruldluurrdd', 70228), ('018352647', 'rrdlldrrulurdlldrruldr', 71840), ('046581723', 'rrdldrulurdldrullurrdd', 71233), ('157603428', 'druuldrdlulurrdlulddrr', 72942), ('024176358', 'ddruldrrullurrdluldrrd', 56648)]\n"
     ]
    }
   ],
   "source": [
    "testProblems = [[5, 3, 0, 4, 7, 6, 2, 1, 8], [3, 2, 0, 1, 5, 4, 7, 8, 6], [0, 1, 3, 8, 5, 2, 6, 7, 4],\n",
    "                [3, 7, 6, 2, 4, 1, 8, 5, 0], [6, 7, 5, 8, 0, 1, 2, 3, 4], [7, 4, 6, 8, 0, 1, 3, 2, 5],\n",
    "                [0, 1, 8, 3, 5, 2, 6, 4, 7], [0, 4, 6, 5, 8, 1, 7, 2, 3], [1, 5, 7, 6, 0, 3, 4, 2, 8],\n",
    "                [0, 2, 4, 1, 7, 6, 3, 5, 8]]\n",
    "\n",
    "Solutions = []\n",
    "for s in testProblems:\n",
    "  TileSliding.INITIAL = s\n",
    "  ret, cost = BreadthFirstSearch(TileSliding)\n",
    "  sol = Solution(ret)\n",
    "  print (sol)\n",
    "  print (\"-----------------------\")\n",
    "  print (TileSliding.INITIAL,'\\n')\n",
    "  print (ApplyMoves(sol, TileSliding.INITIAL))\n",
    "  print (\"Length of solution: \", len(sol))\n",
    "  print (\"Nodes Expanded=\", cost)\n",
    "  print (\"-----------------------\")\n",
    "  Solutions.append((''.join(map(str, s)), ''.join(sol), cost))\n",
    "print (\"-------\")\n",
    "print (Solutions)\n"
   ]
  },
  {
   "cell_type": "markdown",
   "metadata": {
    "id": "YLVN3sTkU0jw"
   },
   "source": [
    "### Uniform Cost Search w/ Test Problems"
   ]
  },
  {
   "cell_type": "code",
   "execution_count": 223,
   "metadata": {
    "colab": {
     "base_uri": "https://localhost:8080/"
    },
    "id": "LsWVfbeLRYfO",
    "outputId": "8a792c22-bd2c-4f5a-fa73-f1747b47c514"
   },
   "outputs": [
    {
     "name": "stdout",
     "output_type": "stream",
     "text": [
      "['l', 'l', 'd', 'd', 'r', 'u', 'u', 'l', 'd', 'd', 'r', 'u', 'u', 'l', 'd', 'r', 'd', 'r']\n",
      "-----------------------\n",
      "[5, 3, 0, 4, 7, 6, 2, 1, 8] \n",
      "\n",
      "[1, 2, 3, 4, 5, 6, 7, 8, 0]\n",
      "Length of solution:  18\n",
      "Nodes Expanded= 22919\n",
      "-----------------------\n",
      "['l', 'd', 'r', 'u', 'l', 'l', 'd', 'r', 'r', 'u', 'l', 'd', 'r', 'd']\n",
      "-----------------------\n",
      "[3, 2, 0, 1, 5, 4, 7, 8, 6] \n",
      "\n",
      "[1, 2, 3, 4, 5, 6, 7, 8, 0]\n",
      "Length of solution:  14\n",
      "Nodes Expanded= 4754\n",
      "-----------------------\n",
      "['r', 'd', 'd', 'l', 'u', 'r', 'r', 'd', 'l', 'l', 'u', 'u', 'r', 'd', 'r', 'u', 'l', 'l', 'd', 'r', 'u', 'r', 'd', 'd']\n",
      "-----------------------\n",
      "[0, 1, 3, 8, 5, 2, 6, 7, 4] \n",
      "\n",
      "[1, 2, 3, 4, 5, 6, 7, 8, 0]\n",
      "Length of solution:  24\n",
      "Nodes Expanded= 120796\n",
      "-----------------------\n",
      "['u', 'l', 'u', 'l', 'd', 'r', 'r', 'u', 'l', 'd', 'd', 'r', 'u', 'l', 'd', 'l', 'u', 'r', 'u', 'l', 'd', 'r', 'r', 'd']\n",
      "-----------------------\n",
      "[3, 7, 6, 2, 4, 1, 8, 5, 0] \n",
      "\n",
      "[1, 2, 3, 4, 5, 6, 7, 8, 0]\n",
      "Length of solution:  24\n",
      "Nodes Expanded= 121538\n",
      "-----------------------\n",
      "['d', 'l', 'u', 'u', 'r', 'd', 'r', 'u', 'l', 'd', 'l', 'u', 'r', 'r', 'd', 'l', 'd', 'r', 'u', 'u', 'l', 'd', 'd', 'l', 'u', 'r', 'r', 'd']\n",
      "-----------------------\n",
      "[6, 7, 5, 8, 0, 1, 2, 3, 4] \n",
      "\n",
      "[1, 2, 3, 4, 5, 6, 7, 8, 0]\n",
      "Length of solution:  28\n",
      "Nodes Expanded= 179157\n",
      "-----------------------\n",
      "['d', 'l', 'u', 'u', 'r', 'd', 'r', 'u', 'l', 'd', 'd', 'r', 'u', 'l', 'd', 'l', 'u', 'u', 'r', 'r', 'd', 'd']\n",
      "-----------------------\n",
      "[7, 4, 6, 8, 0, 1, 3, 2, 5] \n",
      "\n",
      "[1, 2, 3, 4, 5, 6, 7, 8, 0]\n",
      "Length of solution:  22\n",
      "Nodes Expanded= 92946\n",
      "-----------------------\n",
      "['r', 'r', 'd', 'l', 'l', 'd', 'r', 'r', 'u', 'l', 'l', 'd', 'r', 'u', 'u', 'r', 'd', 'd', 'l', 'u', 'r', 'd']\n",
      "-----------------------\n",
      "[0, 1, 8, 3, 5, 2, 6, 4, 7] \n",
      "\n",
      "[1, 2, 3, 4, 5, 6, 7, 8, 0]\n",
      "Length of solution:  22\n",
      "Nodes Expanded= 72788\n",
      "-----------------------\n",
      "['r', 'r', 'd', 'l', 'd', 'r', 'u', 'l', 'u', 'r', 'd', 'l', 'd', 'r', 'u', 'l', 'l', 'u', 'r', 'r', 'd', 'd']\n",
      "-----------------------\n",
      "[0, 4, 6, 5, 8, 1, 7, 2, 3] \n",
      "\n",
      "[1, 2, 3, 4, 5, 6, 7, 8, 0]\n",
      "Length of solution:  22\n",
      "Nodes Expanded= 82015\n",
      "-----------------------\n",
      "['r', 'u', 'l', 'd', 'r', 'd', 'l', 'u', 'l', 'd', 'r', 'u', 'r', 'd', 'l', 'u', 'r', 'u', 'l', 'd', 'r', 'd']\n",
      "-----------------------\n",
      "[1, 5, 7, 6, 0, 3, 4, 2, 8] \n",
      "\n",
      "[1, 2, 3, 4, 5, 6, 7, 8, 0]\n",
      "Length of solution:  22\n",
      "Nodes Expanded= 86853\n",
      "-----------------------\n",
      "['d', 'r', 'd', 'l', 'u', 'u', 'r', 'd', 'd', 'r', 'u', 'u', 'l', 'd', 'r', 'u', 'l', 'l', 'd', 'r', 'r', 'd']\n",
      "-----------------------\n",
      "[0, 2, 4, 1, 7, 6, 3, 5, 8] \n",
      "\n",
      "[1, 2, 3, 4, 5, 6, 7, 8, 0]\n",
      "Length of solution:  22\n",
      "Nodes Expanded= 77754\n",
      "-----------------------\n",
      "-------\n",
      "[('530476218', 'llddruulddruuldrdr', 22919), ('320154786', 'ldrulldrruldrd', 4754), ('013852674', 'rddlurrdlluurdrulldrurdd', 120796), ('376241850', 'ululdrrulddruldluruldrrd', 121538), ('675801234', 'dluurdruldlurrdldruulddlurrd', 179157), ('746801325', 'dluurdrulddruldluurrdd', 92946), ('018352647', 'rrdlldrrulldruurddlurd', 72788), ('046581723', 'rrdldrulurdldrullurrdd', 82015), ('157603428', 'ruldrdluldrurdluruldrd', 86853), ('024176358', 'drdluurddruuldrulldrrd', 77754)]\n"
     ]
    }
   ],
   "source": [
    "UniformCostF = lambda n: n.PathCost\n",
    "testProblems = [[5, 3, 0, 4, 7, 6, 2, 1, 8], [3, 2, 0, 1, 5, 4, 7, 8, 6], [0, 1, 3, 8, 5, 2, 6, 7, 4],\n",
    "                [3, 7, 6, 2, 4, 1, 8, 5, 0], [6, 7, 5, 8, 0, 1, 2, 3, 4], [7, 4, 6, 8, 0, 1, 3, 2, 5],\n",
    "                [0, 1, 8, 3, 5, 2, 6, 4, 7], [0, 4, 6, 5, 8, 1, 7, 2, 3], [1, 5, 7, 6, 0, 3, 4, 2, 8],\n",
    "                [0, 2, 4, 1, 7, 6, 3, 5, 8]]\n",
    "\n",
    "Solutions = []\n",
    "for s in testProblems:\n",
    "  TileSliding.INITIAL = s\n",
    "  ret, cost = BestFirstSearch(TileSliding, UniformCostF)\n",
    "  sol = Solution(ret)\n",
    "  print (sol)\n",
    "  print (\"-----------------------\")\n",
    "  print (TileSliding.INITIAL,'\\n')\n",
    "  print (ApplyMoves(sol, TileSliding.INITIAL))\n",
    "  print (\"Length of solution: \", len(sol))\n",
    "  print (\"Nodes Expanded=\", cost)\n",
    "  print (\"-----------------------\")\n",
    "  Solutions.append((''.join(map(str, s)), ''.join(sol), cost))\n",
    "print (\"-------\")\n",
    "print (Solutions)"
   ]
  },
  {
   "cell_type": "markdown",
   "metadata": {
    "id": "p8yiFsHoU6sf"
   },
   "source": [
    "### AStar using ManhattanDistance w/ Test Problems"
   ]
  },
  {
   "cell_type": "code",
   "execution_count": 224,
   "metadata": {
    "colab": {
     "base_uri": "https://localhost:8080/"
    },
    "id": "6VD8LuUJRhxU",
    "outputId": "b652997e-932b-430e-f6c7-471867a4df52"
   },
   "outputs": [
    {
     "name": "stdout",
     "output_type": "stream",
     "text": [
      "['l', 'l', 'd', 'd', 'r', 'u', 'u', 'l', 'd', 'd', 'r', 'u', 'u', 'l', 'd', 'r', 'd', 'r']\n",
      "-----------------------\n",
      "[5, 3, 0, 4, 7, 6, 2, 1, 8] \n",
      "\n",
      "[1, 2, 3, 4, 5, 6, 7, 8, 0]\n",
      "Length of solution:  18\n",
      "Nodes Expanded= 251\n",
      "-----------------------\n",
      "['l', 'd', 'r', 'u', 'l', 'l', 'd', 'r', 'r', 'u', 'l', 'd', 'r', 'd']\n",
      "-----------------------\n",
      "[3, 2, 0, 1, 5, 4, 7, 8, 6] \n",
      "\n",
      "[1, 2, 3, 4, 5, 6, 7, 8, 0]\n",
      "Length of solution:  14\n",
      "Nodes Expanded= 92\n",
      "-----------------------\n",
      "['d', 'd', 'r', 'u', 'r', 'd', 'l', 'l', 'u', 'u', 'r', 'd', 'd', 'l', 'u', 'r', 'r', 'd', 'l', 'l', 'u', 'r', 'r', 'd']\n",
      "-----------------------\n",
      "[0, 1, 3, 8, 5, 2, 6, 7, 4] \n",
      "\n",
      "[1, 2, 3, 4, 5, 6, 7, 8, 0]\n",
      "Length of solution:  24\n",
      "Nodes Expanded= 2798\n",
      "-----------------------\n",
      "['u', 'l', 'u', 'l', 'd', 'r', 'r', 'u', 'l', 'd', 'd', 'r', 'u', 'l', 'd', 'l', 'u', 'r', 'u', 'l', 'd', 'r', 'r', 'd']\n",
      "-----------------------\n",
      "[3, 7, 6, 2, 4, 1, 8, 5, 0] \n",
      "\n",
      "[1, 2, 3, 4, 5, 6, 7, 8, 0]\n",
      "Length of solution:  24\n",
      "Nodes Expanded= 1769\n",
      "-----------------------\n",
      "['d', 'l', 'u', 'u', 'r', 'd', 'r', 'u', 'l', 'd', 'l', 'u', 'r', 'r', 'd', 'l', 'd', 'r', 'u', 'u', 'l', 'd', 'd', 'l', 'u', 'r', 'r', 'd']\n",
      "-----------------------\n",
      "[6, 7, 5, 8, 0, 1, 2, 3, 4] \n",
      "\n",
      "[1, 2, 3, 4, 5, 6, 7, 8, 0]\n",
      "Length of solution:  28\n",
      "Nodes Expanded= 7654\n",
      "-----------------------\n",
      "['d', 'l', 'u', 'u', 'r', 'd', 'r', 'u', 'l', 'd', 'd', 'r', 'u', 'l', 'd', 'l', 'u', 'u', 'r', 'r', 'd', 'd']\n",
      "-----------------------\n",
      "[7, 4, 6, 8, 0, 1, 3, 2, 5] \n",
      "\n",
      "[1, 2, 3, 4, 5, 6, 7, 8, 0]\n",
      "Length of solution:  22\n",
      "Nodes Expanded= 641\n",
      "-----------------------\n",
      "['r', 'r', 'd', 'l', 'l', 'd', 'r', 'r', 'u', 'l', 'u', 'r', 'd', 'l', 'l', 'd', 'r', 'r', 'u', 'l', 'd', 'r']\n",
      "-----------------------\n",
      "[0, 1, 8, 3, 5, 2, 6, 4, 7] \n",
      "\n",
      "[1, 2, 3, 4, 5, 6, 7, 8, 0]\n",
      "Length of solution:  22\n",
      "Nodes Expanded= 570\n",
      "-----------------------\n",
      "['r', 'r', 'd', 'l', 'd', 'r', 'u', 'l', 'u', 'r', 'd', 'l', 'd', 'r', 'u', 'l', 'l', 'u', 'r', 'r', 'd', 'd']\n",
      "-----------------------\n",
      "[0, 4, 6, 5, 8, 1, 7, 2, 3] \n",
      "\n",
      "[1, 2, 3, 4, 5, 6, 7, 8, 0]\n",
      "Length of solution:  22\n",
      "Nodes Expanded= 1020\n",
      "-----------------------\n",
      "['r', 'u', 'l', 'd', 'd', 'r', 'u', 'u', 'l', 'd', 'd', 'r', 'u', 'l', 'l', 'd', 'r', 'r', 'u', 'l', 'd', 'r']\n",
      "-----------------------\n",
      "[1, 5, 7, 6, 0, 3, 4, 2, 8] \n",
      "\n",
      "[1, 2, 3, 4, 5, 6, 7, 8, 0]\n",
      "Length of solution:  22\n",
      "Nodes Expanded= 1378\n",
      "-----------------------\n",
      "['d', 'r', 'd', 'l', 'u', 'r', 'd', 'r', 'u', 'l', 'l', 'u', 'r', 'r', 'd', 'l', 'u', 'l', 'd', 'r', 'r', 'd']\n",
      "-----------------------\n",
      "[0, 2, 4, 1, 7, 6, 3, 5, 8] \n",
      "\n",
      "[1, 2, 3, 4, 5, 6, 7, 8, 0]\n",
      "Length of solution:  22\n",
      "Nodes Expanded= 1090\n",
      "-----------------------\n",
      "-------\n",
      "[('530476218', 'llddruulddruuldrdr', 251), ('320154786', 'ldrulldrruldrd', 92), ('013852674', 'ddrurdlluurddlurrdllurrd', 2798), ('376241850', 'ululdrrulddruldluruldrrd', 1769), ('675801234', 'dluurdruldlurrdldruulddlurrd', 7654), ('746801325', 'dluurdrulddruldluurrdd', 641), ('018352647', 'rrdlldrrulurdlldrruldr', 570), ('046581723', 'rrdldrulurdldrullurrdd', 1020), ('157603428', 'rulddruulddrulldrruldr', 1378), ('024176358', 'drdlurdrullurrdluldrrd', 1090)]\n"
     ]
    }
   ],
   "source": [
    "AStarFb = lambda n: n.PathCost + Manhattan(n.State, GoalState)\n",
    "testProblems = [[5, 3, 0, 4, 7, 6, 2, 1, 8], [3, 2, 0, 1, 5, 4, 7, 8, 6], [0, 1, 3, 8, 5, 2, 6, 7, 4],\n",
    "                [3, 7, 6, 2, 4, 1, 8, 5, 0], [6, 7, 5, 8, 0, 1, 2, 3, 4], [7, 4, 6, 8, 0, 1, 3, 2, 5],\n",
    "                [0, 1, 8, 3, 5, 2, 6, 4, 7], [0, 4, 6, 5, 8, 1, 7, 2, 3], [1, 5, 7, 6, 0, 3, 4, 2, 8],\n",
    "                [0, 2, 4, 1, 7, 6, 3, 5, 8]]\n",
    "\n",
    "Solutions = []\n",
    "for s in testProblems:\n",
    "  TileSliding.INITIAL = s\n",
    "  ret, cost = BestFirstSearch(TileSliding, AStarF)\n",
    "  sol = Solution(ret)\n",
    "  print (sol)\n",
    "  print (\"-----------------------\")\n",
    "  print (TileSliding.INITIAL,'\\n')\n",
    "  print (ApplyMoves(sol, TileSliding.INITIAL))\n",
    "  print (\"Length of solution: \", len(sol))\n",
    "  print (\"Nodes Expanded=\", cost)\n",
    "  print (\"-----------------------\")\n",
    "  Solutions.append((''.join(map(str, s)), ''.join(sol), cost))\n",
    "print (\"-------\")\n",
    "print (Solutions)"
   ]
  },
  {
   "cell_type": "markdown",
   "metadata": {
    "id": "dluzNjyYVBSl"
   },
   "source": [
    "### AStar using OutOfPlace w/ Test Problems"
   ]
  },
  {
   "cell_type": "code",
   "execution_count": 225,
   "metadata": {
    "colab": {
     "base_uri": "https://localhost:8080/"
    },
    "id": "m7icYl-JUGbR",
    "outputId": "180b55bc-3d50-414b-ede3-319a59b83b78"
   },
   "outputs": [
    {
     "name": "stdout",
     "output_type": "stream",
     "text": [
      "['l', 'd', 'l', 'd', 'r', 'u', 'u', 'l', 'd', 'd', 'r', 'u', 'u', 'l', 'd', 'd', 'r', 'r']\n",
      "-----------------------\n",
      "[5, 3, 0, 4, 7, 6, 2, 1, 8] \n",
      "\n",
      "[1, 2, 3, 4, 5, 6, 7, 8, 0]\n",
      "Length of solution:  18\n",
      "Nodes Expanded= 1319\n",
      "-----------------------\n",
      "['l', 'd', 'r', 'u', 'l', 'l', 'd', 'r', 'r', 'u', 'l', 'd', 'r', 'd']\n",
      "-----------------------\n",
      "[3, 2, 0, 1, 5, 4, 7, 8, 6] \n",
      "\n",
      "[1, 2, 3, 4, 5, 6, 7, 8, 0]\n",
      "Length of solution:  14\n",
      "Nodes Expanded= 242\n",
      "-----------------------\n",
      "['d', 'd', 'r', 'u', 'r', 'd', 'l', 'l', 'u', 'u', 'r', 'd', 'd', 'l', 'u', 'r', 'r', 'd', 'l', 'l', 'u', 'r', 'r', 'd']\n",
      "-----------------------\n",
      "[0, 1, 3, 8, 5, 2, 6, 7, 4] \n",
      "\n",
      "[1, 2, 3, 4, 5, 6, 7, 8, 0]\n",
      "Length of solution:  24\n",
      "Nodes Expanded= 18751\n",
      "-----------------------\n",
      "['u', 'l', 'u', 'l', 'd', 'r', 'r', 'u', 'l', 'd', 'd', 'r', 'u', 'l', 'd', 'l', 'u', 'r', 'u', 'l', 'd', 'r', 'r', 'd']\n",
      "-----------------------\n",
      "[3, 7, 6, 2, 4, 1, 8, 5, 0] \n",
      "\n",
      "[1, 2, 3, 4, 5, 6, 7, 8, 0]\n",
      "Length of solution:  24\n",
      "Nodes Expanded= 17913\n",
      "-----------------------\n",
      "['r', 'd', 'l', 'u', 'l', 'd', 'r', 'u', 'r', 'd', 'l', 'u', 'u', 'l', 'd', 'd', 'r', 'u', 'u', 'r', 'd', 'l', 'u', 'l', 'd', 'd', 'r', 'r']\n",
      "-----------------------\n",
      "[6, 7, 5, 8, 0, 1, 2, 3, 4] \n",
      "\n",
      "[1, 2, 3, 4, 5, 6, 7, 8, 0]\n",
      "Length of solution:  28\n",
      "Nodes Expanded= 82106\n",
      "-----------------------\n",
      "['d', 'l', 'u', 'u', 'r', 'd', 'r', 'u', 'l', 'd', 'd', 'r', 'u', 'l', 'd', 'l', 'u', 'u', 'r', 'r', 'd', 'd']\n",
      "-----------------------\n",
      "[7, 4, 6, 8, 0, 1, 3, 2, 5] \n",
      "\n",
      "[1, 2, 3, 4, 5, 6, 7, 8, 0]\n",
      "Length of solution:  22\n",
      "Nodes Expanded= 9167\n",
      "-----------------------\n",
      "['r', 'r', 'd', 'l', 'l', 'd', 'r', 'r', 'u', 'l', 'u', 'r', 'd', 'l', 'l', 'd', 'r', 'r', 'u', 'l', 'd', 'r']\n",
      "-----------------------\n",
      "[0, 1, 8, 3, 5, 2, 6, 4, 7] \n",
      "\n",
      "[1, 2, 3, 4, 5, 6, 7, 8, 0]\n",
      "Length of solution:  22\n",
      "Nodes Expanded= 7533\n",
      "-----------------------\n",
      "['r', 'r', 'd', 'l', 'd', 'r', 'u', 'l', 'u', 'r', 'd', 'l', 'd', 'r', 'u', 'l', 'l', 'u', 'r', 'r', 'd', 'd']\n",
      "-----------------------\n",
      "[0, 4, 6, 5, 8, 1, 7, 2, 3] \n",
      "\n",
      "[1, 2, 3, 4, 5, 6, 7, 8, 0]\n",
      "Length of solution:  22\n",
      "Nodes Expanded= 8021\n",
      "-----------------------\n",
      "['r', 'u', 'l', 'd', 'd', 'r', 'u', 'u', 'l', 'd', 'd', 'r', 'u', 'l', 'l', 'd', 'r', 'r', 'u', 'l', 'd', 'r']\n",
      "-----------------------\n",
      "[1, 5, 7, 6, 0, 3, 4, 2, 8] \n",
      "\n",
      "[1, 2, 3, 4, 5, 6, 7, 8, 0]\n",
      "Length of solution:  22\n",
      "Nodes Expanded= 10011\n",
      "-----------------------\n",
      "['d', 'r', 'd', 'r', 'u', 'u', 'l', 'd', 'r', 'd', 'l', 'l', 'u', 'r', 'd', 'r', 'u', 'l', 'u', 'r', 'd', 'd']\n",
      "-----------------------\n",
      "[0, 2, 4, 1, 7, 6, 3, 5, 8] \n",
      "\n",
      "[1, 2, 3, 4, 5, 6, 7, 8, 0]\n",
      "Length of solution:  22\n",
      "Nodes Expanded= 8014\n",
      "-----------------------\n",
      "-------\n",
      "[('530476218', 'ldldruulddruulddrr', 1319), ('320154786', 'ldrulldrruldrd', 242), ('013852674', 'ddrurdlluurddlurrdllurrd', 18751), ('376241850', 'ululdrrulddruldluruldrrd', 17913), ('675801234', 'rdluldrurdluulddruurdlulddrr', 82106), ('746801325', 'dluurdrulddruldluurrdd', 9167), ('018352647', 'rrdlldrrulurdlldrruldr', 7533), ('046581723', 'rrdldrulurdldrullurrdd', 8021), ('157603428', 'rulddruulddrulldrruldr', 10011), ('024176358', 'drdruuldrdllurdrulurdd', 8014)]\n"
     ]
    }
   ],
   "source": [
    "AStarFb = lambda n: n.PathCost + OutOfPlace(n.State, GoalState)\n",
    "testProblems = [[5, 3, 0, 4, 7, 6, 2, 1, 8], [3, 2, 0, 1, 5, 4, 7, 8, 6], [0, 1, 3, 8, 5, 2, 6, 7, 4],\n",
    "                [3, 7, 6, 2, 4, 1, 8, 5, 0], [6, 7, 5, 8, 0, 1, 2, 3, 4], [7, 4, 6, 8, 0, 1, 3, 2, 5],\n",
    "                [0, 1, 8, 3, 5, 2, 6, 4, 7], [0, 4, 6, 5, 8, 1, 7, 2, 3], [1, 5, 7, 6, 0, 3, 4, 2, 8],\n",
    "                [0, 2, 4, 1, 7, 6, 3, 5, 8]]\n",
    "\n",
    "Solutions = []\n",
    "for s in testProblems:\n",
    "  TileSliding.INITIAL = s\n",
    "  ret, cost = BestFirstSearch(TileSliding, AStarFb)\n",
    "  sol = Solution(ret)\n",
    "  print (sol)\n",
    "  print (\"-----------------------\")\n",
    "  print (TileSliding.INITIAL,'\\n')\n",
    "  print (ApplyMoves(sol, TileSliding.INITIAL))\n",
    "  print (\"Length of solution: \", len(sol))\n",
    "  print (\"Nodes Expanded=\", cost)\n",
    "  print (\"-----------------------\")\n",
    "  Solutions.append((''.join(map(str, s)), ''.join(sol), cost))\n",
    "print (\"-------\")\n",
    "print (Solutions)"
   ]
  },
  {
   "cell_type": "markdown",
   "metadata": {
    "id": "TEBWJx6DwN-r"
   },
   "source": [
    "### Best First Search -- Greedy"
   ]
  },
  {
   "cell_type": "code",
   "execution_count": 226,
   "metadata": {
    "colab": {
     "base_uri": "https://localhost:8080/"
    },
    "id": "fI27-Y5ivXdw",
    "outputId": "0e78f087-b7ea-433a-9fa2-3aad3e5d5b03"
   },
   "outputs": [
    {
     "name": "stdout",
     "output_type": "stream",
     "text": [
      "['l', 'l', 'd', 'd', 'r', 'u', 'u', 'l', 'd', 'd', 'r', 'u', 'u', 'l', 'd', 'r', 'd', 'r']\n",
      "-----------------------\n",
      "[5, 3, 0, 4, 7, 6, 2, 1, 8] \n",
      "\n",
      "[1, 2, 3, 4, 5, 6, 7, 8, 0]\n",
      "Length of solution:  18\n",
      "Nodes Expanded= 52\n",
      "-----------------------\n",
      "['l', 'l', 'd', 'r', 'u', 'r', 'd', 'l', 'l', 'u', 'r', 'r', 'd', 'l', 'u', 'l', 'd', 'r', 'r', 'd']\n",
      "-----------------------\n",
      "[3, 2, 0, 1, 5, 4, 7, 8, 6] \n",
      "\n",
      "[1, 2, 3, 4, 5, 6, 7, 8, 0]\n",
      "Length of solution:  20\n",
      "Nodes Expanded= 196\n",
      "-----------------------\n",
      "['r', 'd', 'd', 'l', 'u', 'r', 'r', 'd', 'l', 'l', 'u', 'r', 'r', 'd', 'l', 'l', 'u', 'r', 'u', 'l', 'd', 'd', 'r', 'u', 'l', 'u', 'r', 'd', 'd', 'r']\n",
      "-----------------------\n",
      "[0, 1, 3, 8, 5, 2, 6, 7, 4] \n",
      "\n",
      "[1, 2, 3, 4, 5, 6, 7, 8, 0]\n",
      "Length of solution:  30\n",
      "Nodes Expanded= 380\n",
      "-----------------------\n",
      "['u', 'u', 'l', 'l', 'd', 'r', 'd', 'r', 'u', 'u', 'l', 'd', 'd', 'l', 'u', 'r', 'u', 'l', 'd', 'r', 'r', 'd', 'l', 'u', 'l', 'd', 'r', 'r']\n",
      "-----------------------\n",
      "[3, 7, 6, 2, 4, 1, 8, 5, 0] \n",
      "\n",
      "[1, 2, 3, 4, 5, 6, 7, 8, 0]\n",
      "Length of solution:  28\n",
      "Nodes Expanded= 609\n",
      "-----------------------\n",
      "['l', 'd', 'r', 'u', 'r', 'u', 'l', 'l', 'd', 'r', 'r', 'u', 'l', 'l', 'd', 'r', 'd', 'l', 'u', 'r', 'r', 'd', 'l', 'l', 'u', 'r', 'd', 'l', 'u', 'r', 'r', 'd', 'l', 'u', 'r', 'u', 'l', 'd', 'd', 'r', 'u', 'l', 'u', 'r', 'd', 'l', 'l', 'u', 'r', 'r', 'd', 'l', 'u', 'l', 'd', 'r', 'r', 'd']\n",
      "-----------------------\n",
      "[6, 7, 5, 8, 0, 1, 2, 3, 4] \n",
      "\n",
      "[1, 2, 3, 4, 5, 6, 7, 8, 0]\n",
      "Length of solution:  58\n",
      "Nodes Expanded= 1753\n",
      "-----------------------\n",
      "['r', 'u', 'l', 'd', 'l', 'u', 'r', 'd', 'd', 'l', 'u', 'r', 'd', 'r', 'u', 'l', 'u', 'r', 'd', 'd', 'l', 'u', 'u', 'l', 'd', 'r', 'u', 'r', 'd', 'l', 'u', 'l', 'd', 'r', 'r', 'u', 'l', 'd', 'l', 'u', 'r', 'r', 'd', 'd', 'l', 'u', 'r', 'u', 'l', 'd', 'd', 'r', 'u', 'l', 'u', 'r', 'd', 'd']\n",
      "-----------------------\n",
      "[7, 4, 6, 8, 0, 1, 3, 2, 5] \n",
      "\n",
      "[1, 2, 3, 4, 5, 6, 7, 8, 0]\n",
      "Length of solution:  58\n",
      "Nodes Expanded= 365\n",
      "-----------------------\n",
      "['r', 'd', 'r', 'u', 'l', 'd', 'l', 'd', 'r', 'r', 'u', 'l', 'l', 'd', 'r', 'u', 'r', 'u', 'l', 'd', 'd', 'r', 'u', 'l', 'u', 'r', 'd', 'd', 'l', 'u', 'r', 'u', 'l', 'd', 'd', 'r', 'u', 'l', 'u', 'r', 'd', 'd']\n",
      "-----------------------\n",
      "[0, 1, 8, 3, 5, 2, 6, 4, 7] \n",
      "\n",
      "[1, 2, 3, 4, 5, 6, 7, 8, 0]\n",
      "Length of solution:  42\n",
      "Nodes Expanded= 696\n",
      "-----------------------\n",
      "['r', 'd', 'l', 'u', 'r', 'r', 'd', 'd', 'l', 'u', 'u', 'r', 'd', 'l', 'd', 'l', 'u', 'u', 'r', 'd', 'l', 'd', 'r', 'u', 'u', 'r', 'd', 'd', 'l', 'u', 'r', 'u', 'l', 'd', 'd', 'r']\n",
      "-----------------------\n",
      "[0, 4, 6, 5, 8, 1, 7, 2, 3] \n",
      "\n",
      "[1, 2, 3, 4, 5, 6, 7, 8, 0]\n",
      "Length of solution:  36\n",
      "Nodes Expanded= 386\n",
      "-----------------------\n",
      "['u', 'r', 'd', 'l', 'l', 'd', 'r', 'u', 'r', 'd', 'l', 'u', 'u', 'r', 'd', 'l', 'd', 'r', 'u', 'u', 'l', 'd', 'd', 'r', 'u', 'l', 'u', 'l', 'd', 'd', 'r', 'u', 'l', 'u', 'r', 'd', 'd', 'r']\n",
      "-----------------------\n",
      "[1, 5, 7, 6, 0, 3, 4, 2, 8] \n",
      "\n",
      "[1, 2, 3, 4, 5, 6, 7, 8, 0]\n",
      "Length of solution:  38\n",
      "Nodes Expanded= 1232\n",
      "-----------------------\n",
      "['d', 'r', 'd', 'l', 'u', 'r', 'd', 'r', 'u', 'l', 'l', 'u', 'r', 'r', 'd', 'l', 'u', 'l', 'd', 'r', 'r', 'd']\n",
      "-----------------------\n",
      "[0, 2, 4, 1, 7, 6, 3, 5, 8] \n",
      "\n",
      "[1, 2, 3, 4, 5, 6, 7, 8, 0]\n",
      "Length of solution:  22\n",
      "Nodes Expanded= 111\n",
      "-----------------------\n",
      "-------\n",
      "[('530476218', 'llddruulddruuldrdr', 52), ('320154786', 'lldrurdllurrdluldrrd', 196), ('013852674', 'rddlurrdllurrdllurulddrulurddr', 380), ('376241850', 'uulldrdruulddluruldrrdluldrr', 609), ('675801234', 'ldrurulldrrulldrdlurrdllurdlurrdlurulddrulurdllurrdluldrrd', 1753), ('746801325', 'ruldlurddlurdrulurddluuldrurdluldrruldlurrddlurulddrulurdd', 365), ('018352647', 'rdruldldrrulldrurulddrulurddlurulddrulurdd', 696), ('046581723', 'rdlurrddluurdldluurdldruurddlurulddr', 386), ('157603428', 'urdlldrurdluurdldruulddrululddrulurddr', 1232), ('024176358', 'drdlurdrullurrdluldrrd', 111)]\n"
     ]
    }
   ],
   "source": [
    "### Best First\n",
    "bestFirstSearchf = lambda n: OutOfPlace(n.State, GoalState)\n",
    "testProblems = [[5, 3, 0, 4, 7, 6, 2, 1, 8], [3, 2, 0, 1, 5, 4, 7, 8, 6], [0, 1, 3, 8, 5, 2, 6, 7, 4],\n",
    "                [3, 7, 6, 2, 4, 1, 8, 5, 0], [6, 7, 5, 8, 0, 1, 2, 3, 4], [7, 4, 6, 8, 0, 1, 3, 2, 5],\n",
    "                [0, 1, 8, 3, 5, 2, 6, 4, 7], [0, 4, 6, 5, 8, 1, 7, 2, 3], [1, 5, 7, 6, 0, 3, 4, 2, 8],\n",
    "                [0, 2, 4, 1, 7, 6, 3, 5, 8]]\n",
    "\n",
    "Solutions = []\n",
    "for s in testProblems:\n",
    "  TileSliding.INITIAL = s\n",
    "  ret, cost = BestFirstSearch(TileSliding, bestFirstSearchf)\n",
    "  sol = Solution(ret)\n",
    "  print (sol)\n",
    "  print (\"-----------------------\")\n",
    "  print (TileSliding.INITIAL,'\\n')\n",
    "  print (ApplyMoves(sol, TileSliding.INITIAL))\n",
    "  print (\"Length of solution: \", len(sol))\n",
    "  print (\"Nodes Expanded=\", cost)\n",
    "  print (\"-----------------------\")\n",
    "  Solutions.append((''.join(map(str, s)), ''.join(sol), cost))\n",
    "print (\"-------\")\n",
    "print (Solutions)"
   ]
  },
  {
   "cell_type": "code",
   "execution_count": 227,
   "metadata": {
    "colab": {
     "base_uri": "https://localhost:8080/"
    },
    "id": "rQw9QKTCMvBY",
    "outputId": "84ee3def-78b4-4ea9-fde8-ce90a4f7fb2d"
   },
   "outputs": [
    {
     "name": "stdout",
     "output_type": "stream",
     "text": [
      "['l', 'l', 'd', 'd', 'r', 'u', 'l', 'd', 'r', 'u', 'l', 'u', 'r', 'd', 'd', 'l', 'u', 'u', 'r', 'd', 'l', 'd', 'r', 'r']\n",
      "-----------------------\n",
      "[5, 3, 0, 4, 7, 6, 2, 1, 8] \n",
      "\n",
      "[1, 2, 3, 4, 5, 6, 7, 8, 0]\n",
      "Length of solution:  24\n",
      "Nodes Expanded= 263\n",
      "-----------------------\n",
      "['l', 'l', 'd', 'r', 'u', 'r', 'd', 'l', 'l', 'u', 'r', 'r', 'd', 'l', 'u', 'l', 'd', 'r', 'r', 'd']\n",
      "-----------------------\n",
      "[3, 2, 0, 1, 5, 4, 7, 8, 6] \n",
      "\n",
      "[1, 2, 3, 4, 5, 6, 7, 8, 0]\n",
      "Length of solution:  20\n",
      "Nodes Expanded= 193\n",
      "-----------------------\n",
      "['r', 'd', 'l', 'd', 'r', 'u', 'u', 'r', 'd', 'd', 'l', 'u', 'r', 'u', 'l', 'd', 'l', 'u', 'r', 'r', 'd', 'l', 'd', 'r', 'u', 'u', 'l', 'l', 'd', 'r', 'r', 'u', 'l', 'd', 'l', 'u', 'r', 'r', 'd', 'l', 'u', 'l', 'd', 'r', 'r', 'd']\n",
      "-----------------------\n",
      "[0, 1, 3, 8, 5, 2, 6, 7, 4] \n",
      "\n",
      "[1, 2, 3, 4, 5, 6, 7, 8, 0]\n",
      "Length of solution:  46\n",
      "Nodes Expanded= 412\n",
      "-----------------------\n",
      "['u', 'u', 'l', 'l', 'd', 'r', 'd', 'r', 'u', 'u', 'l', 'd', 'd', 'l', 'u', 'r', 'u', 'l', 'd', 'r', 'r', 'd', 'l', 'u', 'l', 'd', 'r', 'r']\n",
      "-----------------------\n",
      "[3, 7, 6, 2, 4, 1, 8, 5, 0] \n",
      "\n",
      "[1, 2, 3, 4, 5, 6, 7, 8, 0]\n",
      "Length of solution:  28\n",
      "Nodes Expanded= 38\n",
      "-----------------------\n",
      "['u', 'r', 'd', 'd', 'l', 'u', 'l', 'd', 'r', 'u', 'u', 'l', 'd', 'r', 'u', 'r', 'd', 'l', 'l', 'u', 'r', 'r', 'd', 'l', 'u', 'l', 'd', 'r', 'r', 'd', 'l', 'u', 'r', 'u', 'l', 'd', 'd', 'r', 'u', 'u', 'l', 'l', 'd', 'r', 'r', 'u', 'l', 'd', 'l', 'u', 'r', 'r', 'd', 'd']\n",
      "-----------------------\n",
      "[6, 7, 5, 8, 0, 1, 2, 3, 4] \n",
      "\n",
      "[1, 2, 3, 4, 5, 6, 7, 8, 0]\n",
      "Length of solution:  54\n",
      "Nodes Expanded= 362\n",
      "-----------------------\n",
      "['l', 'u', 'r', 'd', 'd', 'l', 'u', 'u', 'r', 'd', 'r', 'd', 'l', 'u', 'r', 'u', 'l', 'l', 'd', 'r', 'u', 'r', 'd', 'd', 'l', 'u', 'l', 'u', 'r', 'r', 'd', 'd', 'l', 'u', 'u', 'r', 'd', 'l', 'd', 'r', 'u', 'u', 'l', 'd', 'r', 'd', 'l', 'l', 'u', 'r', 'u', 'l', 'd', 'd', 'r', 'r']\n",
      "-----------------------\n",
      "[7, 4, 6, 8, 0, 1, 3, 2, 5] \n",
      "\n",
      "[1, 2, 3, 4, 5, 6, 7, 8, 0]\n",
      "Length of solution:  56\n",
      "Nodes Expanded= 205\n",
      "-----------------------\n",
      "['d', 'd', 'r', 'r', 'u', 'u', 'l', 'l', 'd', 'd', 'r', 'r', 'u', 'l', 'd', 'r', 'u', 'u', 'l', 'd', 'r', 'u', 'l', 'd', 'l', 'u', 'r', 'r', 'd', 'd', 'l', 'u', 'l', 'd', 'r', 'r', 'u', 'l', 'l', 'd', 'r', 'r', 'u', 'l', 'd', 'l', 'u', 'r', 'r', 'd', 'l', 'u', 'l', 'd', 'r', 'r']\n",
      "-----------------------\n",
      "[0, 1, 8, 3, 5, 2, 6, 4, 7] \n",
      "\n",
      "[1, 2, 3, 4, 5, 6, 7, 8, 0]\n",
      "Length of solution:  56\n",
      "Nodes Expanded= 180\n",
      "-----------------------\n",
      "['r', 'd', 'r', 'u', 'l', 'd', 'l', 'u', 'r', 'r', 'd', 'd', 'l', 'u', 'u', 'r', 'd', 'd', 'l', 'u', 'r', 'u', 'l', 'd', 'r', 'd', 'l', 'u', 'r', 'u', 'l', 'd', 'd', 'r', 'u', 'l', 'u', 'r', 'd', 'd']\n",
      "-----------------------\n",
      "[0, 4, 6, 5, 8, 1, 7, 2, 3] \n",
      "\n",
      "[1, 2, 3, 4, 5, 6, 7, 8, 0]\n",
      "Length of solution:  40\n",
      "Nodes Expanded= 184\n",
      "-----------------------\n",
      "['u', 'r', 'd', 'l', 'l', 'd', 'r', 'r', 'u', 'l', 'u', 'r', 'd', 'd', 'l', 'u', 'r', 'u', 'l', 'l', 'd', 'd', 'r', 'u', 'l', 'u', 'r', 'd', 'd', 'r']\n",
      "-----------------------\n",
      "[1, 5, 7, 6, 0, 3, 4, 2, 8] \n",
      "\n",
      "[1, 2, 3, 4, 5, 6, 7, 8, 0]\n",
      "Length of solution:  30\n",
      "Nodes Expanded= 158\n",
      "-----------------------\n",
      "['d', 'r', 'd', 'l', 'u', 'r', 'd', 'r', 'u', 'l', 'l', 'u', 'r', 'r', 'd', 'l', 'u', 'l', 'd', 'r', 'r', 'd']\n",
      "-----------------------\n",
      "[0, 2, 4, 1, 7, 6, 3, 5, 8] \n",
      "\n",
      "[1, 2, 3, 4, 5, 6, 7, 8, 0]\n",
      "Length of solution:  22\n",
      "Nodes Expanded= 166\n",
      "-----------------------\n",
      "-------\n",
      "[('530476218', 'llddruldrulurddluurdldrr', 263), ('320154786', 'lldrurdllurrdluldrrd', 193), ('013852674', 'rdldruurddluruldlurrdldruulldrruldlurrdluldrrd', 412), ('376241850', 'uulldrdruulddluruldrrdluldrr', 38), ('675801234', 'urddluldruuldrurdllurrdluldrrdlurulddruulldrruldlurrdd', 362), ('746801325', 'lurddluurdrdlurulldrurddlulurrddluurdldruuldrdllurulddrr', 205), ('018352647', 'ddrruullddrruldruuldruldlurrddluldrrulldrruldlurrdluldrr', 180), ('046581723', 'rdruldlurrddluurddluruldrdlurulddrulurdd', 184), ('157603428', 'urdlldrrulurddlurullddrulurddr', 158), ('024176358', 'drdlurdrullurrdluldrrd', 166)]\n"
     ]
    }
   ],
   "source": [
    "### Best First\n",
    "bestFirstSearchf = lambda n: ManhattanDistance(n.State, GoalState)\n",
    "testProblems = [[5, 3, 0, 4, 7, 6, 2, 1, 8], [3, 2, 0, 1, 5, 4, 7, 8, 6], [0, 1, 3, 8, 5, 2, 6, 7, 4],\n",
    "                [3, 7, 6, 2, 4, 1, 8, 5, 0], [6, 7, 5, 8, 0, 1, 2, 3, 4], [7, 4, 6, 8, 0, 1, 3, 2, 5],\n",
    "                [0, 1, 8, 3, 5, 2, 6, 4, 7], [0, 4, 6, 5, 8, 1, 7, 2, 3], [1, 5, 7, 6, 0, 3, 4, 2, 8],\n",
    "                [0, 2, 4, 1, 7, 6, 3, 5, 8]]\n",
    "\n",
    "Solutions = []\n",
    "for s in testProblems:\n",
    "  TileSliding.INITIAL = s\n",
    "  ret, cost = BestFirstSearch(TileSliding, bestFirstSearchf)\n",
    "  sol = Solution(ret)\n",
    "  print (sol)\n",
    "  print (\"-----------------------\")\n",
    "  print (TileSliding.INITIAL,'\\n')\n",
    "  print (ApplyMoves(sol, TileSliding.INITIAL))\n",
    "  print (\"Length of solution: \", len(sol))\n",
    "  print (\"Nodes Expanded=\", cost)\n",
    "  print (\"-----------------------\")\n",
    "  Solutions.append((''.join(map(str, s)), ''.join(sol), cost))\n",
    "print (\"-------\")\n",
    "print (Solutions)"
   ]
  },
  {
   "cell_type": "markdown",
   "metadata": {
    "id": "TFLhS5QmxRz2"
   },
   "source": [
    "# Domain 2"
   ]
  },
  {
   "cell_type": "code",
   "execution_count": 228,
   "metadata": {
    "id": "PqDD8fsrxXK7"
   },
   "outputs": [],
   "source": [
    "VectorWorldDim = 10\n",
    "VectorWorld = Problem()\n",
    "VectorWorld.INITIAL = [0]\n",
    "VectorWorld.IsGoal = lambda s: s==[3,] or s==(3,)\n",
    "VectorWorld.Actions = lambda s: ['Left', 'Right']\n",
    "## TileSliding.Result=VectorWorldResult\n",
    "VectorWorld.ActionCost = lambda s, a, sPrime: 1"
   ]
  },
  {
   "cell_type": "code",
   "execution_count": 229,
   "metadata": {
    "id": "uWNR8AQJyCN7"
   },
   "outputs": [],
   "source": [
    "def VectorWorldResult(state, action):\n",
    "  if action=='Left':\n",
    "    return [(state[0]+VectorWorldDim-1)%VectorWorldDim]\n",
    "  else:\n",
    "    return [(state[0]+1)%VectorWorldDim]\n",
    "VectorWorld.Result=VectorWorldResult\n"
   ]
  },
  {
   "cell_type": "code",
   "execution_count": 230,
   "metadata": {
    "colab": {
     "base_uri": "https://localhost:8080/"
    },
    "id": "Ox26cyPP2xba",
    "outputId": "40387548-f024-4cf8-9ddd-7f016cbce708"
   },
   "outputs": [
    {
     "name": "stdout",
     "output_type": "stream",
     "text": [
      "True\n"
     ]
    }
   ],
   "source": [
    "print (VectorWorld.IsGoal((3,)))"
   ]
  },
  {
   "cell_type": "code",
   "execution_count": 231,
   "metadata": {
    "colab": {
     "base_uri": "https://localhost:8080/"
    },
    "id": "SBfeM9Vbykci",
    "outputId": "8e6689d5-f32d-4cff-cb33-ba656277774f"
   },
   "outputs": [
    {
     "name": "stdout",
     "output_type": "stream",
     "text": [
      "ret= [3], Right\n",
      "['Right', 'Right', 'Right']\n"
     ]
    }
   ],
   "source": [
    "ret, cost = BreadthFirstSearch(VectorWorld)\n",
    "print (\"ret=\", ret)\n",
    "sol = Solution(ret)\n",
    "print (sol)\n"
   ]
  },
  {
   "cell_type": "code",
   "execution_count": 232,
   "metadata": {
    "id": "dAbJ75Ym4WmP"
   },
   "outputs": [],
   "source": [
    "VectorWorld.INITIAL = [8]"
   ]
  },
  {
   "cell_type": "code",
   "execution_count": 233,
   "metadata": {
    "colab": {
     "base_uri": "https://localhost:8080/"
    },
    "id": "QGO1VglP4Zq6",
    "outputId": "5a145a87-66f6-4645-9329-98768f258908"
   },
   "outputs": [
    {
     "name": "stdout",
     "output_type": "stream",
     "text": [
      "ret= [3], Left\n",
      "['Left', 'Left', 'Left', 'Left', 'Left']\n"
     ]
    }
   ],
   "source": [
    "ret, cost = BreadthFirstSearch(VectorWorld)\n",
    "print (\"ret=\", ret)\n",
    "sol = Solution(ret)\n",
    "print (sol)"
   ]
  },
  {
   "cell_type": "code",
   "execution_count": null,
   "metadata": {},
   "outputs": [],
   "source": []
  },
  {
   "cell_type": "code",
   "execution_count": null,
   "metadata": {},
   "outputs": [],
   "source": []
  },
  {
   "cell_type": "code",
   "execution_count": null,
   "metadata": {},
   "outputs": [],
   "source": []
  },
  {
   "cell_type": "code",
   "execution_count": null,
   "metadata": {},
   "outputs": [],
   "source": []
  },
  {
   "cell_type": "code",
   "execution_count": 234,
   "metadata": {},
   "outputs": [],
   "source": [
    "random5_3by3=[]\n",
    "for i in range (3):\n",
    "    random.seed(None) \n",
    "    state, sol = RandomWalk(InitialState, 5)\n",
    "    random5_3by3.append(state)\n",
    "random10_3by3=[]\n",
    "for i in range (3):\n",
    "    random.seed(None) \n",
    "    state, sol = RandomWalk(InitialState, 10)\n",
    "    random10_3by3.append(state)\n",
    "    \n",
    "random20_3by3=[]\n",
    "for i in range (3):\n",
    "    random.seed(None) \n",
    "    state, sol = RandomWalk(InitialState, 20)\n",
    "    random20_3by3.append(state)\n",
    "    \n",
    "random40_3by3=[]\n",
    "for i in range (3):\n",
    "    random.seed(None) \n",
    "    state, sol = RandomWalk(InitialState, 40)\n",
    "    random40_3by3.append(state)\n",
    "    \n",
    "random80_3by3=[]\n",
    "for i in range (3):\n",
    "    random.seed(None) \n",
    "    state, sol = RandomWalk(InitialState, 80)\n",
    "    random80_3by3.append(state)\n"
   ]
  },
  {
   "cell_type": "raw",
   "metadata": {},
   "source": [
    "Breadth-First Search\n",
    "For each random problem document: (1) start state, (2) the solution, (3) length of solution, and (4) nodes expanded.\n",
    "Explain what these results indicate about search as a tool for Artificial Intelligence, especially as related to increase complexity in problem size."
   ]
  },
  {
   "cell_type": "code",
   "execution_count": 235,
   "metadata": {},
   "outputs": [],
   "source": [
    "def run_bfs_on_puzzles(puzzle_list):\n",
    "    Solutions = []\n",
    "    \n",
    "    for s in puzzle_list:\n",
    "        TileSliding.INITIAL = s\n",
    "        ret, cost = BreadthFirstSearch(TileSliding)\n",
    "        sol = Solution(ret)\n",
    "        \n",
    "        print(sol)\n",
    "        print(\"-----------------------\")\n",
    "        print(TileSliding.INITIAL, '\\n')\n",
    "        print(ApplyMoves(sol, TileSliding.INITIAL))\n",
    "        print(\"Length of solution:\", len(sol))\n",
    "        print(\"Nodes Expanded =\", cost)\n",
    "        print(\"-----------------------\")\n",
    "        \n",
    "        Solutions.append((''.join(map(str, s)), ''.join(sol), cost))\n",
    "    \n",
    "    print(\"-------\")\n",
    "    print(Solutions)\n",
    "    return Solutions\n"
   ]
  },
  {
   "cell_type": "code",
   "execution_count": 236,
   "metadata": {},
   "outputs": [
    {
     "name": "stdout",
     "output_type": "stream",
     "text": [
      "random 5\n",
      "['r', 'd', 'd']\n",
      "-----------------------\n",
      "[1, 0, 2, 4, 5, 3, 7, 8, 6] \n",
      "\n",
      "[1, 2, 3, 4, 5, 6, 7, 8, 0]\n",
      "Length of solution: 3\n",
      "Nodes Expanded = 8\n",
      "-----------------------\n",
      "['u', 'l', 'd', 'l', 'd', 'r', 'r']\n",
      "-----------------------\n",
      "[1, 3, 6, 5, 2, 0, 4, 7, 8] \n",
      "\n",
      "[1, 2, 3, 4, 5, 6, 7, 8, 0]\n",
      "Length of solution: 7\n",
      "Nodes Expanded = 64\n",
      "-----------------------\n",
      "['r', 'd', 'l', 'd', 'r']\n",
      "-----------------------\n",
      "[1, 0, 2, 4, 6, 3, 7, 5, 8] \n",
      "\n",
      "[1, 2, 3, 4, 5, 6, 7, 8, 0]\n",
      "Length of solution: 5\n",
      "Nodes Expanded = 31\n",
      "-----------------------\n",
      "-------\n",
      "[('102453786', 'rdd', 8), ('136520478', 'uldldrr', 64), ('102463758', 'rdldr', 31)]\n",
      ">>>>>>>>>>>>>>>>>>>>>>>>>>>>>>>>>>>\n",
      "\n",
      "random 10\n",
      "['r', 'd', 'l', 'l', 'u', 'u', 'r', 'd', 'l', 'd', 'r', 'r']\n",
      "-----------------------\n",
      "[5, 1, 3, 4, 0, 2, 7, 8, 6] \n",
      "\n",
      "[1, 2, 3, 4, 5, 6, 7, 8, 0]\n",
      "Length of solution: 12\n",
      "Nodes Expanded = 1401\n",
      "-----------------------\n",
      "['r', 'u', 'r', 'd', 'l', 'l', 'u', 'r', 'd', 'r']\n",
      "-----------------------\n",
      "[1, 2, 3, 7, 8, 4, 0, 5, 6] \n",
      "\n",
      "[1, 2, 3, 4, 5, 6, 7, 8, 0]\n",
      "Length of solution: 10\n",
      "Nodes Expanded = 391\n",
      "-----------------------\n",
      "['l', 'l', 'd', 'd', 'r', 'u', 'u', 'l', 'd', 'd', 'r', 'r']\n",
      "-----------------------\n",
      "[5, 3, 0, 2, 7, 6, 1, 4, 8] \n",
      "\n",
      "[1, 2, 3, 4, 5, 6, 7, 8, 0]\n",
      "Length of solution: 12\n",
      "Nodes Expanded = 1036\n",
      "-----------------------\n",
      "-------\n",
      "[('513402786', 'rdlluurdldrr', 1401), ('123784056', 'rurdllurdr', 391), ('530276148', 'llddruulddrr', 1036)]\n",
      ">>>>>>>>>>>>>>>>>>>>>>>>>>>>>>>>>>>\n",
      "\n",
      "random 20\n",
      "['u', 'r', 'u', 'l', 'd', 'd', 'r', 'r', 'u', 'u', 'l', 'd', 'l', 'd', 'r', 'r', 'u', 'l', 'l', 'd', 'r', 'r']\n",
      "-----------------------\n",
      "[3, 2, 8, 6, 1, 7, 0, 5, 4] \n",
      "\n",
      "[1, 2, 3, 4, 5, 6, 7, 8, 0]\n",
      "Length of solution: 22\n",
      "Nodes Expanded = 59273\n",
      "-----------------------\n",
      "['u', 'u', 'l', 'd', 'd', 'l', 'u', 'r', 'u', 'l', 'd', 'd', 'r', 'r']\n",
      "-----------------------\n",
      "[2, 3, 6, 4, 5, 8, 7, 1, 0] \n",
      "\n",
      "[1, 2, 3, 4, 5, 6, 7, 8, 0]\n",
      "Length of solution: 14\n",
      "Nodes Expanded = 1860\n",
      "-----------------------\n",
      "['d', 'd', 'r', 'u', 'r', 'd', 'l', 'u', 'r', 'u', 'l', 'l', 'd', 'r', 'd', 'r']\n",
      "-----------------------\n",
      "[0, 3, 6, 2, 8, 5, 1, 7, 4] \n",
      "\n",
      "[1, 2, 3, 4, 5, 6, 7, 8, 0]\n",
      "Length of solution: 16\n",
      "Nodes Expanded = 5060\n",
      "-----------------------\n",
      "-------\n",
      "[('328617054', 'urulddrruuldldrrulldrr', 59273), ('236458710', 'uulddlurulddrr', 1860), ('036285174', 'ddrurdlurulldrdr', 5060)]\n",
      ">>>>>>>>>>>>>>>>>>>>>>>>>>>>>>>>>>>\n",
      "\n",
      "random 40\n",
      "['l', 'u', 'u', 'r', 'd', 'l', 'l', 'd', 'r', 'u', 'u', 'l', 'd', 'd', 'r', 'u', 'u', 'l', 'd', 'd', 'r', 'r']\n",
      "-----------------------\n",
      "[5, 6, 7, 4, 1, 3, 2, 8, 0] \n",
      "\n",
      "[1, 2, 3, 4, 5, 6, 7, 8, 0]\n",
      "Length of solution: 22\n",
      "Nodes Expanded = 66567\n",
      "-----------------------\n",
      "['r', 'u', 'l', 'u', 'r', 'd', 'r', 'u', 'l', 'l', 'd', 'r', 'd', 'r']\n",
      "-----------------------\n",
      "[1, 2, 6, 3, 5, 4, 0, 7, 8] \n",
      "\n",
      "[1, 2, 3, 4, 5, 6, 7, 8, 0]\n",
      "Length of solution: 14\n",
      "Nodes Expanded = 2532\n",
      "-----------------------\n",
      "['l', 'u', 'r', 'u', 'l', 'd', 'l', 'u', 'r', 'd', 'd', 'r', 'u', 'u', 'l', 'l', 'd', 'r', 'r', 'd']\n",
      "-----------------------\n",
      "[1, 5, 6, 3, 4, 2, 7, 8, 0] \n",
      "\n",
      "[1, 2, 3, 4, 5, 6, 7, 8, 0]\n",
      "Length of solution: 20\n",
      "Nodes Expanded = 35575\n",
      "-----------------------\n",
      "-------\n",
      "[('567413280', 'luurdlldruulddruulddrr', 66567), ('126354078', 'rulurdrulldrdr', 2532), ('156342780', 'luruldlurddruulldrrd', 35575)]\n",
      ">>>>>>>>>>>>>>>>>>>>>>>>>>>>>>>>>>>\n",
      "\n",
      "random 80\n",
      "['r', 'u', 'l', 'd', 'd', 'l', 'u', 'u', 'r', 'd', 'd', 'l', 'u', 'r', 'r', 'd', 'l', 'u', 'u', 'r', 'd', 'd']\n",
      "-----------------------\n",
      "[7, 2, 8, 6, 0, 1, 4, 5, 3] \n",
      "\n",
      "[1, 2, 3, 4, 5, 6, 7, 8, 0]\n",
      "Length of solution: 22\n",
      "Nodes Expanded = 78597\n",
      "-----------------------\n",
      "['l', 'l', 'u', 'r', 'u', 'l', 'd', 'r', 'r', 'u', 'l', 'd', 'r', 'd', 'l', 'l', 'u', 'r', 'd', 'r']\n",
      "-----------------------\n",
      "[3, 7, 4, 5, 1, 2, 8, 6, 0] \n",
      "\n",
      "[1, 2, 3, 4, 5, 6, 7, 8, 0]\n",
      "Length of solution: 20\n",
      "Nodes Expanded = 37007\n",
      "-----------------------\n",
      "['d', 'l', 'u', 'l', 'd', 'r', 'd', 'l', 'u', 'u', 'r', 'd', 'r', 'u', 'l', 'd', 'd', 'r']\n",
      "-----------------------\n",
      "[1, 7, 0, 4, 2, 6, 5, 3, 8] \n",
      "\n",
      "[1, 2, 3, 4, 5, 6, 7, 8, 0]\n",
      "Length of solution: 18\n",
      "Nodes Expanded = 13131\n",
      "-----------------------\n",
      "-------\n",
      "[('728601453', 'rulddluurddlurrdluurdd', 78597), ('374512860', 'lluruldrruldrdllurdr', 37007), ('170426538', 'dluldrdluurdrulddr', 13131)]\n",
      ">>>>>>>>>>>>>>>>>>>>>>>>>>>>>>>>>>>\n",
      "\n"
     ]
    }
   ],
   "source": [
    "print('random 5')\n",
    "run_bfs_on_puzzles(random5_3by3)\n",
    "print('>>>>>>>>>>>>>>>>>>>>>>>>>>>>>>>>>>>')\n",
    "print()\n",
    "print('random 10')\n",
    "run_bfs_on_puzzles(random10_3by3)\n",
    "print('>>>>>>>>>>>>>>>>>>>>>>>>>>>>>>>>>>>')\n",
    "print()\n",
    "print('random 20')\n",
    "run_bfs_on_puzzles(random20_3by3)\n",
    "print('>>>>>>>>>>>>>>>>>>>>>>>>>>>>>>>>>>>')\n",
    "print()\n",
    "print('random 40')\n",
    "run_bfs_on_puzzles(random40_3by3)\n",
    "print('>>>>>>>>>>>>>>>>>>>>>>>>>>>>>>>>>>>')\n",
    "print()\n",
    "print('random 80')\n",
    "run_bfs_on_puzzles(random80_3by3)\n",
    "print('>>>>>>>>>>>>>>>>>>>>>>>>>>>>>>>>>>>')\n",
    "print()"
   ]
  },
  {
   "cell_type": "raw",
   "metadata": {},
   "source": [
    "A* with out-of-place and Manhattan-Distance heurstics.\n",
    "For each random problem document: (1) start state, (2) the solution, (3) length of solution, and (4) nodes expanded.\n",
    "Explain what these results indicate about search as a tool for Artificial Intelligence, especially as related to increase complexity in problem size."
   ]
  },
  {
   "cell_type": "code",
   "execution_count": 237,
   "metadata": {},
   "outputs": [],
   "source": [
    "def run_astar_on_puzzles(puzzle_list, heuristic_fn):\n",
    "    Solutions = []\n",
    "\n",
    "    for s in puzzle_list:\n",
    "        TileSliding.INITIAL = s\n",
    "        AStarFb = lambda n: n.PathCost + heuristic_fn(n.State, GoalState)\n",
    "        ret, cost = BestFirstSearch(TileSliding, AStarFb)\n",
    "        sol = Solution(ret)\n",
    "        \n",
    "        print(sol)\n",
    "        print(\"-----------------------\")\n",
    "        print(TileSliding.INITIAL, '\\n')\n",
    "        print(ApplyMoves(sol, TileSliding.INITIAL))\n",
    "        print(\"Length of solution:\", len(sol))\n",
    "        print(\"Nodes Expanded =\", cost)\n",
    "        print(\"-----------------------\")\n",
    "        \n",
    "        Solutions.append((''.join(map(str, s)), ''.join(sol), cost))\n",
    "\n",
    "    print(\"-------\")\n",
    "    print(Solutions)\n",
    "    return Solutions\n"
   ]
  },
  {
   "cell_type": "code",
   "execution_count": 238,
   "metadata": {},
   "outputs": [
    {
     "name": "stdout",
     "output_type": "stream",
     "text": [
      "random 5\n",
      "['r', 'd', 'd']\n",
      "-----------------------\n",
      "[1, 0, 2, 4, 5, 3, 7, 8, 6] \n",
      "\n",
      "[1, 2, 3, 4, 5, 6, 7, 8, 0]\n",
      "Length of solution: 3\n",
      "Nodes Expanded = 3\n",
      "-----------------------\n",
      "['u', 'l', 'd', 'l', 'd', 'r', 'r']\n",
      "-----------------------\n",
      "[1, 3, 6, 5, 2, 0, 4, 7, 8] \n",
      "\n",
      "[1, 2, 3, 4, 5, 6, 7, 8, 0]\n",
      "Length of solution: 7\n",
      "Nodes Expanded = 7\n",
      "-----------------------\n",
      "['r', 'd', 'l', 'd', 'r']\n",
      "-----------------------\n",
      "[1, 0, 2, 4, 6, 3, 7, 5, 8] \n",
      "\n",
      "[1, 2, 3, 4, 5, 6, 7, 8, 0]\n",
      "Length of solution: 5\n",
      "Nodes Expanded = 5\n",
      "-----------------------\n",
      "-------\n",
      "[('102453786', 'rdd', 3), ('136520478', 'uldldrr', 7), ('102463758', 'rdldr', 5)]\n",
      "['r', 'd', 'd']\n",
      "-----------------------\n",
      "[1, 0, 2, 4, 5, 3, 7, 8, 6] \n",
      "\n",
      "[1, 2, 3, 4, 5, 6, 7, 8, 0]\n",
      "Length of solution: 3\n",
      "Nodes Expanded = 3\n",
      "-----------------------\n",
      "['u', 'l', 'd', 'l', 'd', 'r', 'r']\n",
      "-----------------------\n",
      "[1, 3, 6, 5, 2, 0, 4, 7, 8] \n",
      "\n",
      "[1, 2, 3, 4, 5, 6, 7, 8, 0]\n",
      "Length of solution: 7\n",
      "Nodes Expanded = 7\n",
      "-----------------------\n",
      "['r', 'd', 'l', 'd', 'r']\n",
      "-----------------------\n",
      "[1, 0, 2, 4, 6, 3, 7, 5, 8] \n",
      "\n",
      "[1, 2, 3, 4, 5, 6, 7, 8, 0]\n",
      "Length of solution: 5\n",
      "Nodes Expanded = 5\n",
      "-----------------------\n",
      "-------\n",
      "[('102453786', 'rdd', 3), ('136520478', 'uldldrr', 7), ('102463758', 'rdldr', 5)]\n",
      ">>>>>>>>>>>>>>>>>>>>>>>>>>>>>>>>>>>\n",
      "\n",
      "random 10\n",
      "['r', 'd', 'l', 'l', 'u', 'u', 'r', 'd', 'l', 'd', 'r', 'r']\n",
      "-----------------------\n",
      "[5, 1, 3, 4, 0, 2, 7, 8, 6] \n",
      "\n",
      "[1, 2, 3, 4, 5, 6, 7, 8, 0]\n",
      "Length of solution: 12\n",
      "Nodes Expanded = 142\n",
      "-----------------------\n",
      "['r', 'u', 'r', 'd', 'l', 'l', 'u', 'r', 'd', 'r']\n",
      "-----------------------\n",
      "[1, 2, 3, 7, 8, 4, 0, 5, 6] \n",
      "\n",
      "[1, 2, 3, 4, 5, 6, 7, 8, 0]\n",
      "Length of solution: 10\n",
      "Nodes Expanded = 48\n",
      "-----------------------\n",
      "['l', 'l', 'd', 'd', 'r', 'u', 'u', 'l', 'd', 'd', 'r', 'r']\n",
      "-----------------------\n",
      "[5, 3, 0, 2, 7, 6, 1, 4, 8] \n",
      "\n",
      "[1, 2, 3, 4, 5, 6, 7, 8, 0]\n",
      "Length of solution: 12\n",
      "Nodes Expanded = 71\n",
      "-----------------------\n",
      "-------\n",
      "[('513402786', 'rdlluurdldrr', 142), ('123784056', 'rurdllurdr', 48), ('530276148', 'llddruulddrr', 71)]\n",
      "['r', 'd', 'l', 'l', 'u', 'u', 'r', 'd', 'l', 'd', 'r', 'r']\n",
      "-----------------------\n",
      "[5, 1, 3, 4, 0, 2, 7, 8, 6] \n",
      "\n",
      "[1, 2, 3, 4, 5, 6, 7, 8, 0]\n",
      "Length of solution: 12\n",
      "Nodes Expanded = 75\n",
      "-----------------------\n",
      "['r', 'u', 'r', 'd', 'l', 'l', 'u', 'r', 'd', 'r']\n",
      "-----------------------\n",
      "[1, 2, 3, 7, 8, 4, 0, 5, 6] \n",
      "\n",
      "[1, 2, 3, 4, 5, 6, 7, 8, 0]\n",
      "Length of solution: 10\n",
      "Nodes Expanded = 28\n",
      "-----------------------\n",
      "['l', 'l', 'd', 'd', 'r', 'u', 'u', 'l', 'd', 'd', 'r', 'r']\n",
      "-----------------------\n",
      "[5, 3, 0, 2, 7, 6, 1, 4, 8] \n",
      "\n",
      "[1, 2, 3, 4, 5, 6, 7, 8, 0]\n",
      "Length of solution: 12\n",
      "Nodes Expanded = 18\n",
      "-----------------------\n",
      "-------\n",
      "[('513402786', 'rdlluurdldrr', 75), ('123784056', 'rurdllurdr', 28), ('530276148', 'llddruulddrr', 18)]\n",
      ">>>>>>>>>>>>>>>>>>>>>>>>>>>>>>>>>>>\n",
      "\n",
      "random 20\n",
      "['u', 'r', 'u', 'l', 'd', 'd', 'r', 'r', 'u', 'u', 'l', 'd', 'l', 'd', 'r', 'r', 'u', 'l', 'l', 'd', 'r', 'r']\n",
      "-----------------------\n",
      "[3, 2, 8, 6, 1, 7, 0, 5, 4] \n",
      "\n",
      "[1, 2, 3, 4, 5, 6, 7, 8, 0]\n",
      "Length of solution: 22\n",
      "Nodes Expanded = 7050\n",
      "-----------------------\n",
      "['u', 'l', 'd', 'l', 'u', 'r', 'r', 'u', 'l', 'l', 'd', 'd', 'r', 'r']\n",
      "-----------------------\n",
      "[2, 3, 6, 4, 5, 8, 7, 1, 0] \n",
      "\n",
      "[1, 2, 3, 4, 5, 6, 7, 8, 0]\n",
      "Length of solution: 14\n",
      "Nodes Expanded = 256\n",
      "-----------------------\n",
      "['d', 'd', 'r', 'r', 'u', 'l', 'd', 'r', 'u', 'u', 'l', 'l', 'd', 'r', 'd', 'r']\n",
      "-----------------------\n",
      "[0, 3, 6, 2, 8, 5, 1, 7, 4] \n",
      "\n",
      "[1, 2, 3, 4, 5, 6, 7, 8, 0]\n",
      "Length of solution: 16\n",
      "Nodes Expanded = 503\n",
      "-----------------------\n",
      "-------\n",
      "[('328617054', 'urulddrruuldldrrulldrr', 7050), ('236458710', 'uldlurrullddrr', 256), ('036285174', 'ddrruldruulldrdr', 503)]\n",
      "['u', 'r', 'u', 'l', 'd', 'd', 'r', 'r', 'u', 'u', 'l', 'd', 'l', 'd', 'r', 'r', 'u', 'l', 'l', 'd', 'r', 'r']\n",
      "-----------------------\n",
      "[3, 2, 8, 6, 1, 7, 0, 5, 4] \n",
      "\n",
      "[1, 2, 3, 4, 5, 6, 7, 8, 0]\n",
      "Length of solution: 22\n",
      "Nodes Expanded = 359\n",
      "-----------------------\n",
      "['u', 'u', 'l', 'd', 'd', 'l', 'u', 'r', 'u', 'l', 'd', 'd', 'r', 'r']\n",
      "-----------------------\n",
      "[2, 3, 6, 4, 5, 8, 7, 1, 0] \n",
      "\n",
      "[1, 2, 3, 4, 5, 6, 7, 8, 0]\n",
      "Length of solution: 14\n",
      "Nodes Expanded = 89\n",
      "-----------------------\n",
      "['d', 'd', 'r', 'r', 'u', 'l', 'd', 'r', 'u', 'u', 'l', 'l', 'd', 'r', 'd', 'r']\n",
      "-----------------------\n",
      "[0, 3, 6, 2, 8, 5, 1, 7, 4] \n",
      "\n",
      "[1, 2, 3, 4, 5, 6, 7, 8, 0]\n",
      "Length of solution: 16\n",
      "Nodes Expanded = 95\n",
      "-----------------------\n",
      "-------\n",
      "[('328617054', 'urulddrruuldldrrulldrr', 359), ('236458710', 'uulddlurulddrr', 89), ('036285174', 'ddrruldruulldrdr', 95)]\n",
      ">>>>>>>>>>>>>>>>>>>>>>>>>>>>>>>>>>>\n",
      "\n",
      "random 40\n",
      "['l', 'u', 'u', 'r', 'd', 'l', 'l', 'd', 'r', 'u', 'u', 'l', 'd', 'd', 'r', 'u', 'u', 'l', 'd', 'd', 'r', 'r']\n",
      "-----------------------\n",
      "[5, 6, 7, 4, 1, 3, 2, 8, 0] \n",
      "\n",
      "[1, 2, 3, 4, 5, 6, 7, 8, 0]\n",
      "Length of solution: 22\n",
      "Nodes Expanded = 7552\n",
      "-----------------------\n",
      "['r', 'u', 'l', 'u', 'r', 'd', 'r', 'u', 'l', 'l', 'd', 'r', 'd', 'r']\n",
      "-----------------------\n",
      "[1, 2, 6, 3, 5, 4, 0, 7, 8] \n",
      "\n",
      "[1, 2, 3, 4, 5, 6, 7, 8, 0]\n",
      "Length of solution: 14\n",
      "Nodes Expanded = 246\n",
      "-----------------------\n",
      "['l', 'u', 'r', 'u', 'l', 'd', 'l', 'u', 'r', 'd', 'd', 'r', 'u', 'u', 'l', 'l', 'd', 'r', 'r', 'd']\n",
      "-----------------------\n",
      "[1, 5, 6, 3, 4, 2, 7, 8, 0] \n",
      "\n",
      "[1, 2, 3, 4, 5, 6, 7, 8, 0]\n",
      "Length of solution: 20\n",
      "Nodes Expanded = 3584\n",
      "-----------------------\n",
      "-------\n",
      "[('567413280', 'luurdlldruulddruulddrr', 7552), ('126354078', 'rulurdrulldrdr', 246), ('156342780', 'luruldlurddruulldrrd', 3584)]\n",
      "['l', 'u', 'u', 'r', 'd', 'l', 'l', 'd', 'r', 'u', 'u', 'l', 'd', 'd', 'r', 'u', 'u', 'l', 'd', 'd', 'r', 'r']\n",
      "-----------------------\n",
      "[5, 6, 7, 4, 1, 3, 2, 8, 0] \n",
      "\n",
      "[1, 2, 3, 4, 5, 6, 7, 8, 0]\n",
      "Length of solution: 22\n",
      "Nodes Expanded = 700\n",
      "-----------------------\n",
      "['r', 'u', 'l', 'u', 'r', 'd', 'r', 'u', 'l', 'l', 'd', 'r', 'd', 'r']\n",
      "-----------------------\n",
      "[1, 2, 6, 3, 5, 4, 0, 7, 8] \n",
      "\n",
      "[1, 2, 3, 4, 5, 6, 7, 8, 0]\n",
      "Length of solution: 14\n",
      "Nodes Expanded = 64\n",
      "-----------------------\n",
      "['l', 'l', 'u', 'r', 'u', 'l', 'd', 'd', 'r', 'u', 'l', 'u', 'r', 'd', 'r', 'u', 'l', 'd', 'd', 'r']\n",
      "-----------------------\n",
      "[1, 5, 6, 3, 4, 2, 7, 8, 0] \n",
      "\n",
      "[1, 2, 3, 4, 5, 6, 7, 8, 0]\n",
      "Length of solution: 20\n",
      "Nodes Expanded = 749\n",
      "-----------------------\n",
      "-------\n",
      "[('567413280', 'luurdlldruulddruulddrr', 700), ('126354078', 'rulurdrulldrdr', 64), ('156342780', 'llurulddrulurdrulddr', 749)]\n",
      ">>>>>>>>>>>>>>>>>>>>>>>>>>>>>>>>>>>\n",
      "\n",
      "random 80\n",
      "['r', 'u', 'l', 'd', 'd', 'l', 'u', 'u', 'r', 'd', 'd', 'l', 'u', 'r', 'r', 'd', 'l', 'u', 'u', 'r', 'd', 'd']\n",
      "-----------------------\n",
      "[7, 2, 8, 6, 0, 1, 4, 5, 3] \n",
      "\n",
      "[1, 2, 3, 4, 5, 6, 7, 8, 0]\n",
      "Length of solution: 22\n",
      "Nodes Expanded = 9311\n",
      "-----------------------\n",
      "['l', 'l', 'u', 'r', 'u', 'l', 'd', 'r', 'r', 'u', 'l', 'd', 'r', 'd', 'l', 'l', 'u', 'r', 'd', 'r']\n",
      "-----------------------\n",
      "[3, 7, 4, 5, 1, 2, 8, 6, 0] \n",
      "\n",
      "[1, 2, 3, 4, 5, 6, 7, 8, 0]\n",
      "Length of solution: 20\n",
      "Nodes Expanded = 2890\n",
      "-----------------------\n",
      "['d', 'l', 'u', 'l', 'd', 'r', 'd', 'l', 'u', 'u', 'r', 'd', 'r', 'u', 'l', 'd', 'd', 'r']\n",
      "-----------------------\n",
      "[1, 7, 0, 4, 2, 6, 5, 3, 8] \n",
      "\n",
      "[1, 2, 3, 4, 5, 6, 7, 8, 0]\n",
      "Length of solution: 18\n",
      "Nodes Expanded = 1353\n",
      "-----------------------\n",
      "-------\n",
      "[('728601453', 'rulddluurddlurrdluurdd', 9311), ('374512860', 'lluruldrruldrdllurdr', 2890), ('170426538', 'dluldrdluurdrulddr', 1353)]\n",
      "['r', 'u', 'l', 'd', 'd', 'l', 'u', 'u', 'r', 'd', 'd', 'l', 'u', 'r', 'r', 'd', 'l', 'u', 'u', 'r', 'd', 'd']\n",
      "-----------------------\n",
      "[7, 2, 8, 6, 0, 1, 4, 5, 3] \n",
      "\n",
      "[1, 2, 3, 4, 5, 6, 7, 8, 0]\n",
      "Length of solution: 22\n",
      "Nodes Expanded = 889\n",
      "-----------------------\n",
      "['l', 'l', 'u', 'r', 'u', 'l', 'd', 'r', 'r', 'u', 'l', 'd', 'r', 'd', 'l', 'l', 'u', 'r', 'd', 'r']\n",
      "-----------------------\n",
      "[3, 7, 4, 5, 1, 2, 8, 6, 0] \n",
      "\n",
      "[1, 2, 3, 4, 5, 6, 7, 8, 0]\n",
      "Length of solution: 20\n",
      "Nodes Expanded = 205\n",
      "-----------------------\n",
      "['d', 'l', 'u', 'l', 'd', 'r', 'd', 'l', 'u', 'u', 'r', 'd', 'r', 'u', 'l', 'd', 'd', 'r']\n",
      "-----------------------\n",
      "[1, 7, 0, 4, 2, 6, 5, 3, 8] \n",
      "\n",
      "[1, 2, 3, 4, 5, 6, 7, 8, 0]\n",
      "Length of solution: 18\n",
      "Nodes Expanded = 197\n",
      "-----------------------\n",
      "-------\n",
      "[('728601453', 'rulddluurddlurrdluurdd', 889), ('374512860', 'lluruldrruldrdllurdr', 205), ('170426538', 'dluldrdluurdrulddr', 197)]\n",
      ">>>>>>>>>>>>>>>>>>>>>>>>>>>>>>>>>>>\n",
      "\n"
     ]
    }
   ],
   "source": [
    "print('random 5')\n",
    "run_astar_on_puzzles(random5_3by3, OutOfPlace)\n",
    "run_astar_on_puzzles(random5_3by3, ManhattanDistance)\n",
    "print('>>>>>>>>>>>>>>>>>>>>>>>>>>>>>>>>>>>')\n",
    "print()\n",
    "print('random 10')\n",
    "run_astar_on_puzzles(random10_3by3, OutOfPlace)\n",
    "run_astar_on_puzzles(random10_3by3, ManhattanDistance)\n",
    "print('>>>>>>>>>>>>>>>>>>>>>>>>>>>>>>>>>>>')\n",
    "print()\n",
    "print('random 20')\n",
    "run_astar_on_puzzles(random20_3by3, OutOfPlace)\n",
    "run_astar_on_puzzles(random20_3by3, ManhattanDistance)\n",
    "print('>>>>>>>>>>>>>>>>>>>>>>>>>>>>>>>>>>>')\n",
    "print()\n",
    "print('random 40')\n",
    "run_astar_on_puzzles(random40_3by3, OutOfPlace)\n",
    "run_astar_on_puzzles(random40_3by3, ManhattanDistance)\n",
    "print('>>>>>>>>>>>>>>>>>>>>>>>>>>>>>>>>>>>')\n",
    "print()\n",
    "print('random 80')\n",
    "run_astar_on_puzzles(random80_3by3, OutOfPlace)\n",
    "run_astar_on_puzzles(random80_3by3, ManhattanDistance)\n",
    "print('>>>>>>>>>>>>>>>>>>>>>>>>>>>>>>>>>>>')\n",
    "print()"
   ]
  },
  {
   "cell_type": "code",
   "execution_count": null,
   "metadata": {},
   "outputs": [],
   "source": []
  },
  {
   "cell_type": "code",
   "execution_count": null,
   "metadata": {},
   "outputs": [],
   "source": []
  },
  {
   "cell_type": "raw",
   "metadata": {},
   "source": [
    "4 X 4"
   ]
  },
  {
   "cell_type": "code",
   "execution_count": 243,
   "metadata": {},
   "outputs": [],
   "source": [
    "# 4x4 Initial State\n",
    "StateDimension = 4\n",
    "InitialState_4x4 = [1, 2, 3, 4,\n",
    "                    5, 6, 7, 8,\n",
    "                    9,10,11,12,\n",
    "                   13,14,15, 0]\n",
    "\n",
    "# Generate random puzzles for each walk length\n",
    "random5_4by4 = []\n",
    "for _ in range(3):\n",
    "    random.seed(None)\n",
    "    state, sol = RandomWalk(InitialState_4x4[:], 5)\n",
    "    random5_4by4.append(state)\n",
    "\n",
    "random10_4by4 = []\n",
    "for _ in range(3):\n",
    "    random.seed(None)\n",
    "    state, sol = RandomWalk(InitialState_4x4[:], 10)\n",
    "    random10_4by4.append(state)\n",
    "\n",
    "random20_4by4 = []\n",
    "for _ in range(3):\n",
    "    random.seed(None)\n",
    "    state, sol = RandomWalk(InitialState_4x4[:], 20)\n",
    "    random20_4by4.append(state)\n",
    "\n",
    "random40_4by4 = []\n",
    "for _ in range(3):\n",
    "    random.seed(None)\n",
    "    state, sol = RandomWalk(InitialState_4x4[:], 40)\n",
    "    random40_4by4.append(state)\n",
    "\n",
    "random80_4by4 = []\n",
    "for _ in range(3):\n",
    "    random.seed(None)\n",
    "    state, sol = RandomWalk(InitialState_4x4[:], 80)\n",
    "    random80_4by4.append(state)\n"
   ]
  },
  {
   "cell_type": "code",
   "execution_count": 244,
   "metadata": {},
   "outputs": [],
   "source": [
    "def run_bfs_on_4x4_puzzles(puzzle_list, label):\n",
    "    Solutions = []\n",
    "\n",
    "    for i, s in enumerate(puzzle_list):\n",
    "        print(f\"--- {label} Puzzle {i+1} ---\")\n",
    "        TileSliding.INITIAL = s\n",
    "        ret, cost = BreadthFirstSearch(TileSliding)\n",
    "\n",
    "        if ret is None:\n",
    "            print(\"No solution found.\")\n",
    "            Solutions.append((''.join(map(str, s)), 'None', 0, cost))\n",
    "            continue\n",
    "\n",
    "        sol = Solution(ret)\n",
    "\n",
    "        print(\"Solution path:\", sol)\n",
    "        print(\"Start state:\", TileSliding.INITIAL)\n",
    "        print(\"Result state:\", ApplyMoves(sol, TileSliding.INITIAL))\n",
    "        print(\"Length of solution:\", len(sol))\n",
    "        print(\"Nodes expanded:\", cost)\n",
    "        print(\"---------------------------\")\n",
    "\n",
    "        Solutions.append((''.join(map(str, s)), ''.join(sol), len(sol), cost))\n",
    "\n",
    "    return Solutions\n"
   ]
  },
  {
   "cell_type": "raw",
   "metadata": {},
   "source": [
    "Breadth-First Search\n",
    "For each random problem document: (1) start state, (2) the solution, (3) length of solution, and (4) nodes expanded.\n",
    "Explain what these results indicate about search as a tool for Artificial Intelligence, especially as related to increase complexity in problem size."
   ]
  },
  {
   "cell_type": "code",
   "execution_count": 245,
   "metadata": {},
   "outputs": [
    {
     "name": "stdout",
     "output_type": "stream",
     "text": [
      "--- 4by4-5steps Puzzle 1 ---\n"
     ]
    },
    {
     "name": "stderr",
     "output_type": "stream",
     "text": [
      "Exception ignored in: <bound method IPythonKernel._clean_thread_parent_frames of <ipykernel.ipkernel.IPythonKernel object at 0x707bc23cd8a0>>\n",
      "Traceback (most recent call last):\n",
      "  File \"/home/scott/miniconda3/envs/elodie/lib/python3.10/site-packages/ipykernel/ipkernel.py\", line 775, in _clean_thread_parent_frames\n",
      "    def _clean_thread_parent_frames(\n",
      "KeyboardInterrupt: \n"
     ]
    },
    {
     "name": "stdout",
     "output_type": "stream",
     "text": [
      "No solution found.\n",
      "--- 4by4-5steps Puzzle 2 ---\n",
      "No solution found.\n",
      "--- 4by4-5steps Puzzle 3 ---\n"
     ]
    },
    {
     "ename": "KeyboardInterrupt",
     "evalue": "",
     "output_type": "error",
     "traceback": [
      "\u001b[0;31m---------------------------------------------------------------------------\u001b[0m",
      "\u001b[0;31mKeyboardInterrupt\u001b[0m                         Traceback (most recent call last)",
      "Cell \u001b[0;32mIn[245], line 1\u001b[0m\n\u001b[0;32m----> 1\u001b[0m bfs_results_5 \u001b[38;5;241m=\u001b[39m \u001b[43mrun_bfs_on_4x4_puzzles\u001b[49m\u001b[43m(\u001b[49m\u001b[43mrandom5_4by4\u001b[49m\u001b[43m,\u001b[49m\u001b[43m \u001b[49m\u001b[38;5;124;43m\"\u001b[39;49m\u001b[38;5;124;43m4by4-5steps\u001b[39;49m\u001b[38;5;124;43m\"\u001b[39;49m\u001b[43m)\u001b[49m\n\u001b[1;32m      2\u001b[0m bfs_results_10 \u001b[38;5;241m=\u001b[39m run_bfs_on_4x4_puzzles(random10_4by4, \u001b[38;5;124m\"\u001b[39m\u001b[38;5;124m4by4-10steps\u001b[39m\u001b[38;5;124m\"\u001b[39m)\n\u001b[1;32m      3\u001b[0m bfs_results_20 \u001b[38;5;241m=\u001b[39m run_bfs_on_4x4_puzzles(random20_4by4, \u001b[38;5;124m\"\u001b[39m\u001b[38;5;124m4by4-20steps\u001b[39m\u001b[38;5;124m\"\u001b[39m)\n",
      "Cell \u001b[0;32mIn[244], line 7\u001b[0m, in \u001b[0;36mrun_bfs_on_4x4_puzzles\u001b[0;34m(puzzle_list, label)\u001b[0m\n\u001b[1;32m      5\u001b[0m \u001b[38;5;28mprint\u001b[39m(\u001b[38;5;124mf\u001b[39m\u001b[38;5;124m\"\u001b[39m\u001b[38;5;124m--- \u001b[39m\u001b[38;5;132;01m{\u001b[39;00mlabel\u001b[38;5;132;01m}\u001b[39;00m\u001b[38;5;124m Puzzle \u001b[39m\u001b[38;5;132;01m{\u001b[39;00mi\u001b[38;5;241m+\u001b[39m\u001b[38;5;241m1\u001b[39m\u001b[38;5;132;01m}\u001b[39;00m\u001b[38;5;124m ---\u001b[39m\u001b[38;5;124m\"\u001b[39m)\n\u001b[1;32m      6\u001b[0m TileSliding\u001b[38;5;241m.\u001b[39mINITIAL \u001b[38;5;241m=\u001b[39m s\n\u001b[0;32m----> 7\u001b[0m ret, cost \u001b[38;5;241m=\u001b[39m \u001b[43mBreadthFirstSearch\u001b[49m\u001b[43m(\u001b[49m\u001b[43mTileSliding\u001b[49m\u001b[43m)\u001b[49m\n\u001b[1;32m      9\u001b[0m \u001b[38;5;28;01mif\u001b[39;00m ret \u001b[38;5;129;01mis\u001b[39;00m \u001b[38;5;28;01mNone\u001b[39;00m:\n\u001b[1;32m     10\u001b[0m     \u001b[38;5;28mprint\u001b[39m(\u001b[38;5;124m\"\u001b[39m\u001b[38;5;124mNo solution found.\u001b[39m\u001b[38;5;124m\"\u001b[39m)\n",
      "Cell \u001b[0;32mIn[209], line 14\u001b[0m, in \u001b[0;36mBreadthFirstSearch\u001b[0;34m(problem)\u001b[0m\n\u001b[1;32m     12\u001b[0m node \u001b[38;5;241m=\u001b[39m Frontier\u001b[38;5;241m.\u001b[39mpop(\u001b[38;5;241m0\u001b[39m)\n\u001b[1;32m     13\u001b[0m \u001b[38;5;66;03m### print(node)\u001b[39;00m\n\u001b[0;32m---> 14\u001b[0m \u001b[38;5;28;01mfor\u001b[39;00m child \u001b[38;5;129;01min\u001b[39;00m \u001b[43mExpand\u001b[49m\u001b[43m(\u001b[49m\u001b[43mproblem\u001b[49m\u001b[43m,\u001b[49m\u001b[43m \u001b[49m\u001b[43mnode\u001b[49m\u001b[43m)\u001b[49m:\n\u001b[1;32m     15\u001b[0m   s \u001b[38;5;241m=\u001b[39m \u001b[38;5;28mtuple\u001b[39m(child\u001b[38;5;241m.\u001b[39mState)\n\u001b[1;32m     16\u001b[0m   \u001b[38;5;66;03m### print (s, \"IsGoal=\", problem.IsGoal(s))\u001b[39;00m\n",
      "Cell \u001b[0;32mIn[208], line 5\u001b[0m, in \u001b[0;36mExpand\u001b[0;34m(problem, node)\u001b[0m\n\u001b[1;32m      3\u001b[0m s \u001b[38;5;241m=\u001b[39m node\u001b[38;5;241m.\u001b[39mState\n\u001b[1;32m      4\u001b[0m \u001b[38;5;28;01mfor\u001b[39;00m action \u001b[38;5;129;01min\u001b[39;00m problem\u001b[38;5;241m.\u001b[39mActions(s):\n\u001b[0;32m----> 5\u001b[0m   sPrime \u001b[38;5;241m=\u001b[39m \u001b[43mproblem\u001b[49m\u001b[38;5;241;43m.\u001b[39;49m\u001b[43mResult\u001b[49m\u001b[43m(\u001b[49m\u001b[43ms\u001b[49m\u001b[43m,\u001b[49m\u001b[43m \u001b[49m\u001b[43maction\u001b[49m\u001b[43m)\u001b[49m\n\u001b[1;32m      6\u001b[0m   cost \u001b[38;5;241m=\u001b[39mnode\u001b[38;5;241m.\u001b[39mPathCost \u001b[38;5;241m+\u001b[39m problem\u001b[38;5;241m.\u001b[39mActionCost(s,action,sPrime)\n\u001b[1;32m      7\u001b[0m   ret\u001b[38;5;241m.\u001b[39mappend(Node(sPrime, node, action, cost))\n",
      "Cell \u001b[0;32mIn[193], line 1\u001b[0m, in \u001b[0;36mResult\u001b[0;34m(state, action)\u001b[0m\n\u001b[0;32m----> 1\u001b[0m \u001b[38;5;28;01mdef\u001b[39;00m\u001b[38;5;250m \u001b[39m\u001b[38;5;21mResult\u001b[39m(state, action):\n\u001b[1;32m      2\u001b[0m   i \u001b[38;5;241m=\u001b[39m state\u001b[38;5;241m.\u001b[39mindex(\u001b[38;5;241m0\u001b[39m)\n\u001b[1;32m      3\u001b[0m   newState \u001b[38;5;241m=\u001b[39m \u001b[38;5;28mlist\u001b[39m(state)\n",
      "\u001b[0;31mKeyboardInterrupt\u001b[0m: "
     ]
    }
   ],
   "source": [
    "bfs_results_5 = run_bfs_on_4x4_puzzles(random5_4by4, \"4by4-5steps\")\n",
    "bfs_results_10 = run_bfs_on_4x4_puzzles(random10_4by4, \"4by4-10steps\")\n",
    "bfs_results_20 = run_bfs_on_4x4_puzzles(random20_4by4, \"4by4-20steps\")\n",
    "bfs_results_40 = run_bfs_on_4x4_puzzles(random40_4by4, \"4by4-40steps\")\n",
    "bfs_results_80 = run_bfs_on_4x4_puzzles(random80_4by4, \"4by4-80steps\")"
   ]
  },
  {
   "cell_type": "raw",
   "metadata": {},
   "source": [
    "A* with out-of-place and Manhattan-Distance heurstics.\n",
    "For each random problem document: (1) start state, (2) the solution, (3) length of solution, and (4) nodes expanded.\n",
    "Explain what these results indicate about search as a tool for Artificial Intelligence, especially as related to increase complexity in problem size."
   ]
  },
  {
   "cell_type": "code",
   "execution_count": 254,
   "metadata": {},
   "outputs": [],
   "source": [
    "GoalState = [1, 2, 3, 4,\n",
    "             5, 6, 7, 8,\n",
    "             9,10,11,12,\n",
    "            13,14,15, 0]\n",
    "\n",
    "def OutOfPlace4x4(left, right):\n",
    "    # Assumes both are 16-eldef OutOfPlace4x4(left, right):\n",
    "    if len(left) != 16 or len(right) != 16:\n",
    "        raise ValueError(f\"Both states must have 16 tiles for 4x4 puzzle. Got left={len(left)}, right={len(right)}\")\n",
    "    \n",
    "    return sum(1 for i in range(16) if left[i] != right[i] and right[i] != 0)\n",
    "    return sum(1 for i in range(16) if left[i] != right[i] and right[i] != 0)\n"
   ]
  },
  {
   "cell_type": "code",
   "execution_count": 255,
   "metadata": {},
   "outputs": [],
   "source": [
    "def run_astar_outofplace_4x4(puzzle_list, label):\n",
    "    Solutions = []\n",
    "\n",
    "    for i, s in enumerate(puzzle_list):\n",
    "        print(f\"\\n--- {label} Puzzle {i+1} ---\")\n",
    "        TileSliding.INITIAL = s\n",
    "\n",
    "        f = lambda n: n.PathCost + OutOfPlace4x4(n.State, GoalState)\n",
    "        ret, cost = BestFirstSearch(TileSliding, f)\n",
    "\n",
    "        if ret is None:\n",
    "            print(\"No solution found.\")\n",
    "            Solutions.append((''.join(map(str, s)), 'None', 0, cost))\n",
    "            continue\n",
    "\n",
    "        sol = Solution(ret)\n",
    "\n",
    "        print(\"Solution path:\", sol)\n",
    "        print(\"Start state:\", TileSliding.INITIAL)\n",
    "        print(\"End state:\", ApplyMoves(sol, TileSliding.INITIAL))\n",
    "        print(\"Length of solution:\", len(sol))\n",
    "        print(\"Nodes expanded:\", cost)\n",
    "        print(\"---------------------------\")\n",
    "\n",
    "        Solutions.append((''.join(map(str, s)), ''.join(sol), len(sol), cost))\n",
    "\n",
    "    return Solutions\n"
   ]
  },
  {
   "cell_type": "code",
   "execution_count": null,
   "metadata": {},
   "outputs": [
    {
     "name": "stdout",
     "output_type": "stream",
     "text": [
      "\n",
      "--- A*_OutPlace4x4_5steps Puzzle 1 ---\n",
      "No solution found.\n",
      "\n",
      "--- A*_OutPlace4x4_5steps Puzzle 2 ---\n",
      "No solution found.\n",
      "\n",
      "--- A*_OutPlace4x4_5steps Puzzle 3 ---\n",
      "No solution found.\n",
      "\n",
      "--- A*_OutPlace4x4_10steps Puzzle 1 ---\n",
      "No solution found.\n",
      "\n",
      "--- A*_OutPlace4x4_10steps Puzzle 2 ---\n",
      "No solution found.\n",
      "\n",
      "--- A*_OutPlace4x4_10steps Puzzle 3 ---\n",
      "No solution found.\n",
      "\n",
      "--- A*_OutPlace4x4_20steps Puzzle 1 ---\n"
     ]
    }
   ],
   "source": [
    "StateDimension = 4\n",
    "# -------- OutOfPlace4x4 (Custom Safe Version) --------\n",
    "astar_out_5 = run_astar_outofplace_4x4(random5_4by4, \"A*_OutPlace4x4_5steps\")\n",
    "astar_out_10 = run_astar_outofplace_4x4(random10_4by4, \"A*_OutPlace4x4_10steps\")\n",
    "astar_out_20 = run_astar_outofplace_4x4(random20_4by4, \"A*_OutPlace4x4_20steps\")\n",
    "astar_out_40 = run_astar_outofplace_4x4(random40_4by4, \"A*_OutPlace4x4_40steps\")\n",
    "astar_out_80 = run_astar_outofplace_4x4(random80_4by4, \"A*_OutPlace4x4_80steps\")\n",
    "\n",
    "# -------- Manhattan Distance (Assumed Compatible with 4x4) --------\n",
    "astar_man_5 = run_astar_on_4x4_puzzles(random5_4by4, ManhattanDistance, \"A*_Manhattan_4x4_5steps\")\n",
    "astar_man_10 = run_astar_on_4x4_puzzles(random10_4by4, ManhattanDistance, \"A*_Manhattan_4x4_10steps\")\n",
    "astar_man_20 = run_astar_on_4x4_puzzles(random20_4by4, ManhattanDistance, \"A*_Manhattan_4x4_20steps\")\n",
    "astar_man_40 = run_astar_on_4x4_puzzles(random40_4by4, ManhattanDistance, \"A*_Manhattan_4x4_40steps\")\n",
    "astar_man_80 = run_astar_on_4x4_puzzles(random80_4by4, ManhattanDistance, \"A*_Manhattan_4x4_80steps\")\n"
   ]
  },
  {
   "cell_type": "raw",
   "metadata": {},
   "source": [
    "These results show that as the puzzle size increases or the number of random steps gets larger, search algorithms like BFS and A* become much slower, expand many more nodes, and sometimes fail to finish. In some cases, the problem was so complex that my computer could not handle it and the code either froze or crashed.\n",
    "\n",
    "This demonstrates that:\n",
    "\n",
    "    Search algorithms are powerful tools for solving problems in AI.\n",
    "\n",
    "    But as the problem complexity increases, the cost in time and memory grows rapidly.\n",
    "\n",
    "    Uninformed methods like BFS become unusable for large puzzles.\n",
    "\n",
    "    Heuristic-guided search like A* (especially with good heuristics like Manhattan Distance) is much more efficient, but even A* can struggle on hard 4x4 problems.\n",
    "\n",
    "In short: search is a key part of AI, but its effectiveness depends on both the problem size and how well the algorithm is guided—and hardware limitations also matter."
   ]
  }
 ],
 "metadata": {
  "colab": {
   "authorship_tag": "ABX9TyP/XgtPkoBl7WatIg5txFKQ",
   "include_colab_link": true,
   "provenance": []
  },
  "kernelspec": {
   "display_name": "Python 3 (ipykernel)",
   "language": "python",
   "name": "python3"
  },
  "language_info": {
   "codemirror_mode": {
    "name": "ipython",
    "version": 3
   },
   "file_extension": ".py",
   "mimetype": "text/x-python",
   "name": "python",
   "nbconvert_exporter": "python",
   "pygments_lexer": "ipython3",
   "version": "3.10.15"
  }
 },
 "nbformat": 4,
 "nbformat_minor": 4
}
