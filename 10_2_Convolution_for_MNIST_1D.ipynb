{
 "cells": [
  {
   "cell_type": "markdown",
   "metadata": {
    "colab_type": "text",
    "id": "view-in-github"
   },
   "source": [
    "<a href=\"https://colab.research.google.com/github/udlbook/udlbook/blob/main/Notebooks/Chap10/10_2_Convolution_for_MNIST_1D.ipynb\" target=\"_parent\"><img src=\"https://colab.research.google.com/assets/colab-badge.svg\" alt=\"Open In Colab\"/></a>"
   ]
  },
  {
   "cell_type": "markdown",
   "metadata": {
    "id": "t9vk9Elugvmi"
   },
   "source": [
    "# **Notebook 10.2: Convolution for MNIST-1D**\n",
    "\n",
    "This notebook investigates a 1D convolutional network for MNIST-1D as in figure 10.7 and 10.8a.\n",
    "\n",
    "Work through the cells below, running each cell in turn. In various places you will see the words \"TO DO\". Follow the instructions at these places and make predictions about what is going to happen or write code to complete the functions.\n",
    "\n",
    "Contact me at udlbookmail@gmail.com if you find any mistakes or have any suggestions.\n",
    "\n"
   ]
  },
  {
   "cell_type": "code",
   "execution_count": 1,
   "metadata": {
    "id": "D5yLObtZCi9J"
   },
   "outputs": [
    {
     "name": "stdout",
     "output_type": "stream",
     "text": [
      "Collecting git+https://github.com/greydanus/mnist1d\n",
      "  Cloning https://github.com/greydanus/mnist1d to /tmp/pip-req-build-jeldcvh4\n",
      "\u001b[31m  ERROR: Error [Errno 2] No such file or directory: 'git' while executing command git version\u001b[0m\u001b[31m\n",
      "\u001b[0m\u001b[31mERROR: Cannot find command 'git' - do you have 'git' installed and in your PATH?\u001b[0m\u001b[31m\n",
      "\u001b[0m"
     ]
    }
   ],
   "source": [
    "# Run this if you're in a Colab to install MNIST 1D repository\n",
    "!pip install git+https://github.com/greydanus/mnist1d"
   ]
  },
  {
   "cell_type": "code",
   "execution_count": 5,
   "metadata": {
    "id": "YrXWAH7sUWvU"
   },
   "outputs": [],
   "source": [
    "import numpy as np\n",
    "import os\n",
    "import torch, torch.nn as nn\n",
    "from torch.utils.data import TensorDataset, DataLoader\n",
    "from torch.optim.lr_scheduler import StepLR\n",
    "import matplotlib.pyplot as plt\n",
    "import mnist1d\n",
    "import random"
   ]
  },
  {
   "cell_type": "code",
   "execution_count": 6,
   "metadata": {
    "id": "twI72ZCrCt5z"
   },
   "outputs": [
    {
     "name": "stdout",
     "output_type": "stream",
     "text": [
      "Successfully loaded data from ./mnist1d_data.pkl\n",
      "Examples in training set: 4000\n",
      "Examples in test set: 1000\n",
      "Length of each example: 40\n"
     ]
    }
   ],
   "source": [
    "args = mnist1d.data.get_dataset_args()\n",
    "data = mnist1d.data.get_dataset(args, path='./mnist1d_data.pkl', download=False, regenerate=False)\n",
    "\n",
    "# The training and test input and outputs are in\n",
    "# data['x'], data['y'], data['x_test'], and data['y_test']\n",
    "print(\"Examples in training set: {}\".format(len(data['y'])))\n",
    "print(\"Examples in test set: {}\".format(len(data['y_test'])))\n",
    "print(\"Length of each example: {}\".format(data['x'].shape[-1]))"
   ]
  },
  {
   "cell_type": "code",
   "execution_count": 7,
   "metadata": {
    "id": "8bKADvLHbiV5"
   },
   "outputs": [
    {
     "name": "stdout",
     "output_type": "stream",
     "text": [
      "Train data: 4000 examples (columns), each of which has 40 dimensions (rows)\n",
      "Validation data: 1000 examples (columns), each of which has 40 dimensions (rows)\n"
     ]
    }
   ],
   "source": [
    "# Load in the data\n",
    "train_data_x = data['x'].transpose()\n",
    "train_data_y = data['y']\n",
    "val_data_x = data['x_test'].transpose()\n",
    "val_data_y = data['y_test']\n",
    "# Print out sizes\n",
    "print(\"Train data: %d examples (columns), each of which has %d dimensions (rows)\"%((train_data_x.shape[1],train_data_x.shape[0])))\n",
    "print(\"Validation data: %d examples (columns), each of which has %d dimensions (rows)\"%((val_data_x.shape[1],val_data_x.shape[0])))"
   ]
  },
  {
   "cell_type": "markdown",
   "metadata": {
    "id": "_sFvRDGrl4qe"
   },
   "source": [
    "Define the network"
   ]
  },
  {
   "cell_type": "code",
   "execution_count": 9,
   "metadata": {
    "id": "FslroPJJffrh"
   },
   "outputs": [],
   "source": [
    "# There are 40 input dimensions and 10 output dimensions for this data\n",
    "# The inputs correspond to the 40 offsets in the MNIST1D template.\n",
    "D_i = 40\n",
    "# The outputs correspond to the 10 digits\n",
    "D_o = 10\n",
    "\n",
    "\n",
    "# TODO Create a model with the following layers\n",
    "# 1. Convolutional layer, (input=length 40 and 1 channel, kernel size 3, stride 2, padding=\"valid\", 15 output channels )\n",
    "# 2. ReLU\n",
    "# 3. Convolutional layer, (input=length 19 and 15 channels, kernel size 3, stride 2, padding=\"valid\", 15 output channels )\n",
    "# 4. ReLU\n",
    "# 5. Convolutional layer, (input=length 9 and 15 channels, kernel size 3, stride 2, padding=\"valid\", 15 output channels)\n",
    "# 6. ReLU\n",
    "# 7. Flatten (converts 4x15) to length 60\n",
    "# 8. Linear layer (input size = 60, output size = 10)\n",
    "# References:\n",
    "# https://pytorch.org/docs/1.13/generated/torch.nn.Conv1d.html?highlight=conv1d#torch.nn.Conv1d\n",
    "# https://pytorch.org/docs/stable/generated/torch.nn.Flatten.html\n",
    "# https://pytorch.org/docs/1.13/generated/torch.nn.Linear.html?highlight=linear#torch.nn.Linear\n",
    "\n",
    "# NOTE THAT THE CONVOLUTIONAL LAYERS NEED TO TAKE THE NUMBER OF INPUT CHANNELS AS A PARAMETER\n",
    "# AND NOT THE INPUT SIZE.\n",
    "\n",
    "# Replace the following function:\n",
    "model = nn.Sequential(\n",
    "    nn.Conv1d(in_channels=1, out_channels=15, kernel_size=3, stride=2, padding=0),  # First Convolutional Layer\n",
    "    nn.ReLU(),\n",
    "    nn.Conv1d(in_channels=15, out_channels=15, kernel_size=3, stride=2, padding=0),  # Second Convolutional Layer\n",
    "    nn.ReLU(),\n",
    "    nn.Conv1d(in_channels=15, out_channels=15, kernel_size=3, stride=2, padding=0),  # Third Convolutional Layer\n",
    "    nn.ReLU(),\n",
    "    nn.Flatten(),  # Flatten layer to convert (4x15) to 60\n",
    "    nn.Linear(in_features=60, out_features=10)  # Fully Connected Layer\n",
    ")"
   ]
  },
  {
   "cell_type": "code",
   "execution_count": 10,
   "metadata": {
    "id": "YgLaex1pfhqz"
   },
   "outputs": [],
   "source": [
    "# He initialization of weights\n",
    "def weights_init(layer_in):\n",
    "  if isinstance(layer_in, nn.Linear):\n",
    "    nn.init.kaiming_uniform_(layer_in.weight)\n",
    "    layer_in.bias.data.fill_(0.0)"
   ]
  },
  {
   "cell_type": "code",
   "execution_count": 11,
   "metadata": {
    "id": "NYw8I_3mmX5c"
   },
   "outputs": [
    {
     "name": "stdout",
     "output_type": "stream",
     "text": [
      "Epoch     0, train loss 1.923581, train error 70.53,  val loss 1.934608, percent error 71.60\n",
      "Epoch     1, train loss 1.437341, train error 58.45,  val loss 1.451326, percent error 60.70\n",
      "Epoch     2, train loss 1.282193, train error 52.75,  val loss 1.291047, percent error 55.20\n",
      "Epoch     3, train loss 1.208220, train error 48.38,  val loss 1.219942, percent error 49.40\n",
      "Epoch     4, train loss 1.227884, train error 49.75,  val loss 1.248349, percent error 50.30\n",
      "Epoch     5, train loss 1.182096, train error 48.55,  val loss 1.230764, percent error 52.50\n",
      "Epoch     6, train loss 0.986761, train error 39.83,  val loss 1.033451, percent error 42.90\n",
      "Epoch     7, train loss 1.029380, train error 39.92,  val loss 1.103198, percent error 42.50\n",
      "Epoch     8, train loss 0.840604, train error 33.90,  val loss 0.905117, percent error 36.70\n",
      "Epoch     9, train loss 0.743201, train error 29.45,  val loss 0.836126, percent error 34.00\n",
      "Epoch    10, train loss 0.728632, train error 27.60,  val loss 0.840089, percent error 31.30\n",
      "Epoch    11, train loss 0.632632, train error 25.45,  val loss 0.727661, percent error 27.10\n",
      "Epoch    12, train loss 0.578607, train error 21.78,  val loss 0.683640, percent error 25.00\n",
      "Epoch    13, train loss 0.519493, train error 19.68,  val loss 0.658018, percent error 24.50\n",
      "Epoch    14, train loss 0.482611, train error 18.25,  val loss 0.615141, percent error 21.80\n",
      "Epoch    15, train loss 0.451473, train error 16.43,  val loss 0.617257, percent error 21.50\n",
      "Epoch    16, train loss 0.395065, train error 14.47,  val loss 0.578380, percent error 19.40\n",
      "Epoch    17, train loss 0.376289, train error 13.10,  val loss 0.537854, percent error 17.60\n",
      "Epoch    18, train loss 0.293267, train error 9.97,  val loss 0.436380, percent error 14.60\n",
      "Epoch    19, train loss 0.318748, train error 11.35,  val loss 0.499273, percent error 15.50\n",
      "Epoch    20, train loss 0.257200, train error 9.28,  val loss 0.429161, percent error 13.40\n",
      "Epoch    21, train loss 0.192673, train error 6.25,  val loss 0.384357, percent error 11.60\n",
      "Epoch    22, train loss 0.199356, train error 6.85,  val loss 0.396497, percent error 12.40\n",
      "Epoch    23, train loss 0.211174, train error 7.28,  val loss 0.412025, percent error 13.20\n",
      "Epoch    24, train loss 0.160610, train error 5.28,  val loss 0.376356, percent error 10.90\n",
      "Epoch    25, train loss 0.167630, train error 5.38,  val loss 0.373595, percent error 11.10\n",
      "Epoch    26, train loss 0.154351, train error 5.03,  val loss 0.362273, percent error 10.70\n",
      "Epoch    27, train loss 0.154836, train error 5.38,  val loss 0.387694, percent error 11.70\n",
      "Epoch    28, train loss 0.153998, train error 5.32,  val loss 0.377278, percent error 11.00\n",
      "Epoch    29, train loss 0.140700, train error 4.53,  val loss 0.382137, percent error 11.00\n",
      "Epoch    30, train loss 0.140224, train error 4.75,  val loss 0.378094, percent error 11.00\n",
      "Epoch    31, train loss 0.121014, train error 3.70,  val loss 0.369091, percent error 10.80\n",
      "Epoch    32, train loss 0.120088, train error 3.95,  val loss 0.365893, percent error 10.30\n",
      "Epoch    33, train loss 0.126361, train error 4.43,  val loss 0.400042, percent error 11.20\n",
      "Epoch    34, train loss 0.099939, train error 2.85,  val loss 0.360064, percent error 9.20\n",
      "Epoch    35, train loss 0.105783, train error 3.53,  val loss 0.393331, percent error 10.90\n",
      "Epoch    36, train loss 0.132686, train error 4.93,  val loss 0.415697, percent error 12.00\n",
      "Epoch    37, train loss 0.109067, train error 3.60,  val loss 0.393162, percent error 10.60\n",
      "Epoch    38, train loss 0.090113, train error 2.90,  val loss 0.375098, percent error 9.40\n",
      "Epoch    39, train loss 0.088238, train error 2.95,  val loss 0.383257, percent error 9.70\n",
      "Epoch    40, train loss 0.079541, train error 2.25,  val loss 0.378723, percent error 9.60\n",
      "Epoch    41, train loss 0.074813, train error 1.97,  val loss 0.404725, percent error 10.00\n",
      "Epoch    42, train loss 0.070264, train error 1.70,  val loss 0.380676, percent error 9.10\n",
      "Epoch    43, train loss 0.068412, train error 1.78,  val loss 0.395713, percent error 9.10\n",
      "Epoch    44, train loss 0.068078, train error 1.70,  val loss 0.399901, percent error 9.00\n",
      "Epoch    45, train loss 0.063431, train error 1.70,  val loss 0.399854, percent error 9.00\n",
      "Epoch    46, train loss 0.069066, train error 1.97,  val loss 0.421687, percent error 10.10\n",
      "Epoch    47, train loss 0.062862, train error 1.57,  val loss 0.415825, percent error 9.60\n",
      "Epoch    48, train loss 0.064746, train error 1.60,  val loss 0.430630, percent error 9.60\n",
      "Epoch    49, train loss 0.063350, train error 1.72,  val loss 0.413183, percent error 9.70\n",
      "Epoch    50, train loss 0.061881, train error 1.53,  val loss 0.421784, percent error 9.40\n",
      "Epoch    51, train loss 0.067773, train error 2.05,  val loss 0.446945, percent error 10.60\n",
      "Epoch    52, train loss 0.060836, train error 1.68,  val loss 0.429305, percent error 9.20\n",
      "Epoch    53, train loss 0.059789, train error 1.72,  val loss 0.424534, percent error 9.70\n",
      "Epoch    54, train loss 0.055125, train error 1.30,  val loss 0.441338, percent error 9.40\n",
      "Epoch    55, train loss 0.052602, train error 1.18,  val loss 0.434486, percent error 9.00\n",
      "Epoch    56, train loss 0.051035, train error 1.20,  val loss 0.432257, percent error 9.60\n",
      "Epoch    57, train loss 0.051977, train error 1.30,  val loss 0.440702, percent error 9.30\n",
      "Epoch    58, train loss 0.048620, train error 1.07,  val loss 0.444702, percent error 9.40\n",
      "Epoch    59, train loss 0.050263, train error 1.20,  val loss 0.440583, percent error 9.20\n",
      "Epoch    60, train loss 0.046410, train error 1.18,  val loss 0.444982, percent error 9.30\n",
      "Epoch    61, train loss 0.044750, train error 0.97,  val loss 0.447196, percent error 8.90\n",
      "Epoch    62, train loss 0.044094, train error 0.93,  val loss 0.457326, percent error 9.40\n",
      "Epoch    63, train loss 0.043624, train error 1.05,  val loss 0.452786, percent error 9.20\n",
      "Epoch    64, train loss 0.044297, train error 1.03,  val loss 0.455733, percent error 9.20\n",
      "Epoch    65, train loss 0.042915, train error 0.85,  val loss 0.461371, percent error 9.10\n",
      "Epoch    66, train loss 0.042297, train error 0.95,  val loss 0.467047, percent error 8.90\n",
      "Epoch    67, train loss 0.042048, train error 0.85,  val loss 0.458500, percent error 9.20\n",
      "Epoch    68, train loss 0.041906, train error 0.88,  val loss 0.459915, percent error 9.10\n",
      "Epoch    69, train loss 0.041664, train error 0.82,  val loss 0.459276, percent error 9.10\n",
      "Epoch    70, train loss 0.040147, train error 0.80,  val loss 0.467538, percent error 9.40\n",
      "Epoch    71, train loss 0.040205, train error 0.85,  val loss 0.468215, percent error 9.10\n",
      "Epoch    72, train loss 0.039493, train error 0.80,  val loss 0.466600, percent error 9.40\n",
      "Epoch    73, train loss 0.040010, train error 0.82,  val loss 0.468786, percent error 9.00\n",
      "Epoch    74, train loss 0.039482, train error 0.72,  val loss 0.474596, percent error 9.30\n",
      "Epoch    75, train loss 0.040275, train error 1.00,  val loss 0.479998, percent error 9.40\n",
      "Epoch    76, train loss 0.037737, train error 0.75,  val loss 0.474023, percent error 9.00\n",
      "Epoch    77, train loss 0.037292, train error 0.68,  val loss 0.478143, percent error 9.20\n",
      "Epoch    78, train loss 0.036929, train error 0.72,  val loss 0.480406, percent error 9.00\n",
      "Epoch    79, train loss 0.038141, train error 0.85,  val loss 0.481268, percent error 9.70\n",
      "Epoch    80, train loss 0.037493, train error 0.68,  val loss 0.486036, percent error 9.30\n",
      "Epoch    81, train loss 0.035828, train error 0.72,  val loss 0.483455, percent error 9.30\n",
      "Epoch    82, train loss 0.035309, train error 0.68,  val loss 0.484069, percent error 9.10\n",
      "Epoch    83, train loss 0.035378, train error 0.70,  val loss 0.487515, percent error 9.10\n",
      "Epoch    84, train loss 0.034929, train error 0.68,  val loss 0.488938, percent error 9.00\n",
      "Epoch    85, train loss 0.034877, train error 0.70,  val loss 0.486248, percent error 9.20\n",
      "Epoch    86, train loss 0.034743, train error 0.70,  val loss 0.487342, percent error 9.20\n",
      "Epoch    87, train loss 0.034449, train error 0.62,  val loss 0.491834, percent error 9.30\n",
      "Epoch    88, train loss 0.034900, train error 0.65,  val loss 0.494685, percent error 8.90\n",
      "Epoch    89, train loss 0.034359, train error 0.65,  val loss 0.494358, percent error 9.10\n",
      "Epoch    90, train loss 0.034285, train error 0.60,  val loss 0.491755, percent error 9.30\n",
      "Epoch    91, train loss 0.033949, train error 0.65,  val loss 0.495600, percent error 9.30\n",
      "Epoch    92, train loss 0.034555, train error 0.60,  val loss 0.496904, percent error 9.40\n",
      "Epoch    93, train loss 0.034032, train error 0.62,  val loss 0.498249, percent error 9.30\n",
      "Epoch    94, train loss 0.033310, train error 0.68,  val loss 0.500116, percent error 9.20\n",
      "Epoch    95, train loss 0.033331, train error 0.62,  val loss 0.498895, percent error 9.20\n",
      "Epoch    96, train loss 0.033577, train error 0.60,  val loss 0.499586, percent error 9.40\n",
      "Epoch    97, train loss 0.032875, train error 0.65,  val loss 0.500245, percent error 9.00\n",
      "Epoch    98, train loss 0.032716, train error 0.65,  val loss 0.499888, percent error 9.10\n",
      "Epoch    99, train loss 0.032672, train error 0.53,  val loss 0.504220, percent error 9.20\n"
     ]
    },
    {
     "data": {
      "image/png": "[encoded data removed]",
      "text/plain": [
       "<Figure size 640x480 with 1 Axes>"
      ]
     },
     "metadata": {},
     "output_type": "display_data"
    }
   ],
   "source": [
    "# choose cross entropy loss function (equation 5.24 in the loss notes)\n",
    "loss_function = nn.CrossEntropyLoss()\n",
    "# construct SGD optimizer and initialize learning rate and momentum\n",
    "optimizer = torch.optim.SGD(model.parameters(), lr = 0.05, momentum=0.9)\n",
    "# object that decreases learning rate by half every 20 epochs\n",
    "scheduler = StepLR(optimizer, step_size=20, gamma=0.5)\n",
    "# create 100 dummy data points and store in data loader class\n",
    "x_train = torch.tensor(train_data_x.transpose().astype('float32'))\n",
    "y_train = torch.tensor(train_data_y.astype('long')).long()\n",
    "x_val= torch.tensor(val_data_x.transpose().astype('float32'))\n",
    "y_val = torch.tensor(val_data_y.astype('long')).long()\n",
    "\n",
    "# load the data into a class that creates the batches\n",
    "data_loader = DataLoader(TensorDataset(x_train,y_train), batch_size=100, shuffle=True, worker_init_fn=np.random.seed(1))\n",
    "\n",
    "# Initialize model weights\n",
    "model.apply(weights_init)\n",
    "\n",
    "# loop over the dataset n_epoch times\n",
    "n_epoch = 100\n",
    "# store the loss and the % correct at each epoch\n",
    "losses_train = np.zeros((n_epoch))\n",
    "errors_train = np.zeros((n_epoch))\n",
    "losses_val = np.zeros((n_epoch))\n",
    "errors_val = np.zeros((n_epoch))\n",
    "\n",
    "for epoch in range(n_epoch):\n",
    "  # loop over batches\n",
    "  for i, data in enumerate(data_loader):\n",
    "    # retrieve inputs and labels for this batch\n",
    "    x_batch, y_batch = data\n",
    "    # zero the parameter gradients\n",
    "    optimizer.zero_grad()\n",
    "    # forward pass -- calculate model output\n",
    "    pred = model(x_batch[:,None,:])\n",
    "    # compute the loss\n",
    "    loss = loss_function(pred, y_batch)\n",
    "    # backward pass\n",
    "    loss.backward()\n",
    "    # SGD update\n",
    "    optimizer.step()\n",
    "\n",
    "  # Run whole dataset to get statistics -- normally wouldn't do this\n",
    "  pred_train = model(x_train[:,None,:])\n",
    "  pred_val = model(x_val[:,None,:])\n",
    "  _, predicted_train_class = torch.max(pred_train.data, 1)\n",
    "  _, predicted_val_class = torch.max(pred_val.data, 1)\n",
    "  errors_train[epoch] = 100 - 100 * (predicted_train_class == y_train).float().sum() / len(y_train)\n",
    "  errors_val[epoch]= 100 - 100 * (predicted_val_class == y_val).float().sum() / len(y_val)\n",
    "  losses_train[epoch] = loss_function(pred_train, y_train).item()\n",
    "  losses_val[epoch]= loss_function(pred_val, y_val).item()\n",
    "  print(f'Epoch {epoch:5d}, train loss {losses_train[epoch]:.6f}, train error {errors_train[epoch]:3.2f},  val loss {losses_val[epoch]:.6f}, percent error {errors_val[epoch]:3.2f}')\n",
    "\n",
    "  # tell scheduler to consider updating learning rate\n",
    "  scheduler.step()\n",
    "\n",
    "# Plot the results\n",
    "fig, ax = plt.subplots()\n",
    "ax.plot(errors_train,'r-',label='train')\n",
    "ax.plot(errors_val,'b-',label='validation')\n",
    "ax.set_ylim(0,100); ax.set_xlim(0,n_epoch)\n",
    "ax.set_xlabel('Epoch'); ax.set_ylabel('Error')\n",
    "ax.set_title('Part I: Validation Result %3.2f'%(errors_val[-1]))\n",
    "ax.legend()\n",
    "plt.show()"
   ]
  },
  {
   "cell_type": "code",
   "execution_count": null,
   "metadata": {},
   "outputs": [],
   "source": []
  }
 ],
 "metadata": {
  "colab": {
   "authorship_tag": "ABX9TyNb46PJB/CC1pcHGfjpUUZg",
   "include_colab_link": true,
   "provenance": []
  },
  "kernelspec": {
   "display_name": "MNIST1D_env",
   "language": "python",
   "name": "mnist1d_env"
  },
  "language_info": {
   "codemirror_mode": {
    "name": "ipython",
    "version": 3
   },
   "file_extension": ".py",
   "mimetype": "text/x-python",
   "name": "python",
   "nbconvert_exporter": "python",
   "pygments_lexer": "ipython3",
   "version": "3.12.4"
  }
 },
 "nbformat": 4,
 "nbformat_minor": 4
}
