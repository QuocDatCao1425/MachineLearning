{
 "cells": [
  {
   "cell_type": "markdown",
   "metadata": {
    "colab_type": "text",
    "id": "view-in-github"
   },
   "source": [
    "<a href=\"https://colab.research.google.com/github/udlbook/udlbook/blob/main/Notebooks/Chap10/10_5_Convolution_For_MNIST.ipynb\" target=\"_parent\"><img src=\"https://colab.research.google.com/assets/colab-badge.svg\" alt=\"Open In Colab\"/></a>"
   ]
  },
  {
   "cell_type": "markdown",
   "metadata": {
    "id": "t9vk9Elugvmi"
   },
   "source": [
    "# **Notebook 10.5: Convolution for MNIST**\n",
    "\n",
    "This notebook builds a proper network for 2D convolution.  It works with the MNIST dataset (figure 15.15a), which was the original classic dataset for classifying images.  The network will take a 28x28 grayscale image and classify it into one of 10 classes representing a digit.\n",
    "\n",
    "The code is adapted from https://nextjournal.com/gkoehler/pytorch-mnist\n",
    "\n",
    "Work through the cells below, running each cell in turn. In various places you will see the words \"TO DO\". Follow the instructions at these places and make predictions about what is going to happen or write code to complete the functions.\n",
    "\n",
    "Contact me at udlbookmail@gmail.com if you find any mistakes or have any suggestions.\n"
   ]
  },
  {
   "cell_type": "code",
   "execution_count": 1,
   "metadata": {
    "id": "YrXWAH7sUWvU"
   },
   "outputs": [],
   "source": [
    "import torch\n",
    "import torchvision\n",
    "import torch.nn as nn\n",
    "import torch.nn.functional as F\n",
    "import torch.optim as optim\n",
    "import matplotlib.pyplot as plt\n",
    "import random"
   ]
  },
  {
   "cell_type": "code",
   "execution_count": 2,
   "metadata": {
    "id": "wScBGXXFVadm"
   },
   "outputs": [
    {
     "name": "stdout",
     "output_type": "stream",
     "text": [
      "Downloading http://yann.lecun.com/exdb/mnist/train-images-idx3-ubyte.gz\n",
      "Failed to download (trying next):\n",
      "<urlopen error [SSL: CERTIFICATE_VERIFY_FAILED] certificate verify failed: certificate has expired (_ssl.c:1000)>\n",
      "\n",
      "Downloading https://ossci-datasets.s3.amazonaws.com/mnist/train-images-idx3-ubyte.gz\n",
      "Downloading https://ossci-datasets.s3.amazonaws.com/mnist/train-images-idx3-ubyte.gz to MNIST/raw/train-images-idx3-ubyte.gz\n"
     ]
    },
    {
     "name": "stderr",
     "output_type": "stream",
     "text": [
      "100.0%\n"
     ]
    },
    {
     "name": "stdout",
     "output_type": "stream",
     "text": [
      "Extracting MNIST/raw/train-images-idx3-ubyte.gz to MNIST/raw\n",
      "\n",
      "Downloading http://yann.lecun.com/exdb/mnist/train-labels-idx1-ubyte.gz\n",
      "Failed to download (trying next):\n",
      "<urlopen error [SSL: CERTIFICATE_VERIFY_FAILED] certificate verify failed: certificate has expired (_ssl.c:1000)>\n",
      "\n",
      "Downloading https://ossci-datasets.s3.amazonaws.com/mnist/train-labels-idx1-ubyte.gz\n",
      "Downloading https://ossci-datasets.s3.amazonaws.com/mnist/train-labels-idx1-ubyte.gz to MNIST/raw/train-labels-idx1-ubyte.gz\n"
     ]
    },
    {
     "name": "stderr",
     "output_type": "stream",
     "text": [
      "100.0%\n"
     ]
    },
    {
     "name": "stdout",
     "output_type": "stream",
     "text": [
      "Extracting MNIST/raw/train-labels-idx1-ubyte.gz to MNIST/raw\n",
      "\n",
      "Downloading http://yann.lecun.com/exdb/mnist/t10k-images-idx3-ubyte.gz\n",
      "Failed to download (trying next):\n",
      "<urlopen error [SSL: CERTIFICATE_VERIFY_FAILED] certificate verify failed: certificate has expired (_ssl.c:1000)>\n",
      "\n",
      "Downloading https://ossci-datasets.s3.amazonaws.com/mnist/t10k-images-idx3-ubyte.gz\n",
      "Downloading https://ossci-datasets.s3.amazonaws.com/mnist/t10k-images-idx3-ubyte.gz to MNIST/raw/t10k-images-idx3-ubyte.gz\n"
     ]
    },
    {
     "name": "stderr",
     "output_type": "stream",
     "text": [
      "100.0%\n"
     ]
    },
    {
     "name": "stdout",
     "output_type": "stream",
     "text": [
      "Extracting MNIST/raw/t10k-images-idx3-ubyte.gz to MNIST/raw\n",
      "\n",
      "Downloading http://yann.lecun.com/exdb/mnist/t10k-labels-idx1-ubyte.gz\n",
      "Failed to download (trying next):\n",
      "<urlopen error [SSL: CERTIFICATE_VERIFY_FAILED] certificate verify failed: certificate has expired (_ssl.c:1000)>\n",
      "\n",
      "Downloading https://ossci-datasets.s3.amazonaws.com/mnist/t10k-labels-idx1-ubyte.gz\n",
      "Downloading https://ossci-datasets.s3.amazonaws.com/mnist/t10k-labels-idx1-ubyte.gz to MNIST/raw/t10k-labels-idx1-ubyte.gz\n"
     ]
    },
    {
     "name": "stderr",
     "output_type": "stream",
     "text": [
      "100.0%"
     ]
    },
    {
     "name": "stdout",
     "output_type": "stream",
     "text": [
      "Extracting MNIST/raw/t10k-labels-idx1-ubyte.gz to MNIST/raw\n",
      "\n"
     ]
    },
    {
     "name": "stderr",
     "output_type": "stream",
     "text": [
      "\n"
     ]
    }
   ],
   "source": [
    "# Run this once to load the train and test data straight into a dataloader class\n",
    "# that will provide the batches\n",
    "\n",
    "# (It may complain that some files are missing because the files seem to have been\n",
    "# reorganized on the underlying website, but it still seems to work). If everything is working\n",
    "# properly, then the whole notebook should run to the end without further problems\n",
    "# even before you make changes.\n",
    "batch_size_train = 64\n",
    "batch_size_test = 1000\n",
    "\n",
    "# TODO Change this directory to point towards an existing directory\n",
    "myDir = ''\n",
    "\n",
    "train_loader = torch.utils.data.DataLoader(\n",
    "  torchvision.datasets.MNIST(myDir, train=True, download=True,\n",
    "                             transform=torchvision.transforms.Compose([\n",
    "                               torchvision.transforms.ToTensor(),\n",
    "                               torchvision.transforms.Normalize(\n",
    "                                 (0.1307,), (0.3081,))\n",
    "                             ])),\n",
    "  batch_size=batch_size_train, shuffle=True)\n",
    "\n",
    "test_loader = torch.utils.data.DataLoader(\n",
    "  torchvision.datasets.MNIST(myDir, train=False, download=True,\n",
    "                             transform=torchvision.transforms.Compose([\n",
    "                               torchvision.transforms.ToTensor(),\n",
    "                               torchvision.transforms.Normalize(\n",
    "                                 (0.1307,), (0.3081,))\n",
    "                             ])),\n",
    "  batch_size=batch_size_test, shuffle=True)"
   ]
  },
  {
   "cell_type": "code",
   "execution_count": 3,
   "metadata": {
    "id": "8bKADvLHbiV5"
   },
   "outputs": [
    {
     "data": {
      "image/png": "[encoded data removed]",
      "text/plain": [
       "<Figure size 640x480 with 6 Axes>"
      ]
     },
     "metadata": {},
     "output_type": "display_data"
    }
   ],
   "source": [
    "# Let's draw some of the training data\n",
    "examples = enumerate(test_loader)\n",
    "batch_idx, (example_data, example_targets) = next(examples)\n",
    "\n",
    "fig = plt.figure()\n",
    "for i in range(6):\n",
    "  plt.subplot(2,3,i+1)\n",
    "  plt.tight_layout()\n",
    "  plt.imshow(example_data[i][0], cmap='gray', interpolation='none')\n",
    "  plt.title(\"Ground Truth: {}\".format(example_targets[i]))\n",
    "  plt.xticks([])\n",
    "  plt.yticks([])\n",
    "plt.show()"
   ]
  },
  {
   "cell_type": "markdown",
   "metadata": {
    "id": "_sFvRDGrl4qe"
   },
   "source": [
    "Define the network.  This is a more typical way to define a network than the sequential structure.  We define a class for the network, and define the parameters in the constructor.  Then we use a function called forward to actually run the network.  It's easy to see how you might use residual connections in this format."
   ]
  },
  {
   "cell_type": "code",
   "execution_count": 4,
   "metadata": {
    "id": "EQkvw2KOPVl7"
   },
   "outputs": [],
   "source": [
    "from os import X_OK\n",
    "# TODO Change this class to implement\n",
    "# 1. A valid convolution with kernel size 5, 1 input channel and 10 output channels\n",
    "# 2. A max pooling operation over a 2x2 area\n",
    "# 3. A Relu\n",
    "# 4. A valid convolution with kernel size 5, 10 input channels and 20 output channels\n",
    "# 5. A 2D Dropout layer\n",
    "# 6. A max pooling operation over a 2x2 area\n",
    "# 7. A relu\n",
    "# 8. A flattening operation\n",
    "# 9. A fully connected layer mapping from (whatever dimensions we are at-- find out using .shape) to 50\n",
    "# 10. A ReLU\n",
    "# 11. A fully connected layer mapping from 50 to 10 dimensions\n",
    "# 12. A softmax function.\n",
    "\n",
    "# Replace this class which implements a minimal network (which still does okay)\n",
    "class Net(nn.Module):\n",
    "    def __init__(self):\n",
    "        super(Net, self).__init__()\n",
    "        \n",
    "        self.conv1 = nn.Conv2d(1, 10, kernel_size=5)\n",
    "        \n",
    "        self.conv2 = nn.Conv2d(10, 20, kernel_size=5)\n",
    "        \n",
    "        self.drop = nn.Dropout2d()\n",
    "        \n",
    "       \n",
    "        self.fc1 = nn.Linear(320, 50)  # Adjust 320 if needed based on actual layer output\n",
    "        \n",
    "        self.fc2 = nn.Linear(50, 10)\n",
    "\n",
    "    def forward(self, x):\n",
    "        x = self.conv1(x)           # Step 1: Convolution\n",
    "        x = F.max_pool2d(x, 2)      # Step 2: Max Pooling 2x2\n",
    "        x = F.relu(x)               # Step 3: ReLU\n",
    "        x = self.conv2(x)           # Step 4: Convolution\n",
    "        x = self.drop(x)            # Step 5: Dropout\n",
    "        x = F.max_pool2d(x, 2)      # Step 6: Max Pooling 2x2\n",
    "        x = F.relu(x)               # Step 7: ReLU\n",
    "        x = x.flatten(1)            # Step 8: Flatten\n",
    "        x = self.fc1(x)             # Step 9: Fully connected layer to 50\n",
    "        x = F.relu(x)               # Step 10: ReLU\n",
    "        x = self.fc2(x)             # Step 11: Fully connected layer to 10\n",
    "        x = F.log_softmax(x, dim=1) # Step 12: Softmax\n",
    "        return x\n",
    "\n",
    "\n"
   ]
  },
  {
   "cell_type": "code",
   "execution_count": 5,
   "metadata": {
    "id": "qWZtkCZcU_dg"
   },
   "outputs": [],
   "source": [
    "# He initialization of weights\n",
    "def weights_init(layer_in):\n",
    "  if isinstance(layer_in, nn.Linear):\n",
    "    nn.init.kaiming_uniform_(layer_in.weight)\n",
    "    layer_in.bias.data.fill_(0.0)"
   ]
  },
  {
   "cell_type": "code",
   "execution_count": 6,
   "metadata": {
    "id": "FslroPJJffrh"
   },
   "outputs": [],
   "source": [
    "# Create network\n",
    "model = Net()\n",
    "# Initialize model weights\n",
    "model.apply(weights_init)\n",
    "# Define optimizer\n",
    "optimizer = optim.SGD(model.parameters(), lr=0.01, momentum=0.5)"
   ]
  },
  {
   "cell_type": "code",
   "execution_count": 7,
   "metadata": {
    "id": "xKQd9PzkQ766"
   },
   "outputs": [],
   "source": [
    "# Main training routine\n",
    "def train(epoch):\n",
    "  model.train()\n",
    "  # Get each\n",
    "  for batch_idx, (data, target) in enumerate(train_loader):\n",
    "    optimizer.zero_grad()\n",
    "    output = model(data)\n",
    "    loss = F.nll_loss(output, target)\n",
    "    loss.backward()\n",
    "    optimizer.step()\n",
    "    # Store results\n",
    "    if batch_idx % 10 == 0:\n",
    "      print('Train Epoch: {} [{}/{}]\\tLoss: {:.6f}'.format(\n",
    "        epoch, batch_idx * len(data), len(train_loader.dataset), loss.item()))"
   ]
  },
  {
   "cell_type": "code",
   "execution_count": 8,
   "metadata": {
    "id": "Byn-f7qWRLxX"
   },
   "outputs": [],
   "source": [
    "# Run on test data\n",
    "def test():\n",
    "  model.eval()\n",
    "  test_loss = 0\n",
    "  correct = 0\n",
    "  with torch.no_grad():\n",
    "    for data, target in test_loader:\n",
    "      output = model(data)\n",
    "      test_loss += F.nll_loss(output, target, size_average=False).item()\n",
    "      pred = output.data.max(1, keepdim=True)[1]\n",
    "      correct += pred.eq(target.data.view_as(pred)).sum()\n",
    "  test_loss /= len(test_loader.dataset)\n",
    "  print('\\nTest set: Avg. loss: {:.4f}, Accuracy: {}/{} ({:.0f}%)\\n'.format(\n",
    "    test_loss, correct, len(test_loader.dataset),\n",
    "    100. * correct / len(test_loader.dataset)))"
   ]
  },
  {
   "cell_type": "code",
   "execution_count": 9,
   "metadata": {
    "id": "YgLaex1pfhqz"
   },
   "outputs": [
    {
     "name": "stderr",
     "output_type": "stream",
     "text": [
      "/home/emil/anaconda3/envs/MNIST1D_env/lib/python3.12/site-packages/torch/nn/_reduction.py:42: UserWarning: size_average and reduce args will be deprecated, please use reduction='sum' instead.\n",
      "  warnings.warn(warning.format(ret))\n"
     ]
    },
    {
     "name": "stdout",
     "output_type": "stream",
     "text": [
      "\n",
      "Test set: Avg. loss: 2.3821, Accuracy: 728/10000 (7%)\n",
      "\n",
      "Train Epoch: 1 [0/60000]\tLoss: 2.450910\n",
      "Train Epoch: 1 [640/60000]\tLoss: 2.239837\n",
      "Train Epoch: 1 [1280/60000]\tLoss: 2.157429\n",
      "Train Epoch: 1 [1920/60000]\tLoss: 2.016833\n",
      "Train Epoch: 1 [2560/60000]\tLoss: 1.909389\n",
      "Train Epoch: 1 [3200/60000]\tLoss: 1.794202\n",
      "Train Epoch: 1 [3840/60000]\tLoss: 1.445710\n",
      "Train Epoch: 1 [4480/60000]\tLoss: 1.194503\n",
      "Train Epoch: 1 [5120/60000]\tLoss: 1.027583\n",
      "Train Epoch: 1 [5760/60000]\tLoss: 0.999978\n",
      "Train Epoch: 1 [6400/60000]\tLoss: 0.680420\n",
      "Train Epoch: 1 [7040/60000]\tLoss: 0.890052\n",
      "Train Epoch: 1 [7680/60000]\tLoss: 0.725002\n",
      "Train Epoch: 1 [8320/60000]\tLoss: 0.645826\n",
      "Train Epoch: 1 [8960/60000]\tLoss: 0.842953\n",
      "Train Epoch: 1 [9600/60000]\tLoss: 0.715136\n",
      "Train Epoch: 1 [10240/60000]\tLoss: 0.589684\n",
      "Train Epoch: 1 [10880/60000]\tLoss: 0.785544\n",
      "Train Epoch: 1 [11520/60000]\tLoss: 0.340945\n",
      "Train Epoch: 1 [12160/60000]\tLoss: 0.572203\n",
      "Train Epoch: 1 [12800/60000]\tLoss: 0.586605\n",
      "Train Epoch: 1 [13440/60000]\tLoss: 0.921104\n",
      "Train Epoch: 1 [14080/60000]\tLoss: 0.529524\n",
      "Train Epoch: 1 [14720/60000]\tLoss: 0.348679\n",
      "Train Epoch: 1 [15360/60000]\tLoss: 0.524337\n",
      "Train Epoch: 1 [16000/60000]\tLoss: 0.537577\n",
      "Train Epoch: 1 [16640/60000]\tLoss: 0.519032\n",
      "Train Epoch: 1 [17280/60000]\tLoss: 0.471921\n",
      "Train Epoch: 1 [17920/60000]\tLoss: 0.460476\n",
      "Train Epoch: 1 [18560/60000]\tLoss: 0.543133\n",
      "Train Epoch: 1 [19200/60000]\tLoss: 0.461174\n",
      "Train Epoch: 1 [19840/60000]\tLoss: 0.388637\n",
      "Train Epoch: 1 [20480/60000]\tLoss: 0.295759\n",
      "Train Epoch: 1 [21120/60000]\tLoss: 0.295138\n",
      "Train Epoch: 1 [21760/60000]\tLoss: 0.469302\n",
      "Train Epoch: 1 [22400/60000]\tLoss: 0.368620\n",
      "Train Epoch: 1 [23040/60000]\tLoss: 0.330860\n",
      "Train Epoch: 1 [23680/60000]\tLoss: 0.408430\n",
      "Train Epoch: 1 [24320/60000]\tLoss: 0.259599\n",
      "Train Epoch: 1 [24960/60000]\tLoss: 0.464751\n",
      "Train Epoch: 1 [25600/60000]\tLoss: 0.318207\n",
      "Train Epoch: 1 [26240/60000]\tLoss: 0.244279\n",
      "Train Epoch: 1 [26880/60000]\tLoss: 0.324888\n",
      "Train Epoch: 1 [27520/60000]\tLoss: 0.398572\n",
      "Train Epoch: 1 [28160/60000]\tLoss: 0.367611\n",
      "Train Epoch: 1 [28800/60000]\tLoss: 0.230016\n",
      "Train Epoch: 1 [29440/60000]\tLoss: 0.265244\n",
      "Train Epoch: 1 [30080/60000]\tLoss: 0.398303\n",
      "Train Epoch: 1 [30720/60000]\tLoss: 0.300978\n",
      "Train Epoch: 1 [31360/60000]\tLoss: 0.443370\n",
      "Train Epoch: 1 [32000/60000]\tLoss: 0.179933\n",
      "Train Epoch: 1 [32640/60000]\tLoss: 0.195055\n",
      "Train Epoch: 1 [33280/60000]\tLoss: 0.279002\n",
      "Train Epoch: 1 [33920/60000]\tLoss: 0.417980\n",
      "Train Epoch: 1 [34560/60000]\tLoss: 0.271024\n",
      "Train Epoch: 1 [35200/60000]\tLoss: 0.300830\n",
      "Train Epoch: 1 [35840/60000]\tLoss: 0.412971\n",
      "Train Epoch: 1 [36480/60000]\tLoss: 0.303065\n",
      "Train Epoch: 1 [37120/60000]\tLoss: 0.379590\n",
      "Train Epoch: 1 [37760/60000]\tLoss: 0.070873\n",
      "Train Epoch: 1 [38400/60000]\tLoss: 0.151863\n",
      "Train Epoch: 1 [39040/60000]\tLoss: 0.246841\n",
      "Train Epoch: 1 [39680/60000]\tLoss: 0.229991\n",
      "Train Epoch: 1 [40320/60000]\tLoss: 0.297202\n",
      "Train Epoch: 1 [40960/60000]\tLoss: 0.227189\n",
      "Train Epoch: 1 [41600/60000]\tLoss: 0.311969\n",
      "Train Epoch: 1 [42240/60000]\tLoss: 0.381446\n",
      "Train Epoch: 1 [42880/60000]\tLoss: 0.302337\n",
      "Train Epoch: 1 [43520/60000]\tLoss: 0.159177\n",
      "Train Epoch: 1 [44160/60000]\tLoss: 0.185023\n",
      "Train Epoch: 1 [44800/60000]\tLoss: 0.239694\n",
      "Train Epoch: 1 [45440/60000]\tLoss: 0.128323\n",
      "Train Epoch: 1 [46080/60000]\tLoss: 0.203903\n",
      "Train Epoch: 1 [46720/60000]\tLoss: 0.341719\n",
      "Train Epoch: 1 [47360/60000]\tLoss: 0.397462\n",
      "Train Epoch: 1 [48000/60000]\tLoss: 0.315015\n",
      "Train Epoch: 1 [48640/60000]\tLoss: 0.149492\n",
      "Train Epoch: 1 [49280/60000]\tLoss: 0.292814\n",
      "Train Epoch: 1 [49920/60000]\tLoss: 0.232694\n",
      "Train Epoch: 1 [50560/60000]\tLoss: 0.142427\n",
      "Train Epoch: 1 [51200/60000]\tLoss: 0.262596\n",
      "Train Epoch: 1 [51840/60000]\tLoss: 0.120063\n",
      "Train Epoch: 1 [52480/60000]\tLoss: 0.323990\n",
      "Train Epoch: 1 [53120/60000]\tLoss: 0.447378\n",
      "Train Epoch: 1 [53760/60000]\tLoss: 0.356823\n",
      "Train Epoch: 1 [54400/60000]\tLoss: 0.085185\n",
      "Train Epoch: 1 [55040/60000]\tLoss: 0.131270\n",
      "Train Epoch: 1 [55680/60000]\tLoss: 0.189911\n",
      "Train Epoch: 1 [56320/60000]\tLoss: 0.093396\n",
      "Train Epoch: 1 [56960/60000]\tLoss: 0.192237\n",
      "Train Epoch: 1 [57600/60000]\tLoss: 0.115542\n",
      "Train Epoch: 1 [58240/60000]\tLoss: 0.190395\n",
      "Train Epoch: 1 [58880/60000]\tLoss: 0.229224\n",
      "Train Epoch: 1 [59520/60000]\tLoss: 0.230221\n",
      "\n",
      "Test set: Avg. loss: 0.1208, Accuracy: 9624/10000 (96%)\n",
      "\n",
      "Train Epoch: 2 [0/60000]\tLoss: 0.282819\n",
      "Train Epoch: 2 [640/60000]\tLoss: 0.093467\n",
      "Train Epoch: 2 [1280/60000]\tLoss: 0.282567\n",
      "Train Epoch: 2 [1920/60000]\tLoss: 0.124696\n",
      "Train Epoch: 2 [2560/60000]\tLoss: 0.165109\n",
      "Train Epoch: 2 [3200/60000]\tLoss: 0.119963\n",
      "Train Epoch: 2 [3840/60000]\tLoss: 0.222371\n",
      "Train Epoch: 2 [4480/60000]\tLoss: 0.099430\n",
      "Train Epoch: 2 [5120/60000]\tLoss: 0.185693\n",
      "Train Epoch: 2 [5760/60000]\tLoss: 0.205662\n",
      "Train Epoch: 2 [6400/60000]\tLoss: 0.175548\n",
      "Train Epoch: 2 [7040/60000]\tLoss: 0.227594\n",
      "Train Epoch: 2 [7680/60000]\tLoss: 0.194815\n",
      "Train Epoch: 2 [8320/60000]\tLoss: 0.197085\n",
      "Train Epoch: 2 [8960/60000]\tLoss: 0.241163\n",
      "Train Epoch: 2 [9600/60000]\tLoss: 0.179450\n",
      "Train Epoch: 2 [10240/60000]\tLoss: 0.366600\n",
      "Train Epoch: 2 [10880/60000]\tLoss: 0.226924\n",
      "Train Epoch: 2 [11520/60000]\tLoss: 0.356762\n",
      "Train Epoch: 2 [12160/60000]\tLoss: 0.119379\n",
      "Train Epoch: 2 [12800/60000]\tLoss: 0.122435\n",
      "Train Epoch: 2 [13440/60000]\tLoss: 0.128507\n",
      "Train Epoch: 2 [14080/60000]\tLoss: 0.225240\n",
      "Train Epoch: 2 [14720/60000]\tLoss: 0.199008\n",
      "Train Epoch: 2 [15360/60000]\tLoss: 0.135202\n",
      "Train Epoch: 2 [16000/60000]\tLoss: 0.203802\n",
      "Train Epoch: 2 [16640/60000]\tLoss: 0.114745\n",
      "Train Epoch: 2 [17280/60000]\tLoss: 0.166285\n",
      "Train Epoch: 2 [17920/60000]\tLoss: 0.272905\n",
      "Train Epoch: 2 [18560/60000]\tLoss: 0.112987\n",
      "Train Epoch: 2 [19200/60000]\tLoss: 0.087313\n",
      "Train Epoch: 2 [19840/60000]\tLoss: 0.070872\n",
      "Train Epoch: 2 [20480/60000]\tLoss: 0.218236\n",
      "Train Epoch: 2 [21120/60000]\tLoss: 0.200151\n",
      "Train Epoch: 2 [21760/60000]\tLoss: 0.174897\n",
      "Train Epoch: 2 [22400/60000]\tLoss: 0.464867\n",
      "Train Epoch: 2 [23040/60000]\tLoss: 0.214332\n",
      "Train Epoch: 2 [23680/60000]\tLoss: 0.132614\n",
      "Train Epoch: 2 [24320/60000]\tLoss: 0.120328\n",
      "Train Epoch: 2 [24960/60000]\tLoss: 0.247646\n",
      "Train Epoch: 2 [25600/60000]\tLoss: 0.207772\n",
      "Train Epoch: 2 [26240/60000]\tLoss: 0.278339\n",
      "Train Epoch: 2 [26880/60000]\tLoss: 0.076319\n",
      "Train Epoch: 2 [27520/60000]\tLoss: 0.251227\n",
      "Train Epoch: 2 [28160/60000]\tLoss: 0.157365\n",
      "Train Epoch: 2 [28800/60000]\tLoss: 0.117174\n",
      "Train Epoch: 2 [29440/60000]\tLoss: 0.147442\n",
      "Train Epoch: 2 [30080/60000]\tLoss: 0.103970\n",
      "Train Epoch: 2 [30720/60000]\tLoss: 0.242914\n",
      "Train Epoch: 2 [31360/60000]\tLoss: 0.182851\n",
      "Train Epoch: 2 [32000/60000]\tLoss: 0.224952\n",
      "Train Epoch: 2 [32640/60000]\tLoss: 0.208979\n",
      "Train Epoch: 2 [33280/60000]\tLoss: 0.179179\n",
      "Train Epoch: 2 [33920/60000]\tLoss: 0.096991\n",
      "Train Epoch: 2 [34560/60000]\tLoss: 0.115684\n",
      "Train Epoch: 2 [35200/60000]\tLoss: 0.141239\n",
      "Train Epoch: 2 [35840/60000]\tLoss: 0.102374\n",
      "Train Epoch: 2 [36480/60000]\tLoss: 0.132661\n",
      "Train Epoch: 2 [37120/60000]\tLoss: 0.135111\n",
      "Train Epoch: 2 [37760/60000]\tLoss: 0.168536\n",
      "Train Epoch: 2 [38400/60000]\tLoss: 0.312468\n",
      "Train Epoch: 2 [39040/60000]\tLoss: 0.153053\n",
      "Train Epoch: 2 [39680/60000]\tLoss: 0.208883\n",
      "Train Epoch: 2 [40320/60000]\tLoss: 0.213879\n",
      "Train Epoch: 2 [40960/60000]\tLoss: 0.138954\n",
      "Train Epoch: 2 [41600/60000]\tLoss: 0.120601\n",
      "Train Epoch: 2 [42240/60000]\tLoss: 0.104532\n",
      "Train Epoch: 2 [42880/60000]\tLoss: 0.133043\n",
      "Train Epoch: 2 [43520/60000]\tLoss: 0.203457\n",
      "Train Epoch: 2 [44160/60000]\tLoss: 0.082413\n",
      "Train Epoch: 2 [44800/60000]\tLoss: 0.170406\n",
      "Train Epoch: 2 [45440/60000]\tLoss: 0.021568\n",
      "Train Epoch: 2 [46080/60000]\tLoss: 0.377071\n",
      "Train Epoch: 2 [46720/60000]\tLoss: 0.094134\n",
      "Train Epoch: 2 [47360/60000]\tLoss: 0.165827\n",
      "Train Epoch: 2 [48000/60000]\tLoss: 0.162205\n",
      "Train Epoch: 2 [48640/60000]\tLoss: 0.184223\n",
      "Train Epoch: 2 [49280/60000]\tLoss: 0.133962\n",
      "Train Epoch: 2 [49920/60000]\tLoss: 0.069360\n",
      "Train Epoch: 2 [50560/60000]\tLoss: 0.106050\n",
      "Train Epoch: 2 [51200/60000]\tLoss: 0.078819\n",
      "Train Epoch: 2 [51840/60000]\tLoss: 0.045677\n",
      "Train Epoch: 2 [52480/60000]\tLoss: 0.179286\n",
      "Train Epoch: 2 [53120/60000]\tLoss: 0.230137\n",
      "Train Epoch: 2 [53760/60000]\tLoss: 0.267644\n",
      "Train Epoch: 2 [54400/60000]\tLoss: 0.186676\n",
      "Train Epoch: 2 [55040/60000]\tLoss: 0.271954\n",
      "Train Epoch: 2 [55680/60000]\tLoss: 0.579034\n",
      "Train Epoch: 2 [56320/60000]\tLoss: 0.258799\n",
      "Train Epoch: 2 [56960/60000]\tLoss: 0.141732\n",
      "Train Epoch: 2 [57600/60000]\tLoss: 0.284948\n",
      "Train Epoch: 2 [58240/60000]\tLoss: 0.251602\n",
      "Train Epoch: 2 [58880/60000]\tLoss: 0.070348\n",
      "Train Epoch: 2 [59520/60000]\tLoss: 0.136015\n",
      "\n",
      "Test set: Avg. loss: 0.0755, Accuracy: 9750/10000 (98%)\n",
      "\n",
      "Train Epoch: 3 [0/60000]\tLoss: 0.058286\n",
      "Train Epoch: 3 [640/60000]\tLoss: 0.343345\n",
      "Train Epoch: 3 [1280/60000]\tLoss: 0.191002\n",
      "Train Epoch: 3 [1920/60000]\tLoss: 0.265551\n",
      "Train Epoch: 3 [2560/60000]\tLoss: 0.158554\n",
      "Train Epoch: 3 [3200/60000]\tLoss: 0.089197\n",
      "Train Epoch: 3 [3840/60000]\tLoss: 0.117782\n",
      "Train Epoch: 3 [4480/60000]\tLoss: 0.152766\n",
      "Train Epoch: 3 [5120/60000]\tLoss: 0.238103\n",
      "Train Epoch: 3 [5760/60000]\tLoss: 0.182809\n",
      "Train Epoch: 3 [6400/60000]\tLoss: 0.065542\n",
      "Train Epoch: 3 [7040/60000]\tLoss: 0.235059\n",
      "Train Epoch: 3 [7680/60000]\tLoss: 0.090643\n",
      "Train Epoch: 3 [8320/60000]\tLoss: 0.208700\n",
      "Train Epoch: 3 [8960/60000]\tLoss: 0.112518\n",
      "Train Epoch: 3 [9600/60000]\tLoss: 0.076523\n",
      "Train Epoch: 3 [10240/60000]\tLoss: 0.084871\n",
      "Train Epoch: 3 [10880/60000]\tLoss: 0.201321\n",
      "Train Epoch: 3 [11520/60000]\tLoss: 0.103850\n",
      "Train Epoch: 3 [12160/60000]\tLoss: 0.099081\n",
      "Train Epoch: 3 [12800/60000]\tLoss: 0.136399\n",
      "Train Epoch: 3 [13440/60000]\tLoss: 0.094412\n",
      "Train Epoch: 3 [14080/60000]\tLoss: 0.163412\n",
      "Train Epoch: 3 [14720/60000]\tLoss: 0.208231\n",
      "Train Epoch: 3 [15360/60000]\tLoss: 0.206765\n",
      "Train Epoch: 3 [16000/60000]\tLoss: 0.273695\n",
      "Train Epoch: 3 [16640/60000]\tLoss: 0.059741\n",
      "Train Epoch: 3 [17280/60000]\tLoss: 0.084051\n",
      "Train Epoch: 3 [17920/60000]\tLoss: 0.232881\n",
      "Train Epoch: 3 [18560/60000]\tLoss: 0.014472\n",
      "Train Epoch: 3 [19200/60000]\tLoss: 0.056600\n",
      "Train Epoch: 3 [19840/60000]\tLoss: 0.155831\n",
      "Train Epoch: 3 [20480/60000]\tLoss: 0.146682\n",
      "Train Epoch: 3 [21120/60000]\tLoss: 0.223843\n",
      "Train Epoch: 3 [21760/60000]\tLoss: 0.182789\n",
      "Train Epoch: 3 [22400/60000]\tLoss: 0.085423\n",
      "Train Epoch: 3 [23040/60000]\tLoss: 0.156587\n",
      "Train Epoch: 3 [23680/60000]\tLoss: 0.126385\n",
      "Train Epoch: 3 [24320/60000]\tLoss: 0.180787\n",
      "Train Epoch: 3 [24960/60000]\tLoss: 0.037729\n",
      "Train Epoch: 3 [25600/60000]\tLoss: 0.119441\n",
      "Train Epoch: 3 [26240/60000]\tLoss: 0.258869\n",
      "Train Epoch: 3 [26880/60000]\tLoss: 0.197487\n",
      "Train Epoch: 3 [27520/60000]\tLoss: 0.115207\n",
      "Train Epoch: 3 [28160/60000]\tLoss: 0.315088\n",
      "Train Epoch: 3 [28800/60000]\tLoss: 0.156717\n",
      "Train Epoch: 3 [29440/60000]\tLoss: 0.034243\n",
      "Train Epoch: 3 [30080/60000]\tLoss: 0.048726\n",
      "Train Epoch: 3 [30720/60000]\tLoss: 0.117085\n",
      "Train Epoch: 3 [31360/60000]\tLoss: 0.195829\n",
      "Train Epoch: 3 [32000/60000]\tLoss: 0.073484\n",
      "Train Epoch: 3 [32640/60000]\tLoss: 0.188541\n",
      "Train Epoch: 3 [33280/60000]\tLoss: 0.035612\n",
      "Train Epoch: 3 [33920/60000]\tLoss: 0.090672\n",
      "Train Epoch: 3 [34560/60000]\tLoss: 0.074291\n",
      "Train Epoch: 3 [35200/60000]\tLoss: 0.112198\n",
      "Train Epoch: 3 [35840/60000]\tLoss: 0.066204\n",
      "Train Epoch: 3 [36480/60000]\tLoss: 0.184226\n",
      "Train Epoch: 3 [37120/60000]\tLoss: 0.247615\n",
      "Train Epoch: 3 [37760/60000]\tLoss: 0.242706\n",
      "Train Epoch: 3 [38400/60000]\tLoss: 0.065556\n",
      "Train Epoch: 3 [39040/60000]\tLoss: 0.167269\n",
      "Train Epoch: 3 [39680/60000]\tLoss: 0.135247\n",
      "Train Epoch: 3 [40320/60000]\tLoss: 0.103368\n",
      "Train Epoch: 3 [40960/60000]\tLoss: 0.185391\n",
      "Train Epoch: 3 [41600/60000]\tLoss: 0.055487\n",
      "Train Epoch: 3 [42240/60000]\tLoss: 0.275155\n",
      "Train Epoch: 3 [42880/60000]\tLoss: 0.059270\n",
      "Train Epoch: 3 [43520/60000]\tLoss: 0.112292\n",
      "Train Epoch: 3 [44160/60000]\tLoss: 0.100865\n",
      "Train Epoch: 3 [44800/60000]\tLoss: 0.034016\n",
      "Train Epoch: 3 [45440/60000]\tLoss: 0.123914\n",
      "Train Epoch: 3 [46080/60000]\tLoss: 0.221048\n",
      "Train Epoch: 3 [46720/60000]\tLoss: 0.070700\n",
      "Train Epoch: 3 [47360/60000]\tLoss: 0.072631\n",
      "Train Epoch: 3 [48000/60000]\tLoss: 0.131866\n",
      "Train Epoch: 3 [48640/60000]\tLoss: 0.165392\n",
      "Train Epoch: 3 [49280/60000]\tLoss: 0.098228\n",
      "Train Epoch: 3 [49920/60000]\tLoss: 0.189004\n",
      "Train Epoch: 3 [50560/60000]\tLoss: 0.046427\n",
      "Train Epoch: 3 [51200/60000]\tLoss: 0.057679\n",
      "Train Epoch: 3 [51840/60000]\tLoss: 0.069715\n",
      "Train Epoch: 3 [52480/60000]\tLoss: 0.180911\n",
      "Train Epoch: 3 [53120/60000]\tLoss: 0.115184\n",
      "Train Epoch: 3 [53760/60000]\tLoss: 0.153902\n",
      "Train Epoch: 3 [54400/60000]\tLoss: 0.143590\n",
      "Train Epoch: 3 [55040/60000]\tLoss: 0.088401\n",
      "Train Epoch: 3 [55680/60000]\tLoss: 0.106306\n",
      "Train Epoch: 3 [56320/60000]\tLoss: 0.154440\n",
      "Train Epoch: 3 [56960/60000]\tLoss: 0.035096\n",
      "Train Epoch: 3 [57600/60000]\tLoss: 0.073299\n",
      "Train Epoch: 3 [58240/60000]\tLoss: 0.219626\n",
      "Train Epoch: 3 [58880/60000]\tLoss: 0.154867\n",
      "Train Epoch: 3 [59520/60000]\tLoss: 0.038529\n",
      "\n",
      "Test set: Avg. loss: 0.0601, Accuracy: 9806/10000 (98%)\n",
      "\n"
     ]
    }
   ],
   "source": [
    "# Get initial performance\n",
    "test()\n",
    "# Train for three epochs\n",
    "n_epochs = 3\n",
    "for epoch in range(1, n_epochs + 1):\n",
    "  train(epoch)\n",
    "  test()"
   ]
  },
  {
   "cell_type": "code",
   "execution_count": 10,
   "metadata": {
    "id": "o7fRUAy9Se1B"
   },
   "outputs": [
    {
     "data": {
      "image/png": "[encoded data removed]",
      "text/plain": [
       "<Figure size 640x480 with 10 Axes>"
      ]
     },
     "metadata": {},
     "output_type": "display_data"
    }
   ],
   "source": [
    "# Run network on data we got before and show predictions\n",
    "output = model(example_data)\n",
    "\n",
    "fig = plt.figure()\n",
    "for i in range(10):\n",
    "  plt.subplot(5,5,i+1)\n",
    "  plt.tight_layout()\n",
    "  plt.imshow(example_data[i][0], cmap='gray', interpolation='none')\n",
    "  plt.title(\"Prediction: {}\".format(\n",
    "    output.data.max(1, keepdim=True)[1][i].item()))\n",
    "  plt.xticks([])\n",
    "  plt.yticks([])\n",
    "plt.show()"
   ]
  }
 ],
 "metadata": {
  "colab": {
   "authorship_tag": "ABX9TyORZF8xy4X1yf4oRhRq8Rtm",
   "include_colab_link": true,
   "provenance": []
  },
  "kernelspec": {
   "display_name": "MNIST1D_env",
   "language": "python",
   "name": "mnist1d_env"
  },
  "language_info": {
   "codemirror_mode": {
    "name": "ipython",
    "version": 3
   },
   "file_extension": ".py",
   "mimetype": "text/x-python",
   "name": "python",
   "nbconvert_exporter": "python",
   "pygments_lexer": "ipython3",
   "version": "3.12.4"
  }
 },
 "nbformat": 4,
 "nbformat_minor": 4
}
